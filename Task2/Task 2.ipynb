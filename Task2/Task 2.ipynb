{
 "cells": [
  {
   "cell_type": "code",
   "execution_count": 101,
   "id": "e52b89ca",
   "metadata": {},
   "outputs": [],
   "source": [
    "import numpy as np\n",
    "import pandas as pd\n",
    "from sklearn.impute import (SimpleImputer, KNNImputer)\n",
    "from sklearn.feature_selection import SelectKBest"
   ]
  },
  {
   "cell_type": "code",
   "execution_count": 244,
   "id": "dbc2c43c",
   "metadata": {},
   "outputs": [
    {
     "data": {
      "text/plain": [
       "(227940, 37)"
      ]
     },
     "execution_count": 244,
     "metadata": {},
     "output_type": "execute_result"
    }
   ],
   "source": [
    "\n",
    "df_train_features = pd.read_csv('./train_features.csv')\n",
    "df_train_labels   = pd.read_csv('./train_labels.csv')\n",
    "df_test_features  = pd.read_csv('./test_features.csv')\n",
    "X = df_train_features.values\n",
    "label=df_train_labels.values\n",
    "X_test = df_test_features.values\n",
    "X.shape"
   ]
  },
  {
   "cell_type": "code",
   "execution_count": 245,
   "id": "7d7c228e",
   "metadata": {},
   "outputs": [],
   "source": [
    "idf=df_train_features.iloc[:,0]\n",
    "ifl=df_train_labels.iloc[:,0]\n",
    "idt=df_test_features.iloc[:,0]\n",
    "idf_unique = pd.unique(idf)\n",
    "idt_unique=pd.unique(idt)"
   ]
  },
  {
   "cell_type": "code",
   "execution_count": 246,
   "id": "c1db02e7",
   "metadata": {},
   "outputs": [],
   "source": [
    "def preprocessing(X, n_neighbors=75, method='KNN'):\n",
    "\n",
    "    X_std= np.nanstd(X, axis=0, keepdims=True)\n",
    "    X_mean= np.nanmean(X, axis=0, keepdims=True)\n",
    "    X_norm= (X- X_mean)/X_std\n",
    "\n",
    "    imputer = KNNImputer(missing_values=np.nan, n_neighbors=n_neighbors, weights='distance') if method =='KNN'\\\n",
    "        else SimpleImputer (missing_values=np.nan, strategy='median')\n",
    "\n",
    "    X_norm_fixed= imputer.fit_transform(X_norm)\n",
    "\n",
    "    return X_norm_fixed"
   ]
  },
  {
   "cell_type": "code",
   "execution_count": 247,
   "id": "38d7bca7",
   "metadata": {},
   "outputs": [
    {
     "name": "stdout",
     "output_type": "stream",
     "text": [
      "[[-1.7250923  -0.85121278 -1.70642596 ... -0.28285627  0.84344393\n",
      "  -0.50054209]\n",
      " [-1.7250923  -0.63917285 -1.70642596 ... -0.28285627  0.113008\n",
      "  -0.50054209]\n",
      " [-1.7250923  -0.42713292 -1.70642596 ... -0.28285627 -0.53149428\n",
      "   0.03721993]\n",
      " ...\n",
      " [-0.63263872  0.63306673  1.39353544 ... -0.28285627  0.67157665\n",
      "   0.03721993]\n",
      " [-0.63263872  0.84510666  1.39353544 ... -0.28285627  0.113008\n",
      "   0.03721993]\n",
      " [-0.63263872  1.05714659  1.39353544 ... -0.28285627  0.24190846\n",
      "   0.03721993]]\n",
      "(array([12, 13, 14, 15, 16, 17, 18, 19, 20, 21, 22, 23], dtype=int64),)\n"
     ]
    }
   ],
   "source": [
    "X_norm_fixed = preprocessing(X, method = 'median')\n",
    "X_test_fixed = preprocessing(X_test, method = 'median')\n",
    "print(X_norm_fixed)\n",
    "pid_idx = np.where(X[:,0]==10)\n",
    "print(pid_idx)"
   ]
  },
  {
   "cell_type": "code",
   "execution_count": 248,
   "id": "30c89709",
   "metadata": {},
   "outputs": [],
   "source": [
    "def get_patient_data(pid):\n",
    "    pid_idx = np.where(X[:,0]==pid)\n",
    "    return X_norm_fixed[pid_idx, :].reshape([12,37])\n",
    "\n",
    "def get_patient_data_test(pid_index):\n",
    "    pid_idx = np.where(X_test[:,0]==pid_index)\n",
    "    return X_test_fixed[pid_idx, :].reshape([12,37])"
   ]
  },
  {
   "cell_type": "code",
   "execution_count": 124,
   "id": "b600ee9b",
   "metadata": {},
   "outputs": [
    {
     "data": {
      "text/plain": [
       "(12, 37)"
      ]
     },
     "execution_count": 124,
     "metadata": {},
     "output_type": "execute_result"
    }
   ],
   "source": [
    "X_1=get_patient_data(10)\n",
    "X_1.shape"
   ]
  },
  {
   "cell_type": "code",
   "execution_count": 121,
   "id": "59b30de8",
   "metadata": {},
   "outputs": [
    {
     "data": {
      "text/plain": [
       "array([-1.7241089 , -1.27529265,  0.54256564,  0.01498224, -0.30311906,\n",
       "       -0.30926529, -0.31286483,  0.16895924, -0.06179241,  0.09353697,\n",
       "        0.05707343, -0.03058222, -0.22179091, -0.1535099 , -0.13268913,\n",
       "       -0.31388775, -0.12494276, -0.23059474, -0.00822398, -0.15041668,\n",
       "        0.3664487 , -0.21389641, -0.1285392 , -0.00948796, -0.078682  ,\n",
       "       -0.14473443,  0.36943647, -0.21013043,  0.12079291, -0.39083107,\n",
       "        0.12505594, -0.06638969, -0.0862856 , -0.25924228, -0.28285627,\n",
       "       -0.14479291,  0.03721993])"
      ]
     },
     "execution_count": 121,
     "metadata": {},
     "output_type": "execute_result"
    }
   ],
   "source": [
    "X_norm_fixed[12,:]"
   ]
  },
  {
   "cell_type": "markdown",
   "id": "3afef689",
   "metadata": {},
   "source": [
    "Sub-task 1\n",
    "<font color = blue>\n",
    "    "
   ]
  },
  {
   "cell_type": "code",
   "execution_count": 249,
   "id": "ae9b34c6",
   "metadata": {},
   "outputs": [
    {
     "name": "stdout",
     "output_type": "stream",
     "text": [
      "[[-1.7250923   0.31500683 -1.70642596 ... -0.42163303 -0.25924228\n",
      "  -0.28285627]\n",
      " [-1.7241089  -0.10907303  0.54256564 ... -0.30355295 -0.24639742\n",
      "  -0.2833198 ]\n",
      " [-1.71427485  0.1029669   0.36021497 ...  1.39207704 -0.25924228\n",
      "  -0.28285627]\n",
      " ...\n",
      " [-0.63296652  1.16316656 -0.55153838 ...  0.79223022 -0.25924228\n",
      "  -0.28285627]\n",
      " [-0.63274798 -0.10907303  1.63666967 ...  0.66470373 -0.25924228\n",
      "  -0.27388363]\n",
      " [-0.63263872 -0.10907303  1.39353544 ... -0.33661537 -0.25924228\n",
      "  -0.28285627]]\n"
     ]
    }
   ],
   "source": [
    "#--training data preprocessing\n",
    "x_imputed = np.zeros((int(df_train_features.shape[0]/12), 35))\n",
    "\n",
    "for pid_idx in range(len(idf_unique)):\n",
    "    # get training data for a patient (dim 12 x d)\n",
    "    x_patient = get_patient_data(idf_unique[pid_idx])\n",
    "    x_patient_imputed = np.array([0.]*35)\n",
    "    \n",
    "    # deal with column seperately\n",
    "    for col in range(len(x_patient[1, 2:])):\n",
    "\n",
    "         x_patient_imputed[col]=np.mean(x_patient, axis = 0)[col]\n",
    "         \n",
    "    # Concatenate imputed data for every patient\n",
    "    \n",
    "    x_imputed[pid_idx, :] = x_patient_imputed\n",
    "    \n",
    "print(x_imputed)\n"
   ]
  },
  {
   "cell_type": "code",
   "execution_count": 179,
   "id": "fba30b0f",
   "metadata": {},
   "outputs": [
    {
     "name": "stdout",
     "output_type": "stream",
     "text": [
      "[[-1.74229257 -0.11283712 -1.41719456 ... -0.02989306  0.91381053\n",
      "  -0.2958202 ]\n",
      " [-0.64566007 -0.11283712 -0.0094439  ...  1.2601508  -0.26411003\n",
      "  -0.2958202 ]\n",
      " [-0.64544076 -0.11283712  0.6026216  ...  0.33056037 -0.26411003\n",
      "  -0.2958202 ]\n",
      " ...\n",
      " [-0.64664694  0.33801295 -0.68271596 ... -0.14846327 -0.26411003\n",
      "  -0.2958202 ]\n",
      " [-0.64642763  0.11258791 -0.62150941 ...  0.89495456 -0.2514714\n",
      "  -0.2958202 ]\n",
      " [-0.64609868 -0.11283712 -0.31547666 ...  0.117134   -0.26411003\n",
      "  -0.2958202 ]]\n"
     ]
    }
   ],
   "source": [
    "# test data preprocessing\n",
    "x_test_imputed = np.zeros((int(df_test_features.shape[0]/12), 35))\n",
    "\n",
    "for pid_idx in range(len(idt_unique)):\n",
    "   \n",
    "    x_test_patient = get_patient_data_test(idt_unique[pid_idx])\n",
    "    x_test_patient_imputed = np.array([0.]*35)\n",
    "    \n",
    "    # deal with column seperately\n",
    "    for col in range(len(x_test_patient[1, 2:])):\n",
    "      \n",
    "        x_test_patient_imputed[col]=np.mean(x_test_patient, axis = 0)[col]\n",
    "            \n",
    "    # Concatenate imputed data for every patient\n",
    "    x_test_imputed[pid_idx, :] = x_test_patient_imputed\n",
    "    \n",
    "print(x_test_imputed)"
   ]
  },
  {
   "cell_type": "code",
   "execution_count": 180,
   "id": "0db5ed8c",
   "metadata": {},
   "outputs": [
    {
     "data": {
      "text/plain": [
       "(18995, 35)"
      ]
     },
     "execution_count": 180,
     "metadata": {},
     "output_type": "execute_result"
    }
   ],
   "source": [
    "x_imputed.shape"
   ]
  },
  {
   "cell_type": "code",
   "execution_count": 250,
   "id": "e67946bb",
   "metadata": {},
   "outputs": [
    {
     "data": {
      "text/plain": [
       "0        0.0\n",
       "1        0.0\n",
       "2        0.0\n",
       "3        0.0\n",
       "4        0.0\n",
       "        ... \n",
       "18990    0.0\n",
       "18991    0.0\n",
       "18992    0.0\n",
       "18993    0.0\n",
       "18994    0.0\n",
       "Name: LABEL_Sepsis, Length: 18995, dtype: float64"
      ]
     },
     "execution_count": 250,
     "metadata": {},
     "output_type": "execute_result"
    }
   ],
   "source": [
    "label_2=df_train_labels.iloc[:,11]\n",
    "label_2"
   ]
  },
  {
   "cell_type": "markdown",
   "id": "c8debd53",
   "metadata": {},
   "source": [
    "Subtask-1 and 2"
   ]
  },
  {
   "cell_type": "code",
   "execution_count": 274,
   "id": "ee592b36",
   "metadata": {},
   "outputs": [],
   "source": [
    "Labels=['pid','LABEL_BaseExcess', 'LABEL_Fibrinogen', 'LABEL_AST', 'LABEL_Alkalinephos', 'LABEL_Bilirubin_total',\n",
    "         'LABEL_Lactate', 'LABEL_TroponinI', 'LABEL_SaO2',\n",
    "         'LABEL_Bilirubin_direct', 'LABEL_EtCO2','LABEL_Sepsis','LABEL_RRate', 'LABEL_ABPm', 'LABEL_SpO2', 'LABEL_Heartrate']\n",
    "result = pd.DataFrame(np.array([[0]*16]), columns=Labels)"
   ]
  },
  {
   "cell_type": "code",
   "execution_count": null,
   "id": "ae0009c6",
   "metadata": {},
   "outputs": [],
   "source": []
  },
  {
   "cell_type": "code",
   "execution_count": 221,
   "id": "1c431c35",
   "metadata": {},
   "outputs": [
    {
     "data": {
      "text/plain": [
       "(18995, 11)"
      ]
     },
     "execution_count": 221,
     "metadata": {},
     "output_type": "execute_result"
    }
   ],
   "source": [
    "y_train.shape"
   ]
  },
  {
   "cell_type": "code",
   "execution_count": 261,
   "id": "25e4ee23",
   "metadata": {},
   "outputs": [],
   "source": [
    "from sklearn.pipeline import make_pipeline\n",
    "from sklearn.linear_model import SGDClassifier\n",
    "from sklearn.model_selection import (GridSearchCV,\n",
    "    cross_val_score, KFold)\n",
    "from sklearn.multiclass import OneVsRestClassifier\n",
    "from sklearn.experimental import enable_hist_gradient_boosting\n",
    "from sklearn.ensemble import (HistGradientBoostingClassifier,RandomForestClassifier)\n",
    "from sklearn.impute import SimpleImputer\n",
    "from sklearn.preprocessing import StandardScaler\n",
    "import sklearn.metrics as metrics"
   ]
  },
  {
   "cell_type": "code",
   "execution_count": 242,
   "id": "9fca848d",
   "metadata": {},
   "outputs": [
    {
     "ename": "IndexError",
     "evalue": "too many indices for array: array is 1-dimensional, but 2 were indexed",
     "output_type": "error",
     "traceback": [
      "\u001b[1;31m---------------------------------------------------------------------------\u001b[0m",
      "\u001b[1;31mIndexError\u001b[0m                                Traceback (most recent call last)",
      "\u001b[1;32m<ipython-input-242-d03c717d1763>\u001b[0m in \u001b[0;36m<module>\u001b[1;34m\u001b[0m\n\u001b[0;32m     15\u001b[0m                         \u001b[0mStandardScaler\u001b[0m\u001b[1;33m(\u001b[0m\u001b[1;33m)\u001b[0m\u001b[1;33m,\u001b[0m\u001b[1;33m\u001b[0m\u001b[1;33m\u001b[0m\u001b[0m\n\u001b[0;32m     16\u001b[0m                         RandomForestClassifier(min_samples_leaf=20, class_weight='balanced', n_estimators=100))\n\u001b[1;32m---> 17\u001b[1;33m     scores = cross_val_score(pipeline, x_imputed, y_train[:, i],\n\u001b[0m\u001b[0;32m     18\u001b[0m                                 \u001b[0mcv\u001b[0m\u001b[1;33m=\u001b[0m\u001b[1;36m5\u001b[0m\u001b[1;33m,\u001b[0m\u001b[1;33m\u001b[0m\u001b[1;33m\u001b[0m\u001b[0m\n\u001b[0;32m     19\u001b[0m                                 scoring='roc_auc')\n",
      "\u001b[1;31mIndexError\u001b[0m: too many indices for array: array is 1-dimensional, but 2 were indexed"
     ]
    }
   ],
   "source": [
    "\n",
    "\n",
    "\n",
    "for i, label in enumerate(task12_labels):\n",
    "    pipeline = make_pipeline(\n",
    "                        StandardScaler(),\n",
    "                        RandomForestClassifier(min_samples_leaf=20, class_weight='balanced', n_estimators=100))\n",
    "    scores = cross_val_score(pipeline, x_imputed, y_train[:, i],\n",
    "                                cv=5,\n",
    "                                scoring='roc_auc')\n",
    "    print(\"Cross-validation score is {score:.3f},\"\n",
    "          \" standard deviation is {err:.3f}\"\n",
    "          .format(score = scores.mean(), err = scores.std()))"
   ]
  },
  {
   "cell_type": "code",
   "execution_count": 252,
   "id": "406614f5",
   "metadata": {},
   "outputs": [
    {
     "name": "stdout",
     "output_type": "stream",
     "text": [
      "[0. 0. 0. ... 0. 0. 0.]\n"
     ]
    },
    {
     "data": {
      "text/plain": [
       "0        0.0\n",
       "1        0.0\n",
       "2        0.0\n",
       "3        0.0\n",
       "4        0.0\n",
       "        ... \n",
       "18990    0.0\n",
       "18991    0.0\n",
       "18992    0.0\n",
       "18993    0.0\n",
       "18994    0.0\n",
       "Name: LABEL_Sepsis, Length: 18995, dtype: float64"
      ]
     },
     "execution_count": 252,
     "metadata": {},
     "output_type": "execute_result"
    }
   ],
   "source": [
    "l=label[:,11]\n",
    "print(l)\n",
    "df_train_labels.iloc[:,11]"
   ]
  },
  {
   "cell_type": "code",
   "execution_count": 257,
   "id": "9017e304",
   "metadata": {},
   "outputs": [],
   "source": [
    "from tqdm import tqdm"
   ]
  },
  {
   "cell_type": "code",
   "execution_count": 260,
   "id": "449ba212",
   "metadata": {},
   "outputs": [
    {
     "name": "stderr",
     "output_type": "stream",
     "text": [
      "  0%|          | 0/12 [00:22<?, ?it/s]\n"
     ]
    },
    {
     "ename": "KeyboardInterrupt",
     "evalue": "",
     "output_type": "error",
     "traceback": [
      "\u001b[1;31m---------------------------------------------------------------------------\u001b[0m",
      "\u001b[1;31mKeyboardInterrupt\u001b[0m                         Traceback (most recent call last)",
      "\u001b[1;32m<ipython-input-260-b4ace8ca5a4d>\u001b[0m in \u001b[0;36m<module>\u001b[1;34m\u001b[0m\n\u001b[0;32m      8\u001b[0m \u001b[1;33m\u001b[0m\u001b[0m\n\u001b[0;32m      9\u001b[0m \u001b[1;31m#     brm_clf = OneVsRestClassifier(c)\u001b[0m\u001b[1;33m\u001b[0m\u001b[1;33m\u001b[0m\u001b[1;33m\u001b[0m\u001b[0m\n\u001b[1;32m---> 10\u001b[1;33m     \u001b[0mc\u001b[0m\u001b[1;33m.\u001b[0m\u001b[0mfit\u001b[0m\u001b[1;33m(\u001b[0m\u001b[0mx_imputed\u001b[0m\u001b[1;33m,\u001b[0m \u001b[0my_train\u001b[0m\u001b[1;33m)\u001b[0m\u001b[1;33m\u001b[0m\u001b[1;33m\u001b[0m\u001b[0m\n\u001b[0m\u001b[0;32m     11\u001b[0m \u001b[1;33m\u001b[0m\u001b[0m\n\u001b[0;32m     12\u001b[0m     \u001b[1;31m# Predict the Labels for the test features\u001b[0m\u001b[1;33m\u001b[0m\u001b[1;33m\u001b[0m\u001b[1;33m\u001b[0m\u001b[0m\n",
      "\u001b[1;32m~\\anaconda3\\lib\\site-packages\\sklearn\\ensemble\\_forest.py\u001b[0m in \u001b[0;36mfit\u001b[1;34m(self, X, y, sample_weight)\u001b[0m\n\u001b[0;32m    385\u001b[0m             \u001b[1;31m# parallel_backend contexts set at a higher level,\u001b[0m\u001b[1;33m\u001b[0m\u001b[1;33m\u001b[0m\u001b[1;33m\u001b[0m\u001b[0m\n\u001b[0;32m    386\u001b[0m             \u001b[1;31m# since correctness does not rely on using threads.\u001b[0m\u001b[1;33m\u001b[0m\u001b[1;33m\u001b[0m\u001b[1;33m\u001b[0m\u001b[0m\n\u001b[1;32m--> 387\u001b[1;33m             trees = Parallel(n_jobs=self.n_jobs, verbose=self.verbose,\n\u001b[0m\u001b[0;32m    388\u001b[0m                              \u001b[1;33m**\u001b[0m\u001b[0m_joblib_parallel_args\u001b[0m\u001b[1;33m(\u001b[0m\u001b[0mprefer\u001b[0m\u001b[1;33m=\u001b[0m\u001b[1;34m'threads'\u001b[0m\u001b[1;33m)\u001b[0m\u001b[1;33m)\u001b[0m\u001b[1;33m(\u001b[0m\u001b[1;33m\u001b[0m\u001b[1;33m\u001b[0m\u001b[0m\n\u001b[0;32m    389\u001b[0m                 delayed(_parallel_build_trees)(\n",
      "\u001b[1;32m~\\anaconda3\\lib\\site-packages\\joblib\\parallel.py\u001b[0m in \u001b[0;36m__call__\u001b[1;34m(self, iterable)\u001b[0m\n\u001b[0;32m   1039\u001b[0m             \u001b[1;31m# remaining jobs.\u001b[0m\u001b[1;33m\u001b[0m\u001b[1;33m\u001b[0m\u001b[1;33m\u001b[0m\u001b[0m\n\u001b[0;32m   1040\u001b[0m             \u001b[0mself\u001b[0m\u001b[1;33m.\u001b[0m\u001b[0m_iterating\u001b[0m \u001b[1;33m=\u001b[0m \u001b[1;32mFalse\u001b[0m\u001b[1;33m\u001b[0m\u001b[1;33m\u001b[0m\u001b[0m\n\u001b[1;32m-> 1041\u001b[1;33m             \u001b[1;32mif\u001b[0m \u001b[0mself\u001b[0m\u001b[1;33m.\u001b[0m\u001b[0mdispatch_one_batch\u001b[0m\u001b[1;33m(\u001b[0m\u001b[0miterator\u001b[0m\u001b[1;33m)\u001b[0m\u001b[1;33m:\u001b[0m\u001b[1;33m\u001b[0m\u001b[1;33m\u001b[0m\u001b[0m\n\u001b[0m\u001b[0;32m   1042\u001b[0m                 \u001b[0mself\u001b[0m\u001b[1;33m.\u001b[0m\u001b[0m_iterating\u001b[0m \u001b[1;33m=\u001b[0m \u001b[0mself\u001b[0m\u001b[1;33m.\u001b[0m\u001b[0m_original_iterator\u001b[0m \u001b[1;32mis\u001b[0m \u001b[1;32mnot\u001b[0m \u001b[1;32mNone\u001b[0m\u001b[1;33m\u001b[0m\u001b[1;33m\u001b[0m\u001b[0m\n\u001b[0;32m   1043\u001b[0m \u001b[1;33m\u001b[0m\u001b[0m\n",
      "\u001b[1;32m~\\anaconda3\\lib\\site-packages\\joblib\\parallel.py\u001b[0m in \u001b[0;36mdispatch_one_batch\u001b[1;34m(self, iterator)\u001b[0m\n\u001b[0;32m    857\u001b[0m                 \u001b[1;32mreturn\u001b[0m \u001b[1;32mFalse\u001b[0m\u001b[1;33m\u001b[0m\u001b[1;33m\u001b[0m\u001b[0m\n\u001b[0;32m    858\u001b[0m             \u001b[1;32melse\u001b[0m\u001b[1;33m:\u001b[0m\u001b[1;33m\u001b[0m\u001b[1;33m\u001b[0m\u001b[0m\n\u001b[1;32m--> 859\u001b[1;33m                 \u001b[0mself\u001b[0m\u001b[1;33m.\u001b[0m\u001b[0m_dispatch\u001b[0m\u001b[1;33m(\u001b[0m\u001b[0mtasks\u001b[0m\u001b[1;33m)\u001b[0m\u001b[1;33m\u001b[0m\u001b[1;33m\u001b[0m\u001b[0m\n\u001b[0m\u001b[0;32m    860\u001b[0m                 \u001b[1;32mreturn\u001b[0m \u001b[1;32mTrue\u001b[0m\u001b[1;33m\u001b[0m\u001b[1;33m\u001b[0m\u001b[0m\n\u001b[0;32m    861\u001b[0m \u001b[1;33m\u001b[0m\u001b[0m\n",
      "\u001b[1;32m~\\anaconda3\\lib\\site-packages\\joblib\\parallel.py\u001b[0m in \u001b[0;36m_dispatch\u001b[1;34m(self, batch)\u001b[0m\n\u001b[0;32m    775\u001b[0m         \u001b[1;32mwith\u001b[0m \u001b[0mself\u001b[0m\u001b[1;33m.\u001b[0m\u001b[0m_lock\u001b[0m\u001b[1;33m:\u001b[0m\u001b[1;33m\u001b[0m\u001b[1;33m\u001b[0m\u001b[0m\n\u001b[0;32m    776\u001b[0m             \u001b[0mjob_idx\u001b[0m \u001b[1;33m=\u001b[0m \u001b[0mlen\u001b[0m\u001b[1;33m(\u001b[0m\u001b[0mself\u001b[0m\u001b[1;33m.\u001b[0m\u001b[0m_jobs\u001b[0m\u001b[1;33m)\u001b[0m\u001b[1;33m\u001b[0m\u001b[1;33m\u001b[0m\u001b[0m\n\u001b[1;32m--> 777\u001b[1;33m             \u001b[0mjob\u001b[0m \u001b[1;33m=\u001b[0m \u001b[0mself\u001b[0m\u001b[1;33m.\u001b[0m\u001b[0m_backend\u001b[0m\u001b[1;33m.\u001b[0m\u001b[0mapply_async\u001b[0m\u001b[1;33m(\u001b[0m\u001b[0mbatch\u001b[0m\u001b[1;33m,\u001b[0m \u001b[0mcallback\u001b[0m\u001b[1;33m=\u001b[0m\u001b[0mcb\u001b[0m\u001b[1;33m)\u001b[0m\u001b[1;33m\u001b[0m\u001b[1;33m\u001b[0m\u001b[0m\n\u001b[0m\u001b[0;32m    778\u001b[0m             \u001b[1;31m# A job can complete so quickly than its callback is\u001b[0m\u001b[1;33m\u001b[0m\u001b[1;33m\u001b[0m\u001b[1;33m\u001b[0m\u001b[0m\n\u001b[0;32m    779\u001b[0m             \u001b[1;31m# called before we get here, causing self._jobs to\u001b[0m\u001b[1;33m\u001b[0m\u001b[1;33m\u001b[0m\u001b[1;33m\u001b[0m\u001b[0m\n",
      "\u001b[1;32m~\\anaconda3\\lib\\site-packages\\joblib\\_parallel_backends.py\u001b[0m in \u001b[0;36mapply_async\u001b[1;34m(self, func, callback)\u001b[0m\n\u001b[0;32m    206\u001b[0m     \u001b[1;32mdef\u001b[0m \u001b[0mapply_async\u001b[0m\u001b[1;33m(\u001b[0m\u001b[0mself\u001b[0m\u001b[1;33m,\u001b[0m \u001b[0mfunc\u001b[0m\u001b[1;33m,\u001b[0m \u001b[0mcallback\u001b[0m\u001b[1;33m=\u001b[0m\u001b[1;32mNone\u001b[0m\u001b[1;33m)\u001b[0m\u001b[1;33m:\u001b[0m\u001b[1;33m\u001b[0m\u001b[1;33m\u001b[0m\u001b[0m\n\u001b[0;32m    207\u001b[0m         \u001b[1;34m\"\"\"Schedule a func to be run\"\"\"\u001b[0m\u001b[1;33m\u001b[0m\u001b[1;33m\u001b[0m\u001b[0m\n\u001b[1;32m--> 208\u001b[1;33m         \u001b[0mresult\u001b[0m \u001b[1;33m=\u001b[0m \u001b[0mImmediateResult\u001b[0m\u001b[1;33m(\u001b[0m\u001b[0mfunc\u001b[0m\u001b[1;33m)\u001b[0m\u001b[1;33m\u001b[0m\u001b[1;33m\u001b[0m\u001b[0m\n\u001b[0m\u001b[0;32m    209\u001b[0m         \u001b[1;32mif\u001b[0m \u001b[0mcallback\u001b[0m\u001b[1;33m:\u001b[0m\u001b[1;33m\u001b[0m\u001b[1;33m\u001b[0m\u001b[0m\n\u001b[0;32m    210\u001b[0m             \u001b[0mcallback\u001b[0m\u001b[1;33m(\u001b[0m\u001b[0mresult\u001b[0m\u001b[1;33m)\u001b[0m\u001b[1;33m\u001b[0m\u001b[1;33m\u001b[0m\u001b[0m\n",
      "\u001b[1;32m~\\anaconda3\\lib\\site-packages\\joblib\\_parallel_backends.py\u001b[0m in \u001b[0;36m__init__\u001b[1;34m(self, batch)\u001b[0m\n\u001b[0;32m    570\u001b[0m         \u001b[1;31m# Don't delay the application, to avoid keeping the input\u001b[0m\u001b[1;33m\u001b[0m\u001b[1;33m\u001b[0m\u001b[1;33m\u001b[0m\u001b[0m\n\u001b[0;32m    571\u001b[0m         \u001b[1;31m# arguments in memory\u001b[0m\u001b[1;33m\u001b[0m\u001b[1;33m\u001b[0m\u001b[1;33m\u001b[0m\u001b[0m\n\u001b[1;32m--> 572\u001b[1;33m         \u001b[0mself\u001b[0m\u001b[1;33m.\u001b[0m\u001b[0mresults\u001b[0m \u001b[1;33m=\u001b[0m \u001b[0mbatch\u001b[0m\u001b[1;33m(\u001b[0m\u001b[1;33m)\u001b[0m\u001b[1;33m\u001b[0m\u001b[1;33m\u001b[0m\u001b[0m\n\u001b[0m\u001b[0;32m    573\u001b[0m \u001b[1;33m\u001b[0m\u001b[0m\n\u001b[0;32m    574\u001b[0m     \u001b[1;32mdef\u001b[0m \u001b[0mget\u001b[0m\u001b[1;33m(\u001b[0m\u001b[0mself\u001b[0m\u001b[1;33m)\u001b[0m\u001b[1;33m:\u001b[0m\u001b[1;33m\u001b[0m\u001b[1;33m\u001b[0m\u001b[0m\n",
      "\u001b[1;32m~\\anaconda3\\lib\\site-packages\\joblib\\parallel.py\u001b[0m in \u001b[0;36m__call__\u001b[1;34m(self)\u001b[0m\n\u001b[0;32m    260\u001b[0m         \u001b[1;31m# change the default number of processes to -1\u001b[0m\u001b[1;33m\u001b[0m\u001b[1;33m\u001b[0m\u001b[1;33m\u001b[0m\u001b[0m\n\u001b[0;32m    261\u001b[0m         \u001b[1;32mwith\u001b[0m \u001b[0mparallel_backend\u001b[0m\u001b[1;33m(\u001b[0m\u001b[0mself\u001b[0m\u001b[1;33m.\u001b[0m\u001b[0m_backend\u001b[0m\u001b[1;33m,\u001b[0m \u001b[0mn_jobs\u001b[0m\u001b[1;33m=\u001b[0m\u001b[0mself\u001b[0m\u001b[1;33m.\u001b[0m\u001b[0m_n_jobs\u001b[0m\u001b[1;33m)\u001b[0m\u001b[1;33m:\u001b[0m\u001b[1;33m\u001b[0m\u001b[1;33m\u001b[0m\u001b[0m\n\u001b[1;32m--> 262\u001b[1;33m             return [func(*args, **kwargs)\n\u001b[0m\u001b[0;32m    263\u001b[0m                     for func, args, kwargs in self.items]\n\u001b[0;32m    264\u001b[0m \u001b[1;33m\u001b[0m\u001b[0m\n",
      "\u001b[1;32m~\\anaconda3\\lib\\site-packages\\joblib\\parallel.py\u001b[0m in \u001b[0;36m<listcomp>\u001b[1;34m(.0)\u001b[0m\n\u001b[0;32m    260\u001b[0m         \u001b[1;31m# change the default number of processes to -1\u001b[0m\u001b[1;33m\u001b[0m\u001b[1;33m\u001b[0m\u001b[1;33m\u001b[0m\u001b[0m\n\u001b[0;32m    261\u001b[0m         \u001b[1;32mwith\u001b[0m \u001b[0mparallel_backend\u001b[0m\u001b[1;33m(\u001b[0m\u001b[0mself\u001b[0m\u001b[1;33m.\u001b[0m\u001b[0m_backend\u001b[0m\u001b[1;33m,\u001b[0m \u001b[0mn_jobs\u001b[0m\u001b[1;33m=\u001b[0m\u001b[0mself\u001b[0m\u001b[1;33m.\u001b[0m\u001b[0m_n_jobs\u001b[0m\u001b[1;33m)\u001b[0m\u001b[1;33m:\u001b[0m\u001b[1;33m\u001b[0m\u001b[1;33m\u001b[0m\u001b[0m\n\u001b[1;32m--> 262\u001b[1;33m             return [func(*args, **kwargs)\n\u001b[0m\u001b[0;32m    263\u001b[0m                     for func, args, kwargs in self.items]\n\u001b[0;32m    264\u001b[0m \u001b[1;33m\u001b[0m\u001b[0m\n",
      "\u001b[1;32m~\\anaconda3\\lib\\site-packages\\sklearn\\utils\\fixes.py\u001b[0m in \u001b[0;36m__call__\u001b[1;34m(self, *args, **kwargs)\u001b[0m\n\u001b[0;32m    220\u001b[0m     \u001b[1;32mdef\u001b[0m \u001b[0m__call__\u001b[0m\u001b[1;33m(\u001b[0m\u001b[0mself\u001b[0m\u001b[1;33m,\u001b[0m \u001b[1;33m*\u001b[0m\u001b[0margs\u001b[0m\u001b[1;33m,\u001b[0m \u001b[1;33m**\u001b[0m\u001b[0mkwargs\u001b[0m\u001b[1;33m)\u001b[0m\u001b[1;33m:\u001b[0m\u001b[1;33m\u001b[0m\u001b[1;33m\u001b[0m\u001b[0m\n\u001b[0;32m    221\u001b[0m         \u001b[1;32mwith\u001b[0m \u001b[0mconfig_context\u001b[0m\u001b[1;33m(\u001b[0m\u001b[1;33m**\u001b[0m\u001b[0mself\u001b[0m\u001b[1;33m.\u001b[0m\u001b[0mconfig\u001b[0m\u001b[1;33m)\u001b[0m\u001b[1;33m:\u001b[0m\u001b[1;33m\u001b[0m\u001b[1;33m\u001b[0m\u001b[0m\n\u001b[1;32m--> 222\u001b[1;33m             \u001b[1;32mreturn\u001b[0m \u001b[0mself\u001b[0m\u001b[1;33m.\u001b[0m\u001b[0mfunction\u001b[0m\u001b[1;33m(\u001b[0m\u001b[1;33m*\u001b[0m\u001b[0margs\u001b[0m\u001b[1;33m,\u001b[0m \u001b[1;33m**\u001b[0m\u001b[0mkwargs\u001b[0m\u001b[1;33m)\u001b[0m\u001b[1;33m\u001b[0m\u001b[1;33m\u001b[0m\u001b[0m\n\u001b[0m",
      "\u001b[1;32m~\\anaconda3\\lib\\site-packages\\sklearn\\ensemble\\_forest.py\u001b[0m in \u001b[0;36m_parallel_build_trees\u001b[1;34m(tree, forest, X, y, sample_weight, tree_idx, n_trees, verbose, class_weight, n_samples_bootstrap)\u001b[0m\n\u001b[0;32m    167\u001b[0m                                                         indices=indices)\n\u001b[0;32m    168\u001b[0m \u001b[1;33m\u001b[0m\u001b[0m\n\u001b[1;32m--> 169\u001b[1;33m         \u001b[0mtree\u001b[0m\u001b[1;33m.\u001b[0m\u001b[0mfit\u001b[0m\u001b[1;33m(\u001b[0m\u001b[0mX\u001b[0m\u001b[1;33m,\u001b[0m \u001b[0my\u001b[0m\u001b[1;33m,\u001b[0m \u001b[0msample_weight\u001b[0m\u001b[1;33m=\u001b[0m\u001b[0mcurr_sample_weight\u001b[0m\u001b[1;33m,\u001b[0m \u001b[0mcheck_input\u001b[0m\u001b[1;33m=\u001b[0m\u001b[1;32mFalse\u001b[0m\u001b[1;33m)\u001b[0m\u001b[1;33m\u001b[0m\u001b[1;33m\u001b[0m\u001b[0m\n\u001b[0m\u001b[0;32m    170\u001b[0m     \u001b[1;32melse\u001b[0m\u001b[1;33m:\u001b[0m\u001b[1;33m\u001b[0m\u001b[1;33m\u001b[0m\u001b[0m\n\u001b[0;32m    171\u001b[0m         \u001b[0mtree\u001b[0m\u001b[1;33m.\u001b[0m\u001b[0mfit\u001b[0m\u001b[1;33m(\u001b[0m\u001b[0mX\u001b[0m\u001b[1;33m,\u001b[0m \u001b[0my\u001b[0m\u001b[1;33m,\u001b[0m \u001b[0msample_weight\u001b[0m\u001b[1;33m=\u001b[0m\u001b[0msample_weight\u001b[0m\u001b[1;33m,\u001b[0m \u001b[0mcheck_input\u001b[0m\u001b[1;33m=\u001b[0m\u001b[1;32mFalse\u001b[0m\u001b[1;33m)\u001b[0m\u001b[1;33m\u001b[0m\u001b[1;33m\u001b[0m\u001b[0m\n",
      "\u001b[1;32m~\\anaconda3\\lib\\site-packages\\sklearn\\tree\\_classes.py\u001b[0m in \u001b[0;36mfit\u001b[1;34m(self, X, y, sample_weight, check_input, X_idx_sorted)\u001b[0m\n\u001b[0;32m    896\u001b[0m         \"\"\"\n\u001b[0;32m    897\u001b[0m \u001b[1;33m\u001b[0m\u001b[0m\n\u001b[1;32m--> 898\u001b[1;33m         super().fit(\n\u001b[0m\u001b[0;32m    899\u001b[0m             \u001b[0mX\u001b[0m\u001b[1;33m,\u001b[0m \u001b[0my\u001b[0m\u001b[1;33m,\u001b[0m\u001b[1;33m\u001b[0m\u001b[1;33m\u001b[0m\u001b[0m\n\u001b[0;32m    900\u001b[0m             \u001b[0msample_weight\u001b[0m\u001b[1;33m=\u001b[0m\u001b[0msample_weight\u001b[0m\u001b[1;33m,\u001b[0m\u001b[1;33m\u001b[0m\u001b[1;33m\u001b[0m\u001b[0m\n",
      "\u001b[1;32m~\\anaconda3\\lib\\site-packages\\sklearn\\tree\\_classes.py\u001b[0m in \u001b[0;36mfit\u001b[1;34m(self, X, y, sample_weight, check_input, X_idx_sorted)\u001b[0m\n\u001b[0;32m    387\u001b[0m                                            min_impurity_split)\n\u001b[0;32m    388\u001b[0m \u001b[1;33m\u001b[0m\u001b[0m\n\u001b[1;32m--> 389\u001b[1;33m         \u001b[0mbuilder\u001b[0m\u001b[1;33m.\u001b[0m\u001b[0mbuild\u001b[0m\u001b[1;33m(\u001b[0m\u001b[0mself\u001b[0m\u001b[1;33m.\u001b[0m\u001b[0mtree_\u001b[0m\u001b[1;33m,\u001b[0m \u001b[0mX\u001b[0m\u001b[1;33m,\u001b[0m \u001b[0my\u001b[0m\u001b[1;33m,\u001b[0m \u001b[0msample_weight\u001b[0m\u001b[1;33m)\u001b[0m\u001b[1;33m\u001b[0m\u001b[1;33m\u001b[0m\u001b[0m\n\u001b[0m\u001b[0;32m    390\u001b[0m \u001b[1;33m\u001b[0m\u001b[0m\n\u001b[0;32m    391\u001b[0m         \u001b[1;32mif\u001b[0m \u001b[0mself\u001b[0m\u001b[1;33m.\u001b[0m\u001b[0mn_outputs_\u001b[0m \u001b[1;33m==\u001b[0m \u001b[1;36m1\u001b[0m \u001b[1;32mand\u001b[0m \u001b[0mis_classifier\u001b[0m\u001b[1;33m(\u001b[0m\u001b[0mself\u001b[0m\u001b[1;33m)\u001b[0m\u001b[1;33m:\u001b[0m\u001b[1;33m\u001b[0m\u001b[1;33m\u001b[0m\u001b[0m\n",
      "\u001b[1;31mKeyboardInterrupt\u001b[0m: "
     ]
    }
   ],
   "source": [
    "# Fit the Random Forest on the whole training set\n",
    "y_test=np.zeros((int(df_test_features.shape[0]/12), 11))\n",
    "for i in tqdm(range(12)):\n",
    "    y_train = label[:, i]\n",
    "\n",
    "    c=RandomForestClassifier(min_samples_leaf=20, class_weight='balanced', n_estimators=100)\n",
    "\n",
    "\n",
    "    brm_clf = OneVsRestClassifier(c)\n",
    "    c.fit(x_imputed, y_train)\n",
    "\n",
    "    # Predict the Labels for the test features\n",
    "\n",
    "    y_test[:,i]=c.predict_proba(x_test_imputed)\n"
   ]
  },
  {
   "cell_type": "code",
   "execution_count": 255,
   "id": "8808d4b7",
   "metadata": {},
   "outputs": [
    {
     "data": {
      "text/plain": [
       "(18995, 12)"
      ]
     },
     "execution_count": 255,
     "metadata": {},
     "output_type": "execute_result"
    }
   ],
   "source": [
    "y_tot.shape"
   ]
  },
  {
   "cell_type": "code",
   "execution_count": 271,
   "id": "ff4353eb",
   "metadata": {
    "scrolled": true
   },
   "outputs": [],
   "source": [
    "x_tot = x_imputed\n",
    "y_tot = label[:,1:12]\n",
    "\n",
    "c=RandomForestClassifier(min_samples_leaf=20, class_weight='balanced', n_estimators=100)\n",
    "# c.fit(x_tot,y_tot)\n",
    "\n",
    "brm_clf = OneVsRestClassifier(c)\n",
    "brm_clf.fit(x_tot, y_tot)\n",
    "\n",
    "# Predict the Labels for the test features\n",
    "x_test_tasksA_B = x_test_imputed\n",
    "y_test2=brm_clf.predict_proba(x_test_tasksA_B)"
   ]
  },
  {
   "cell_type": "code",
   "execution_count": 272,
   "id": "19bf845c",
   "metadata": {},
   "outputs": [
    {
     "data": {
      "text/plain": [
       "(12664, 11)"
      ]
     },
     "execution_count": 272,
     "metadata": {},
     "output_type": "execute_result"
    }
   ],
   "source": [
    "y_test2.shape"
   ]
  },
  {
   "cell_type": "code",
   "execution_count": 276,
   "id": "dd366c25",
   "metadata": {},
   "outputs": [],
   "source": [
    "TESTS = ['LABEL_BaseExcess', 'LABEL_Fibrinogen', 'LABEL_AST', 'LABEL_Alkalinephos', 'LABEL_Bilirubin_total',\n",
    "         'LABEL_Lactate', 'LABEL_TroponinI', 'LABEL_SaO2',\n",
    "         'LABEL_Bilirubin_direct', 'LABEL_EtCO2','LABEL_Sepsis']\n",
    "i=0\n",
    "for pid in idt_unique:\n",
    "    result.loc[i,'pid']=pid\n",
    "    result.loc[i,TESTS]=y_test2[i,:]\n",
    "    i+=1"
   ]
  },
  {
   "cell_type": "code",
   "execution_count": 286,
   "id": "8b98ddcc",
   "metadata": {},
   "outputs": [],
   "source": [
    "\n",
    "import matplotlib.pyplot as plt\n",
    "from sklearn.model_selection import KFold\n",
    "# from sklearn.model_selection import StratifiedKFold\n",
    "# from sklearn.svm import SVC\n",
    "from sklearn.linear_model import BayesianRidge\n",
    "from sklearn.impute import (SimpleImputer, KNNImputer)\n",
    "from sklearn.preprocessing import MinMaxScaler\n",
    "from sklearn.metrics import roc_auc_score\n",
    "from sklearn.metrics import r2_score\n",
    "from sklearn.ensemble import RandomForestClassifier\n",
    "# from sklearn.kernel_ridge import KernelRidge\n",
    "from sklearn.linear_model import Ridge\n",
    "from sklearn.feature_selection import SelectKBest, mutual_info_regression\n",
    "from sklearn.multiclass import OneVsRestClassifier\n",
    "scaler = MinMaxScaler()"
   ]
  },
  {
   "cell_type": "code",
   "execution_count": 287,
   "id": "517c9f9e",
   "metadata": {},
   "outputs": [
    {
     "name": "stdout",
     "output_type": "stream",
     "text": [
      "[1.00000000e-03 1.32571137e-03 1.75751062e-03 2.32995181e-03\n",
      " 3.08884360e-03 4.09491506e-03 5.42867544e-03 7.19685673e-03\n",
      " 9.54095476e-03 1.26485522e-02 1.67683294e-02 2.22299648e-02\n",
      " 2.94705170e-02 3.90693994e-02 5.17947468e-02 6.86648845e-02\n",
      " 9.10298178e-02 1.20679264e-01 1.59985872e-01 2.12095089e-01\n",
      " 2.81176870e-01 3.72759372e-01 4.94171336e-01 6.55128557e-01\n",
      " 8.68511374e-01 1.15139540e+00 1.52641797e+00 2.02358965e+00\n",
      " 2.68269580e+00 3.55648031e+00 4.71486636e+00 6.25055193e+00\n",
      " 8.28642773e+00 1.09854114e+01 1.45634848e+01 1.93069773e+01\n",
      " 2.55954792e+01 3.39322177e+01 4.49843267e+01 5.96362332e+01\n",
      " 7.90604321e+01 1.04811313e+02 1.38949549e+02 1.84206997e+02\n",
      " 2.44205309e+02 3.23745754e+02 4.29193426e+02 5.68986603e+02\n",
      " 7.54312006e+02 1.00000000e+03]\n",
      "0.6692805030092729\n",
      "0.6723505895275455\n",
      "0.6719851175767041\n",
      "0.6633323326024833\n",
      "0.6637998771285136\n",
      "0.6608466789162105\n",
      "0.6661286776524615\n",
      "0.5\n",
      "0.6640950124431031\n",
      "0.662069623992215\n",
      "0.6692805963978907\n",
      "0.6723523793111638\n",
      "0.6719852095392884\n",
      "0.6633324839011983\n",
      "0.6637999287379355\n",
      "0.6608466246203568\n",
      "0.6661286451072738\n",
      "0.5\n",
      "0.6640950693255561\n",
      "0.6620696369692974\n",
      "0.6692807201816258\n",
      "0.6723547501434893\n",
      "0.6719853314335341\n",
      "0.6633326842604512\n",
      "0.6637999971366746\n",
      "0.6608465526319588\n",
      "0.6661286019723889\n",
      "0.5\n",
      "0.6640951446899398\n",
      "0.662069654164422\n",
      "0.6692808842433902\n",
      "0.6723578898405103\n",
      "0.6719854929921774\n",
      "0.663332949494334\n",
      "0.6638000877777266\n",
      "0.6608464571824744\n",
      "0.6661285448066612\n",
      "0.5\n",
      "0.6640952445217413\n",
      "0.6620696769448354\n",
      "0.6692811016721139\n",
      "0.6723620463082028\n",
      "0.6719857071056541\n",
      "0.6633333004431321\n",
      "0.6638002078784933\n",
      "0.6608463306200328\n",
      "0.6661284690541873\n",
      "0.5\n",
      "0.6640953767300823\n",
      "0.6620697071181068\n",
      "0.6692813897971808\n",
      "0.6723675463009611\n",
      "0.6719859908412591\n",
      "0.6633337645169528\n",
      "0.663800366986647\n",
      "0.6608461627926522\n",
      "0.6661283686857723\n",
      "0.5\n",
      "0.6640955517547333\n",
      "0.6620697470717588\n",
      "0.6692817715523922\n",
      "0.6723748196833901\n",
      "0.6719863667872144\n",
      "0.6633343776725832\n",
      "0.6638005777236676\n",
      "0.6608459402280253\n",
      "0.6661282357270204\n",
      "0.5\n",
      "0.6640957833561594\n",
      "0.6620697999555256\n",
      "0.6692822772712053\n",
      "0.6723844305414469\n",
      "0.6719868648221867\n",
      "0.6633351869136577\n",
      "0.6638008567589575\n",
      "0.6608456450417085\n",
      "0.6661280596386353\n",
      "0.5\n",
      "0.6640960896372442\n",
      "0.6620698699179659\n",
      "0.6692829470439562\n",
      "0.6723971166058537\n",
      "0.6719875244395868\n",
      "0.6633362533970137\n",
      "0.6638012260810024\n",
      "0.6608452534819118\n",
      "0.6661278265051281\n",
      "0.5\n",
      "0.6640964943530905\n",
      "0.6620699624113754\n",
      "0.6692838338030344\n",
      "0.6724138383838583\n",
      "0.6719883977912517\n",
      "0.6633376561936806\n",
      "0.6638017146473316\n",
      "0.6608447339867077\n",
      "0.6661275179769537\n",
      "0.5\n",
      "0.664097028569679\n",
      "0.6620700845806791\n",
      "0.6692850073432985\n",
      "0.6724358389441452\n",
      "0.6719895536568326\n",
      "0.6633394966669078\n",
      "0.6638023605107591\n",
      "0.6608440445847018\n",
      "0.6661271098983701\n",
      "0.5\n",
      "0.6640977327280251\n",
      "0.6620702457522001\n",
      "0.6692865595304275\n",
      "0.6724647141248948\n",
      "0.6719910825919333\n",
      "0.6633419032523011\n",
      "0.6638032135325099\n",
      "0.6608431294077199\n",
      "0.6661265705398032\n",
      "0.5\n",
      "0.6640986591482128\n",
      "0.6620704580349284\n",
      "0.6692886109939424\n",
      "0.672502490497425\n",
      "0.6719931035553711\n",
      "0.6633450360953558\n",
      "0.6638043387974379\n",
      "0.6608419139958372\n",
      "0.666125858340773\n",
      "0.5\n",
      "0.664099874950487\n",
      "0.6620707370364122\n",
      "0.6692913196324044\n",
      "0.6725517039250595\n",
      "0.6719957723541626\n",
      "0.6633490904333232\n",
      "0.6638058208316822\n",
      "0.6608402989490209\n",
      "0.6661249190601141\n",
      "0.5\n",
      "0.6641014652499715\n",
      "0.662071102671004\n",
      "0.6692948912523082\n",
      "0.6726154639784916\n",
      "0.6719992922549818\n",
      "0.6633542966965891\n",
      "0.6638077686700491\n",
      "0.6608381512973984\n",
      "0.6661236822276677\n",
      "0.5\n",
      "0.6641035362514547\n",
      "0.6620715799881263\n",
      "0.6692995925758776\n",
      "0.6726974777583916\n",
      "0.6720039270585398\n",
      "0.6633609139591536\n",
      "0.6638103216988125\n",
      "0.6608352926956738\n",
      "0.6661220567982369\n",
      "0.5\n",
      "0.6641062174603565\n",
      "0.6620721998521122\n",
      "0.6693057666093309\n",
      "0.6728019904605211\n",
      "0.6720100167602265\n",
      "0.6633692116009051\n",
      "0.6638136559635426\n",
      "0.6608314831542126\n",
      "0.6661199259198303\n",
      "0.5\n",
      "0.6641096615346636\n",
      "0.6620729991284107\n",
      "0.6693138498315717\n",
      "0.67293358113996\n",
      "0.6720179955326022\n",
      "0.6633794321506753\n",
      "0.663817990217201\n",
      "0.6608263984369466\n",
      "0.6661171407179328\n",
      "0.5\n",
      "0.6641140392021506\n",
      "0.6620740197155446\n",
      "0.6693243896311951\n",
      "0.6730967373307921\n",
      "0.6720284110207561\n",
      "0.6633917271092709\n",
      "0.6638235903124544\n",
      "0.660819598394011\n",
      "0.6661135128848177\n",
      "0.5\n",
      "0.6641195250256372\n",
      "0.6620753052124688\n",
      "0.669338058558548\n",
      "0.6732951363935047\n",
      "0.6720419426377378\n",
      "0.6634060587546168\n",
      "0.6638307695336554\n",
      "0.6608104822308614\n",
      "0.6661088054473181\n",
      "0.5\n",
      "0.6641262675436808\n",
      "0.6620768930712235\n",
      "0.6693556587933411\n",
      "0.673530608849783\n",
      "0.6720594144130279\n",
      "0.6634220667296491\n",
      "0.6638398810587863\n",
      "0.6607982248882055\n",
      "0.6661027199368501\n",
      "0.5\n",
      "0.6641343345460451\n",
      "0.6620787985069452\n",
      "0.6693781051323979\n",
      "0.6738018748247527\n",
      "0.6720817946313086\n",
      "0.6634389098907667\n",
      "0.6638512969096579\n",
      "0.6607816861425178\n",
      "0.6660948754833333\n",
      "0.5\n",
      "0.6641436213701797\n",
      "0.6620809838399676\n",
      "0.6694063670856302\n",
      "0.6741033296814294\n",
      "0.6721101695263717\n",
      "0.6634551083208096\n",
      "0.6638653654035054\n",
      "0.6607592805786298\n",
      "0.6660847697467628\n",
      "0.5\n",
      "0.6641537078395955\n",
      "0.6620833027777042\n",
      "0.6694413398171297\n",
      "0.6744243435323507\n",
      "0.6721456709136124\n",
      "0.6634684159521415\n",
      "0.6638823357774153\n",
      "0.6607287921564464\n",
      "0.6660717012235198\n",
      "0.5\n",
      "0.6641636483577933\n",
      "0.6620854026932633\n",
      "0.66948359977907\n",
      "0.6747495784900235\n",
      "0.672189326469499\n",
      "0.6634757316672805\n",
      "0.6639022326601163\n",
      "0.6606871117323201\n",
      "0.6660546154345706\n",
      "0.5\n",
      "0.6641716788168942\n",
      "0.6620865584248986\n",
      "0.6695329850700499\n",
      "0.6750605446319056\n",
      "0.6722417838533408\n",
      "0.6634729925604665\n",
      "0.6639246504558574\n",
      "0.6606298696248004\n",
      "0.6660318131024399\n",
      "0.5\n",
      "0.6641748191770808\n",
      "0.6620853977101648\n",
      "0.6695879245587906\n",
      "0.6753380002972764\n",
      "0.6723028320482836\n",
      "0.6634549020936624\n",
      "0.6639484116105747\n",
      "0.6605509275241144\n",
      "0.6660004286439546\n",
      "0.5\n",
      "0.664168333859342\n",
      "0.6620794601015579\n",
      "0.6696444238699165\n",
      "0.6755641542576543\n",
      "0.6723706007612213\n",
      "0.663414277888912\n",
      "0.6639709849543078\n",
      "0.6604416821206442\n",
      "0.6659555572595948\n",
      "0.5\n",
      "0.6641449758510822\n",
      "0.662064506200742\n",
      "0.6696945956966291\n",
      "0.6757234113825297\n",
      "0.6724402598697478\n",
      "0.6633408082651034\n",
      "0.6639874863913071\n",
      "0.6602901108783574\n",
      "0.6658888844211637\n",
      "0.5\n",
      "0.6640938864102512\n",
      "0.6620334590801318\n",
      "0.6697245872634155\n",
      "0.6758008194407283\n",
      "0.6725019726916877\n",
      "0.6632190797997624\n",
      "0.6639889909490112\n",
      "0.6600794518393063\n",
      "0.6657866555309513\n",
      "0.5\n",
      "0.6639989681874688\n",
      "0.6619748130939391\n",
      "0.6697117075298561\n",
      "0.6757781100646149\n",
      "0.6725378018921631\n",
      "0.6630258236794236\n",
      "0.6639597984160885\n",
      "0.659786358991659\n",
      "0.665626818043181\n",
      "0.5\n",
      "0.6638365236098549\n",
      "0.661870295559349\n",
      "0.6696205212789319\n",
      "0.6756277645412099\n",
      "0.6725172697646746\n",
      "0.6627263876581815\n",
      "0.6638732669094602\n",
      "0.6593783480710343\n",
      "0.6653751887960798\n",
      "0.5\n",
      "0.6635719786469042\n",
      "0.6617266836373947\n",
      "0.6693977361225829\n",
      "0.6753056809857962\n",
      "0.672391404300706\n",
      "0.6622705100483137\n",
      "0.6636859447740928\n",
      "0.6588104182662531\n",
      "0.6649805929739784\n",
      "0.5\n",
      "0.6631556209047862\n",
      "0.6615285530481819\n",
      "0.6689659771811569\n",
      "0.6747430375030352\n",
      "0.6720854459109258\n",
      "0.6615876353768078\n",
      "0.6633301019671366\n",
      "0.6580209860916035\n",
      "0.664369169542762\n",
      "0.5\n",
      "0.6625175177222592\n",
      "0.6611420308462937\n",
      "0.6682171297946711\n",
      "0.673838243862753\n",
      "0.671491032120396\n",
      "0.6605823247076327\n",
      "0.6627054856856776\n",
      "0.6569277296971614\n",
      "0.6634385271076593\n",
      "0.5\n",
      "0.6615622167671769\n",
      "0.660474490959353\n",
      "0.6670068663452813\n",
      "0.6724506557702579\n",
      "0.670459652434554\n",
      "0.6591307839226666\n",
      "0.6616722096376448\n",
      "0.6554245363077563\n",
      "0.6620531915342087\n",
      "0.5\n",
      "0.6601645110971704\n",
      "0.659402234802552\n",
      "0.6651531134493743\n",
      "0.6703988347144554\n",
      "0.6688003397082998\n",
      "0.6570801312286143\n",
      "0.6600479356375206\n",
      "0.6533812641396308\n",
      "0.6600436911183186\n",
      "0.5\n",
      "0.6581683765120248\n",
      "0.6577668753505956\n",
      "0.6624420788229097\n",
      "0.667466997184808\n",
      "0.6662854567418488\n",
      "0.6542526182451014\n",
      "0.6576133809575059\n",
      "0.6506481721938248\n",
      "0.6572122989709981\n",
      "0.5\n",
      "0.6553918142760682\n",
      "0.6553768377688705\n",
      "0.6586451618727276\n",
      "0.663422951245434\n",
      "0.6626681425900514\n",
      "0.6504572075414576\n",
      "0.6541297657543054\n",
      "0.6470663493984203\n",
      "0.6533482239819751\n",
      "0.5\n",
      "0.6516401448794366\n",
      "0.6520177084938501\n",
      "0.6535477398616593\n",
      "0.6580483750229128\n",
      "0.6577125948929279\n",
      "0.6455100504743359\n",
      "0.6493692176162914\n",
      "0.6424841974520679\n",
      "0.6482532278659193\n",
      "0.5\n",
      "0.6467286886121626\n",
      "0.6474743333436437\n",
      "0.646986603313767\n",
      "0.6511779483095936\n",
      "0.6512340215396133\n",
      "0.6392631557229059\n",
      "0.6431545795931347\n",
      "0.6367783127923763\n",
      "0.6417753003084075\n",
      "0.5\n",
      "0.6405127812073006\n",
      "0.641564517047561\n",
      "0.6388886270157167\n",
      "0.642739576262353\n",
      "0.6431406899919174\n",
      "0.6316375078331548\n",
      "0.6354005783442078\n",
      "0.629875760919074\n",
      "0.6338445085276211\n",
      "0.5\n",
      "0.6329199418024498\n",
      "0.6341795082739525\n",
      "0.6293016382142844\n",
      "0.6327862934137866\n",
      "0.6334685157054066\n",
      "0.6226543671711717\n",
      "0.6261465861180094\n",
      "0.6217744939871808\n",
      "0.6245033059203775\n",
      "0.5\n",
      "0.6239774972307254\n"
     ]
    },
    {
     "name": "stdout",
     "output_type": "stream",
     "text": [
      "0.6253223173877545\n",
      "0.6184099226248166\n",
      "0.6215119549498735\n",
      "0.6223996613283945\n",
      "0.6124571361856365\n",
      "0.6155728471975349\n",
      "0.6125592583716415\n",
      "0.6139239105332188\n",
      "0.5\n",
      "0.6138295441697257\n",
      "0.6151333511780208\n",
      "0.606529403581821\n",
      "0.6092455558733483\n",
      "0.6102589996940568\n",
      "0.6013158783011776\n",
      "0.6039949993987742\n",
      "0.6024102972312608\n",
      "0.6024066717751122\n",
      "0.5\n",
      "0.6027383984607604\n",
      "0.6038941732837195\n",
      "0.5940799560299439\n",
      "0.5964217101598106\n",
      "0.5974851310515521\n",
      "0.5896080976106338\n",
      "0.5918346437482953\n",
      "0.5916007034198568\n",
      "0.5903553054645698\n",
      "0.5\n",
      "0.5910667403317137\n",
      "0.592003991993928\n",
      "0.581536371821437\n",
      "0.5835292209834766\n",
      "0.5845777045995864\n",
      "0.5777748575639592\n",
      "0.5795682327268311\n",
      "0.580477563307892\n",
      "0.5782294801936856\n",
      "0.5\n",
      "0.5792393621613064\n",
      "0.5799302059556535\n",
      "0.5693666466331674\n",
      "0.5710471009325413\n",
      "0.572030946871401\n",
      "0.5662606956096381\n",
      "0.5676638374547129\n",
      "0.5694255457597125\n",
      "0.5664833852796733\n",
      "0.5\n",
      "0.5676897951838973\n",
      "0.5681434478194047\n",
      "0.5579729019456195\n",
      "0.5593840502092451\n",
      "0.5602702687010679\n",
      "0.5554538231197541\n",
      "0.5565216443588277\n",
      "0.5588191809908734\n",
      "0.5555063143882961\n",
      "0.5\n",
      "0.5568045172980739\n",
      "0.557054544247279\n",
      "0.5476502482265702\n",
      "0.5488370555436762\n",
      "0.5496083502709608\n",
      "0.5456432410822414\n",
      "0.5464334133761368\n",
      "0.5489764037099001\n",
      "0.5455814377142991\n",
      "0.5\n",
      "0.5468797474579455\n",
      "0.5469700404985548\n",
      "[0.649388841284851, 0.6493890573909962, 0.6493893436614485, 0.6493897227803849, 0.6493902246930006, 0.6493908888747917, 0.6493917672685978, 0.6493929280543007, 0.6493944604318919, 0.6493964805933177, 0.649399139008524, 0.6494026290162731, 0.6494071964263041, 0.6494131493106743, 0.6494208662617067, 0.6494307999857154, 0.6494434711131643, 0.6494594446944585, 0.6494792796921404, 0.6495034414171148, 0.6495321707722633, 0.6495653148224882, 0.6496021400960438, 0.6496411650423672, 0.6496800433474673, 0.6497154856186105, 0.6497431220737556, 0.6497571163164075, 0.6497492902395221, 0.6497075338796272, 0.649613323778619, 0.6494417409303871, 0.649152646142469, 0.6486761902141981, 0.6479237180702481, 0.6467764641852092, 0.6450840561858835, 0.6426689655161936, 0.6393395655757659, 0.634912842514192, 0.629244721983466, 0.6222626698970447, 0.6139935015148696, 0.6045797586538864, 0.5942794377600029, 0.5834456279810303, 0.5724862999313828, 0.5618111401544148, 0.5517787245259037, 0.5426579937880285]\n",
      "2.023589647725158\n"
     ]
    }
   ],
   "source": [
    "def taskC_regressor(alpha_):\n",
    "    c=Ridge(alpha=alpha_)\n",
    "\n",
    "    # 10 fold cross-validation to choose hyperparameters\n",
    "    num_fold = 10\n",
    "    kf = KFold(n_splits=num_fold)\n",
    "    score = 0\n",
    "    for train_index, val_index in kf.split(x_imputed): # split the data into validation and training sets\n",
    "        x_train = x_imputed[train_index]\n",
    "        x_train_scaled = scaler.fit_transform(x_train)\n",
    "        x_val = x_imputed[val_index]\n",
    "        x_val_scaled = scaler.transform(x_val)\n",
    "        \n",
    "        y_train = y_[train_index, 11:15]\n",
    "        y_val = y_[val_index, 11:15]\n",
    " \n",
    "        c.fit(x_train_scaled, y_train) # apply model to training data\n",
    "        y_est = np.transpose(c.predict(x_val_scaled)) # predict labels using validation data\n",
    "        \n",
    "        score += np.mean([0.5 + 0.5*np.maximum(0, r2_score(y_val[:,k],y_est[k,:])) for k in range(4)])\n",
    "        print(np.mean([0.5 + 0.5*np.maximum(0, r2_score(y_val[:,k],y_est[k,:])) for k in range(4)]))\n",
    "\n",
    "    # EVALUATION of model\n",
    "    # Calculate average auroc score for all 10 folds\n",
    "    avg_score = score/num_fold\n",
    "\n",
    "    return avg_score\n",
    "\n",
    "alpha_values = np.logspace(-3, 3, num=50, base=10.) #50 values between 10-3 to 10+3 \n",
    "print (alpha_values)\n",
    "avg_scores = [taskC_regressor(alpha) for alpha in alpha_values]\n",
    "print(avg_scores)\n",
    "\n",
    "# find alpha that has the highest score\n",
    "best_alpha = alpha_values[np.argmax(avg_scores)]\n",
    "print(best_alpha)"
   ]
  },
  {
   "cell_type": "code",
   "execution_count": 288,
   "id": "16e95499",
   "metadata": {},
   "outputs": [],
   "source": [
    "x_tot_scaled = scaler.fit_transform(x_imputed)\n",
    "y_tot = label[:, 11:15]\n",
    "\n",
    "c=Ridge(alpha=best_alpha)\n",
    "c.fit(x_tot_scaled, y_tot)\n",
    "\n",
    "x_test_scaled=scaler.transform(x_test_imputed)\n",
    "y_test3=(c.predict(x_test_scaled))"
   ]
  },
  {
   "cell_type": "code",
   "execution_count": 291,
   "id": "80d9dcdc",
   "metadata": {},
   "outputs": [],
   "source": [
    "i=0\n",
    "for pid in idt_unique:\n",
    "    result.loc[i,'pid']=int(pid)\n",
    "    result.loc[i,['LABEL_RRate', 'LABEL_ABPm', 'LABEL_SpO2', 'LABEL_Heartrate']]=y_test3[i, :]\n",
    "    i+=1"
   ]
  },
  {
   "cell_type": "code",
   "execution_count": 293,
   "id": "7e28ef8b",
   "metadata": {},
   "outputs": [],
   "source": [
    "# Save the output (predicted labels for the test features)\n",
    "# output.to_csv('prediction2.csv', index=False, float_format='%.3f')\n",
    "compression_opts = dict(method='zip', archive_name='prediction.csv')\n",
    "result.to_csv('prediction.zip', index=False, float_format='%.3f', compression=compression_opts)"
   ]
  },
  {
   "cell_type": "code",
   "execution_count": null,
   "id": "96046afe",
   "metadata": {},
   "outputs": [],
   "source": []
  }
 ],
 "metadata": {
  "kernelspec": {
   "display_name": "Python 3",
   "language": "python",
   "name": "python3"
  },
  "language_info": {
   "codemirror_mode": {
    "name": "ipython",
    "version": 3
   },
   "file_extension": ".py",
   "mimetype": "text/x-python",
   "name": "python",
   "nbconvert_exporter": "python",
   "pygments_lexer": "ipython3",
   "version": "3.8.8"
  }
 },
 "nbformat": 4,
 "nbformat_minor": 5
}
