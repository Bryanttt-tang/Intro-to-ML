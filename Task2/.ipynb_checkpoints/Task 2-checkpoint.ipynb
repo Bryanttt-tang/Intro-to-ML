{
 "cells": [
  {
   "cell_type": "code",
   "execution_count": 101,
   "id": "e52b89ca",
   "metadata": {},
   "outputs": [],
   "source": [
    "import numpy as np\n",
    "import pandas as pd\n",
    "from sklearn.impute import (SimpleImputer, KNNImputer)\n",
    "from sklearn.feature_selection import SelectKBest"
   ]
  },
  {
   "cell_type": "code",
   "execution_count": 244,
   "id": "dbc2c43c",
   "metadata": {},
   "outputs": [
    {
     "data": {
      "text/plain": [
       "(227940, 37)"
      ]
     },
     "execution_count": 244,
     "metadata": {},
     "output_type": "execute_result"
    }
   ],
   "source": [
    "\n",
    "df_train_features = pd.read_csv('./train_features.csv')\n",
    "df_train_labels   = pd.read_csv('./train_labels.csv')\n",
    "df_test_features  = pd.read_csv('./test_features.csv')\n",
    "X = df_train_features.values\n",
    "label=df_train_labels.values\n",
    "X_test = df_test_features.values\n",
    "X.shape"
   ]
  },
  {
   "cell_type": "code",
   "execution_count": 245,
   "id": "30b813db",
   "metadata": {},
   "outputs": [],
   "source": [
    "idf=df_train_features.iloc[:,0]\n",
    "ifl=df_train_labels.iloc[:,0]\n",
    "idt=df_test_features.iloc[:,0]\n",
    "idf_unique = pd.unique(idf)\n",
    "idt_unique=pd.unique(idt)"
   ]
  },
  {
   "cell_type": "code",
   "execution_count": 246,
   "id": "65301d76",
   "metadata": {},
   "outputs": [],
   "source": [
    "def preprocessing(X, n_neighbors=75, method='KNN'):\n",
    "\n",
    "    X_std= np.nanstd(X, axis=0, keepdims=True)\n",
    "    X_mean= np.nanmean(X, axis=0, keepdims=True)\n",
    "    X_norm= (X- X_mean)/X_std\n",
    "\n",
    "    imputer = KNNImputer(missing_values=np.nan, n_neighbors=n_neighbors, weights='distance') if method =='KNN'\\\n",
    "        else SimpleImputer (missing_values=np.nan, strategy='median')\n",
    "\n",
    "    X_norm_fixed= imputer.fit_transform(X_norm)\n",
    "\n",
    "    return X_norm_fixed"
   ]
  },
  {
   "cell_type": "code",
   "execution_count": 247,
   "id": "67364dd0",
   "metadata": {},
   "outputs": [
    {
     "name": "stdout",
     "output_type": "stream",
     "text": [
      "[[-1.7250923  -0.85121278 -1.70642596 ... -0.28285627  0.84344393\n",
      "  -0.50054209]\n",
      " [-1.7250923  -0.63917285 -1.70642596 ... -0.28285627  0.113008\n",
      "  -0.50054209]\n",
      " [-1.7250923  -0.42713292 -1.70642596 ... -0.28285627 -0.53149428\n",
      "   0.03721993]\n",
      " ...\n",
      " [-0.63263872  0.63306673  1.39353544 ... -0.28285627  0.67157665\n",
      "   0.03721993]\n",
      " [-0.63263872  0.84510666  1.39353544 ... -0.28285627  0.113008\n",
      "   0.03721993]\n",
      " [-0.63263872  1.05714659  1.39353544 ... -0.28285627  0.24190846\n",
      "   0.03721993]]\n",
      "(array([12, 13, 14, 15, 16, 17, 18, 19, 20, 21, 22, 23], dtype=int64),)\n"
     ]
    }
   ],
   "source": [
    "X_norm_fixed = preprocessing(X, method = 'median')\n",
    "X_test_fixed = preprocessing(X_test, method = 'median')\n",
    "print(X_norm_fixed)\n",
    "pid_idx = np.where(X[:,0]==10)\n",
    "print(pid_idx)"
   ]
  },
  {
   "cell_type": "code",
   "execution_count": 248,
   "id": "ded71715",
   "metadata": {},
   "outputs": [],
   "source": [
    "def get_patient_data(pid):\n",
    "    pid_idx = np.where(X[:,0]==pid)\n",
    "    return X_norm_fixed[pid_idx, :].reshape([12,37])\n",
    "\n",
    "def get_patient_data_test(pid_index):\n",
    "    pid_idx = np.where(X_test[:,0]==pid_index)\n",
    "    return X_test_fixed[pid_idx, :].reshape([12,37])"
   ]
  },
  {
   "cell_type": "code",
   "execution_count": 124,
   "id": "4e282b68",
   "metadata": {},
   "outputs": [
    {
     "data": {
      "text/plain": [
       "(12, 37)"
      ]
     },
     "execution_count": 124,
     "metadata": {},
     "output_type": "execute_result"
    }
   ],
   "source": [
    "X_1=get_patient_data(10)\n",
    "X_1.shape"
   ]
  },
  {
   "cell_type": "code",
   "execution_count": 121,
   "id": "5b4d4edc",
   "metadata": {},
   "outputs": [
    {
     "data": {
      "text/plain": [
       "array([-1.7241089 , -1.27529265,  0.54256564,  0.01498224, -0.30311906,\n",
       "       -0.30926529, -0.31286483,  0.16895924, -0.06179241,  0.09353697,\n",
       "        0.05707343, -0.03058222, -0.22179091, -0.1535099 , -0.13268913,\n",
       "       -0.31388775, -0.12494276, -0.23059474, -0.00822398, -0.15041668,\n",
       "        0.3664487 , -0.21389641, -0.1285392 , -0.00948796, -0.078682  ,\n",
       "       -0.14473443,  0.36943647, -0.21013043,  0.12079291, -0.39083107,\n",
       "        0.12505594, -0.06638969, -0.0862856 , -0.25924228, -0.28285627,\n",
       "       -0.14479291,  0.03721993])"
      ]
     },
     "execution_count": 121,
     "metadata": {},
     "output_type": "execute_result"
    }
   ],
   "source": [
    "X_norm_fixed[12,:]"
   ]
  },
  {
   "cell_type": "markdown",
   "id": "3afef689",
   "metadata": {},
   "source": [
    "Sub-task 1\n",
    "<font color = blue>\n",
    "    "
   ]
  },
  {
   "cell_type": "code",
   "execution_count": 249,
   "id": "bb44e488",
   "metadata": {},
   "outputs": [
    {
     "name": "stdout",
     "output_type": "stream",
     "text": [
      "[[-1.7250923   0.31500683 -1.70642596 ... -0.42163303 -0.25924228\n",
      "  -0.28285627]\n",
      " [-1.7241089  -0.10907303  0.54256564 ... -0.30355295 -0.24639742\n",
      "  -0.2833198 ]\n",
      " [-1.71427485  0.1029669   0.36021497 ...  1.39207704 -0.25924228\n",
      "  -0.28285627]\n",
      " ...\n",
      " [-0.63296652  1.16316656 -0.55153838 ...  0.79223022 -0.25924228\n",
      "  -0.28285627]\n",
      " [-0.63274798 -0.10907303  1.63666967 ...  0.66470373 -0.25924228\n",
      "  -0.27388363]\n",
      " [-0.63263872 -0.10907303  1.39353544 ... -0.33661537 -0.25924228\n",
      "  -0.28285627]]\n"
     ]
    }
   ],
   "source": [
    "#--training data preprocessing\n",
    "x_imputed = np.zeros((int(df_train_features.shape[0]/12), 35))\n",
    "\n",
    "for pid_idx in range(len(idf_unique)):\n",
    "    # get training data for a patient (dim 12 x d)\n",
    "    x_patient = get_patient_data(idf_unique[pid_idx])\n",
    "    x_patient_imputed = np.array([0.]*35)\n",
    "    \n",
    "    # deal with column seperately\n",
    "    for col in range(len(x_patient[1, 2:])):\n",
    "\n",
    "         x_patient_imputed[col]=np.mean(x_patient, axis = 0)[col]\n",
    "         \n",
    "    # Concatenate imputed data for every patient\n",
    "    \n",
    "    x_imputed[pid_idx, :] = x_patient_imputed\n",
    "    \n",
    "print(x_imputed)\n"
   ]
  },
  {
   "cell_type": "code",
   "execution_count": 179,
   "id": "b8460c8e",
   "metadata": {},
   "outputs": [
    {
     "name": "stdout",
     "output_type": "stream",
     "text": [
      "[[-1.74229257 -0.11283712 -1.41719456 ... -0.02989306  0.91381053\n",
      "  -0.2958202 ]\n",
      " [-0.64566007 -0.11283712 -0.0094439  ...  1.2601508  -0.26411003\n",
      "  -0.2958202 ]\n",
      " [-0.64544076 -0.11283712  0.6026216  ...  0.33056037 -0.26411003\n",
      "  -0.2958202 ]\n",
      " ...\n",
      " [-0.64664694  0.33801295 -0.68271596 ... -0.14846327 -0.26411003\n",
      "  -0.2958202 ]\n",
      " [-0.64642763  0.11258791 -0.62150941 ...  0.89495456 -0.2514714\n",
      "  -0.2958202 ]\n",
      " [-0.64609868 -0.11283712 -0.31547666 ...  0.117134   -0.26411003\n",
      "  -0.2958202 ]]\n"
     ]
    }
   ],
   "source": [
    "# test data preprocessing\n",
    "x_test_imputed = np.zeros((int(df_test_features.shape[0]/12), 35))\n",
    "\n",
    "for pid_idx in range(len(idt_unique)):\n",
    "   \n",
    "    x_test_patient = get_patient_data_test(idt_unique[pid_idx])\n",
    "    x_test_patient_imputed = np.array([0.]*35)\n",
    "    \n",
    "    # deal with column seperately\n",
    "    for col in range(len(x_test_patient[1, 2:])):\n",
    "      \n",
    "        x_test_patient_imputed[col]=np.mean(x_test_patient, axis = 0)[col]\n",
    "            \n",
    "    # Concatenate imputed data for every patient\n",
    "    x_test_imputed[pid_idx, :] = x_test_patient_imputed\n",
    "    \n",
    "print(x_test_imputed)"
   ]
  },
  {
   "cell_type": "code",
   "execution_count": 180,
   "id": "b22a0b10",
   "metadata": {},
   "outputs": [
    {
     "data": {
      "text/plain": [
       "(18995, 35)"
      ]
     },
     "execution_count": 180,
     "metadata": {},
     "output_type": "execute_result"
    }
   ],
   "source": [
    "x_imputed.shape"
   ]
  },
  {
   "cell_type": "code",
   "execution_count": 250,
   "id": "e67946bb",
   "metadata": {},
   "outputs": [
    {
     "data": {
      "text/plain": [
       "0        0.0\n",
       "1        0.0\n",
       "2        0.0\n",
       "3        0.0\n",
       "4        0.0\n",
       "        ... \n",
       "18990    0.0\n",
       "18991    0.0\n",
       "18992    0.0\n",
       "18993    0.0\n",
       "18994    0.0\n",
       "Name: LABEL_Sepsis, Length: 18995, dtype: float64"
      ]
     },
     "execution_count": 250,
     "metadata": {},
     "output_type": "execute_result"
    }
   ],
   "source": [
    "label_2=df_train_labels.iloc[:,11]\n",
    "label_2"
   ]
  },
  {
   "cell_type": "markdown",
   "id": "ca79e08b",
   "metadata": {},
   "source": [
    "Subtask-1 and 2"
   ]
  },
  {
   "cell_type": "code",
   "execution_count": 251,
   "id": "533e8093",
   "metadata": {},
   "outputs": [],
   "source": [
    "Labels=['pid','LABEL_BaseExcess', 'LABEL_Fibrinogen', 'LABEL_AST', 'LABEL_Alkalinephos', 'LABEL_Bilirubin_total',\n",
    "         'LABEL_Lactate', 'LABEL_TroponinI', 'LABEL_SaO2',\n",
    "         'LABEL_Bilirubin_direct', 'LABEL_EtCO2','LABEL_Sepsis','LABEL_RRate', 'LABEL_ABPm', 'LABEL_SpO2', 'LABEL_Heartrate']\n",
    "result = pd.DataFrame(np.array([[0]*16]), columns=Labels)"
   ]
  },
  {
   "cell_type": "code",
   "execution_count": null,
   "id": "6d29fab1",
   "metadata": {},
   "outputs": [],
   "source": []
  },
  {
   "cell_type": "code",
   "execution_count": 221,
   "id": "7bd376ce",
   "metadata": {},
   "outputs": [
    {
     "data": {
      "text/plain": [
       "(18995, 11)"
      ]
     },
     "execution_count": 221,
     "metadata": {},
     "output_type": "execute_result"
    }
   ],
   "source": [
    "y_train.shape"
   ]
  },
  {
   "cell_type": "code",
   "execution_count": 242,
   "id": "2fed08ba",
   "metadata": {},
   "outputs": [
    {
     "ename": "IndexError",
     "evalue": "too many indices for array: array is 1-dimensional, but 2 were indexed",
     "output_type": "error",
     "traceback": [
      "\u001b[1;31m---------------------------------------------------------------------------\u001b[0m",
      "\u001b[1;31mIndexError\u001b[0m                                Traceback (most recent call last)",
      "\u001b[1;32m<ipython-input-242-d03c717d1763>\u001b[0m in \u001b[0;36m<module>\u001b[1;34m\u001b[0m\n\u001b[0;32m     15\u001b[0m                         \u001b[0mStandardScaler\u001b[0m\u001b[1;33m(\u001b[0m\u001b[1;33m)\u001b[0m\u001b[1;33m,\u001b[0m\u001b[1;33m\u001b[0m\u001b[1;33m\u001b[0m\u001b[0m\n\u001b[0;32m     16\u001b[0m                         RandomForestClassifier(min_samples_leaf=20, class_weight='balanced', n_estimators=100))\n\u001b[1;32m---> 17\u001b[1;33m     scores = cross_val_score(pipeline, x_imputed, y_train[:, i],\n\u001b[0m\u001b[0;32m     18\u001b[0m                                 \u001b[0mcv\u001b[0m\u001b[1;33m=\u001b[0m\u001b[1;36m5\u001b[0m\u001b[1;33m,\u001b[0m\u001b[1;33m\u001b[0m\u001b[1;33m\u001b[0m\u001b[0m\n\u001b[0;32m     19\u001b[0m                                 scoring='roc_auc')\n",
      "\u001b[1;31mIndexError\u001b[0m: too many indices for array: array is 1-dimensional, but 2 were indexed"
     ]
    }
   ],
   "source": [
    "from sklearn.pipeline import make_pipeline\n",
    "from sklearn.linear_model import SGDClassifier\n",
    "from sklearn.model_selection import (GridSearchCV,\n",
    "    cross_val_score, KFold)\n",
    "from sklearn.multiclass import OneVsRestClassifier\n",
    "from sklearn.experimental import enable_hist_gradient_boosting\n",
    "from sklearn.ensemble import (HistGradientBoostingClassifier,RandomForestClassifier)\n",
    "from sklearn.impute import SimpleImputer\n",
    "from sklearn.preprocessing import StandardScaler\n",
    "import sklearn.metrics as metrics\n",
    "\n",
    "\n",
    "for i, label in enumerate(task12_labels):\n",
    "    pipeline = make_pipeline(\n",
    "                        StandardScaler(),\n",
    "                        RandomForestClassifier(min_samples_leaf=20, class_weight='balanced', n_estimators=100))\n",
    "    scores = cross_val_score(pipeline, x_imputed, y_train[:, i],\n",
    "                                cv=5,\n",
    "                                scoring='roc_auc')\n",
    "    print(\"Cross-validation score is {score:.3f},\"\n",
    "          \" standard deviation is {err:.3f}\"\n",
    "          .format(score = scores.mean(), err = scores.std()))"
   ]
  },
  {
   "cell_type": "code",
   "execution_count": 252,
   "id": "ec4eb742",
   "metadata": {},
   "outputs": [
    {
     "name": "stdout",
     "output_type": "stream",
     "text": [
      "[0. 0. 0. ... 0. 0. 0.]\n"
     ]
    },
    {
     "data": {
      "text/plain": [
       "0        0.0\n",
       "1        0.0\n",
       "2        0.0\n",
       "3        0.0\n",
       "4        0.0\n",
       "        ... \n",
       "18990    0.0\n",
       "18991    0.0\n",
       "18992    0.0\n",
       "18993    0.0\n",
       "18994    0.0\n",
       "Name: LABEL_Sepsis, Length: 18995, dtype: float64"
      ]
     },
     "execution_count": 252,
     "metadata": {},
     "output_type": "execute_result"
    }
   ],
   "source": [
    "l=label[:,11]\n",
    "print(l)\n",
    "df_train_labels.iloc[:,11]"
   ]
  },
  {
   "cell_type": "code",
   "execution_count": 257,
   "id": "f8d65cab",
   "metadata": {},
   "outputs": [],
   "source": [
    "from tqdm import tqdm"
   ]
  },
  {
   "cell_type": "code",
   "execution_count": null,
   "id": "4d16636b",
   "metadata": {},
   "outputs": [
    {
     "name": "stderr",
     "output_type": "stream",
     "text": [
      "\r",
      "  0%|          | 0/12 [00:00<?, ?it/s]"
     ]
    }
   ],
   "source": [
    "# Fit the Random Forest on the whole training set\n",
    "y_test=np.zeros((int(df_test_features.shape[0]/12), 11))\n",
    "for i in tqdm(range(12)):\n",
    "    y_train = label[:, i]\n",
    "\n",
    "    c=RandomForestClassifier(min_samples_leaf=20, class_weight='balanced', n_estimators=100)\n",
    "\n",
    "\n",
    "#     brm_clf = OneVsRestClassifier(c)\n",
    "    c.fit(x_imputed, y_train)\n",
    "\n",
    "    # Predict the Labels for the test features\n",
    "\n",
    "    y_test[:,i]=brm_clf.predict_proba(x_test_imputed)\n"
   ]
  },
  {
   "cell_type": "code",
   "execution_count": 255,
   "id": "57b6b8d1",
   "metadata": {},
   "outputs": [
    {
     "data": {
      "text/plain": [
       "(18995, 12)"
      ]
     },
     "execution_count": 255,
     "metadata": {},
     "output_type": "execute_result"
    }
   ],
   "source": [
    "y_tot.shape"
   ]
  },
  {
   "cell_type": "code",
   "execution_count": 253,
   "id": "741d371c",
   "metadata": {
    "scrolled": true
   },
   "outputs": [
    {
     "ename": "ValueError",
     "evalue": "Multioutput target data is not supported with label binarization",
     "output_type": "error",
     "traceback": [
      "\u001b[1;31m---------------------------------------------------------------------------\u001b[0m",
      "\u001b[1;31mValueError\u001b[0m                                Traceback (most recent call last)",
      "\u001b[1;32m<ipython-input-253-d1c06c9d7bed>\u001b[0m in \u001b[0;36m<module>\u001b[1;34m\u001b[0m\n\u001b[0;32m      6\u001b[0m \u001b[1;33m\u001b[0m\u001b[0m\n\u001b[0;32m      7\u001b[0m \u001b[0mbrm_clf\u001b[0m \u001b[1;33m=\u001b[0m \u001b[0mOneVsRestClassifier\u001b[0m\u001b[1;33m(\u001b[0m\u001b[0mc\u001b[0m\u001b[1;33m)\u001b[0m\u001b[1;33m\u001b[0m\u001b[1;33m\u001b[0m\u001b[0m\n\u001b[1;32m----> 8\u001b[1;33m \u001b[0mbrm_clf\u001b[0m\u001b[1;33m.\u001b[0m\u001b[0mfit\u001b[0m\u001b[1;33m(\u001b[0m\u001b[0mx_tot\u001b[0m\u001b[1;33m,\u001b[0m \u001b[0my_tot\u001b[0m\u001b[1;33m)\u001b[0m\u001b[1;33m\u001b[0m\u001b[1;33m\u001b[0m\u001b[0m\n\u001b[0m\u001b[0;32m      9\u001b[0m \u001b[1;33m\u001b[0m\u001b[0m\n\u001b[0;32m     10\u001b[0m \u001b[1;31m# Predict the Labels for the test features\u001b[0m\u001b[1;33m\u001b[0m\u001b[1;33m\u001b[0m\u001b[1;33m\u001b[0m\u001b[0m\n",
      "\u001b[1;32m~\\anaconda3\\lib\\site-packages\\sklearn\\multiclass.py\u001b[0m in \u001b[0;36mfit\u001b[1;34m(self, X, y)\u001b[0m\n\u001b[0;32m    272\u001b[0m         \u001b[1;31m# overall.\u001b[0m\u001b[1;33m\u001b[0m\u001b[1;33m\u001b[0m\u001b[1;33m\u001b[0m\u001b[0m\n\u001b[0;32m    273\u001b[0m         \u001b[0mself\u001b[0m\u001b[1;33m.\u001b[0m\u001b[0mlabel_binarizer_\u001b[0m \u001b[1;33m=\u001b[0m \u001b[0mLabelBinarizer\u001b[0m\u001b[1;33m(\u001b[0m\u001b[0msparse_output\u001b[0m\u001b[1;33m=\u001b[0m\u001b[1;32mTrue\u001b[0m\u001b[1;33m)\u001b[0m\u001b[1;33m\u001b[0m\u001b[1;33m\u001b[0m\u001b[0m\n\u001b[1;32m--> 274\u001b[1;33m         \u001b[0mY\u001b[0m \u001b[1;33m=\u001b[0m \u001b[0mself\u001b[0m\u001b[1;33m.\u001b[0m\u001b[0mlabel_binarizer_\u001b[0m\u001b[1;33m.\u001b[0m\u001b[0mfit_transform\u001b[0m\u001b[1;33m(\u001b[0m\u001b[0my\u001b[0m\u001b[1;33m)\u001b[0m\u001b[1;33m\u001b[0m\u001b[1;33m\u001b[0m\u001b[0m\n\u001b[0m\u001b[0;32m    275\u001b[0m         \u001b[0mY\u001b[0m \u001b[1;33m=\u001b[0m \u001b[0mY\u001b[0m\u001b[1;33m.\u001b[0m\u001b[0mtocsc\u001b[0m\u001b[1;33m(\u001b[0m\u001b[1;33m)\u001b[0m\u001b[1;33m\u001b[0m\u001b[1;33m\u001b[0m\u001b[0m\n\u001b[0;32m    276\u001b[0m         \u001b[0mself\u001b[0m\u001b[1;33m.\u001b[0m\u001b[0mclasses_\u001b[0m \u001b[1;33m=\u001b[0m \u001b[0mself\u001b[0m\u001b[1;33m.\u001b[0m\u001b[0mlabel_binarizer_\u001b[0m\u001b[1;33m.\u001b[0m\u001b[0mclasses_\u001b[0m\u001b[1;33m\u001b[0m\u001b[1;33m\u001b[0m\u001b[0m\n",
      "\u001b[1;32m~\\anaconda3\\lib\\site-packages\\sklearn\\preprocessing\\_label.py\u001b[0m in \u001b[0;36mfit_transform\u001b[1;34m(self, y)\u001b[0m\n\u001b[0;32m    319\u001b[0m             \u001b[0mwill\u001b[0m \u001b[0mbe\u001b[0m \u001b[0mof\u001b[0m \u001b[0mCSR\u001b[0m \u001b[0mformat\u001b[0m\u001b[1;33m.\u001b[0m\u001b[1;33m\u001b[0m\u001b[1;33m\u001b[0m\u001b[0m\n\u001b[0;32m    320\u001b[0m         \"\"\"\n\u001b[1;32m--> 321\u001b[1;33m         \u001b[1;32mreturn\u001b[0m \u001b[0mself\u001b[0m\u001b[1;33m.\u001b[0m\u001b[0mfit\u001b[0m\u001b[1;33m(\u001b[0m\u001b[0my\u001b[0m\u001b[1;33m)\u001b[0m\u001b[1;33m.\u001b[0m\u001b[0mtransform\u001b[0m\u001b[1;33m(\u001b[0m\u001b[0my\u001b[0m\u001b[1;33m)\u001b[0m\u001b[1;33m\u001b[0m\u001b[1;33m\u001b[0m\u001b[0m\n\u001b[0m\u001b[0;32m    322\u001b[0m \u001b[1;33m\u001b[0m\u001b[0m\n\u001b[0;32m    323\u001b[0m     \u001b[1;32mdef\u001b[0m \u001b[0mtransform\u001b[0m\u001b[1;33m(\u001b[0m\u001b[0mself\u001b[0m\u001b[1;33m,\u001b[0m \u001b[0my\u001b[0m\u001b[1;33m)\u001b[0m\u001b[1;33m:\u001b[0m\u001b[1;33m\u001b[0m\u001b[1;33m\u001b[0m\u001b[0m\n",
      "\u001b[1;32m~\\anaconda3\\lib\\site-packages\\sklearn\\preprocessing\\_label.py\u001b[0m in \u001b[0;36mfit\u001b[1;34m(self, y)\u001b[0m\n\u001b[0;32m    289\u001b[0m         \u001b[0mself\u001b[0m\u001b[1;33m.\u001b[0m\u001b[0my_type_\u001b[0m \u001b[1;33m=\u001b[0m \u001b[0mtype_of_target\u001b[0m\u001b[1;33m(\u001b[0m\u001b[0my\u001b[0m\u001b[1;33m)\u001b[0m\u001b[1;33m\u001b[0m\u001b[1;33m\u001b[0m\u001b[0m\n\u001b[0;32m    290\u001b[0m         \u001b[1;32mif\u001b[0m \u001b[1;34m'multioutput'\u001b[0m \u001b[1;32min\u001b[0m \u001b[0mself\u001b[0m\u001b[1;33m.\u001b[0m\u001b[0my_type_\u001b[0m\u001b[1;33m:\u001b[0m\u001b[1;33m\u001b[0m\u001b[1;33m\u001b[0m\u001b[0m\n\u001b[1;32m--> 291\u001b[1;33m             raise ValueError(\"Multioutput target data is not supported with \"\n\u001b[0m\u001b[0;32m    292\u001b[0m                              \"label binarization\")\n\u001b[0;32m    293\u001b[0m         \u001b[1;32mif\u001b[0m \u001b[0m_num_samples\u001b[0m\u001b[1;33m(\u001b[0m\u001b[0my\u001b[0m\u001b[1;33m)\u001b[0m \u001b[1;33m==\u001b[0m \u001b[1;36m0\u001b[0m\u001b[1;33m:\u001b[0m\u001b[1;33m\u001b[0m\u001b[1;33m\u001b[0m\u001b[0m\n",
      "\u001b[1;31mValueError\u001b[0m: Multioutput target data is not supported with label binarization"
     ]
    }
   ],
   "source": [
    "x_tot = x_imputed\n",
    "y_tot = label[:,0:12]\n",
    "\n",
    "c=RandomForestClassifier(min_samples_leaf=20, class_weight='balanced', n_estimators=100)\n",
    "# c.fit(x_tot,y_tot)\n",
    "\n",
    "brm_clf = OneVsRestClassifier(c)\n",
    "brm_clf.fit(x_tot, y_tot)\n",
    "\n",
    "# Predict the Labels for the test features\n",
    "x_test_tasksA_B = x_test_imputed\n",
    "y_test2=brm_clf.predict_proba(x_test_tasksA_B)"
   ]
  },
  {
   "cell_type": "code",
   "execution_count": 241,
   "id": "16e97af7",
   "metadata": {},
   "outputs": [
    {
     "data": {
      "text/plain": [
       "array([0., 0., 0., ..., 0., 0., 0.])"
      ]
     },
     "execution_count": 241,
     "metadata": {},
     "output_type": "execute_result"
    }
   ],
   "source": [
    "y_tot"
   ]
  },
  {
   "cell_type": "code",
   "execution_count": 237,
   "id": "f860c9d4",
   "metadata": {},
   "outputs": [
    {
     "ename": "ValueError",
     "evalue": "Must have equal len keys and value when setting with an iterable",
     "output_type": "error",
     "traceback": [
      "\u001b[1;31m---------------------------------------------------------------------------\u001b[0m",
      "\u001b[1;31mValueError\u001b[0m                                Traceback (most recent call last)",
      "\u001b[1;32m<ipython-input-237-d10ae30830e8>\u001b[0m in \u001b[0;36m<module>\u001b[1;34m\u001b[0m\n\u001b[0;32m      3\u001b[0m \u001b[1;32mfor\u001b[0m \u001b[0mpid\u001b[0m \u001b[1;32min\u001b[0m \u001b[0midt_unique\u001b[0m\u001b[1;33m:\u001b[0m\u001b[1;33m\u001b[0m\u001b[1;33m\u001b[0m\u001b[0m\n\u001b[0;32m      4\u001b[0m \u001b[1;33m\u001b[0m\u001b[0m\n\u001b[1;32m----> 5\u001b[1;33m     \u001b[0mresult\u001b[0m\u001b[1;33m.\u001b[0m\u001b[0mloc\u001b[0m\u001b[1;33m[\u001b[0m\u001b[0mi\u001b[0m\u001b[1;33m,\u001b[0m\u001b[0mTask2\u001b[0m\u001b[1;33m]\u001b[0m\u001b[1;33m=\u001b[0m\u001b[0my_test2\u001b[0m\u001b[1;33m[\u001b[0m\u001b[0mi\u001b[0m\u001b[1;33m,\u001b[0m\u001b[1;33m:\u001b[0m\u001b[1;33m]\u001b[0m\u001b[1;33m\u001b[0m\u001b[1;33m\u001b[0m\u001b[0m\n\u001b[0m\u001b[0;32m      6\u001b[0m     \u001b[0mi\u001b[0m\u001b[1;33m+=\u001b[0m\u001b[1;36m1\u001b[0m\u001b[1;33m\u001b[0m\u001b[1;33m\u001b[0m\u001b[0m\n",
      "\u001b[1;32m~\\anaconda3\\lib\\site-packages\\pandas\\core\\indexing.py\u001b[0m in \u001b[0;36m__setitem__\u001b[1;34m(self, key, value)\u001b[0m\n\u001b[0;32m    690\u001b[0m \u001b[1;33m\u001b[0m\u001b[0m\n\u001b[0;32m    691\u001b[0m         \u001b[0miloc\u001b[0m \u001b[1;33m=\u001b[0m \u001b[0mself\u001b[0m \u001b[1;32mif\u001b[0m \u001b[0mself\u001b[0m\u001b[1;33m.\u001b[0m\u001b[0mname\u001b[0m \u001b[1;33m==\u001b[0m \u001b[1;34m\"iloc\"\u001b[0m \u001b[1;32melse\u001b[0m \u001b[0mself\u001b[0m\u001b[1;33m.\u001b[0m\u001b[0mobj\u001b[0m\u001b[1;33m.\u001b[0m\u001b[0miloc\u001b[0m\u001b[1;33m\u001b[0m\u001b[1;33m\u001b[0m\u001b[0m\n\u001b[1;32m--> 692\u001b[1;33m         \u001b[0miloc\u001b[0m\u001b[1;33m.\u001b[0m\u001b[0m_setitem_with_indexer\u001b[0m\u001b[1;33m(\u001b[0m\u001b[0mindexer\u001b[0m\u001b[1;33m,\u001b[0m \u001b[0mvalue\u001b[0m\u001b[1;33m,\u001b[0m \u001b[0mself\u001b[0m\u001b[1;33m.\u001b[0m\u001b[0mname\u001b[0m\u001b[1;33m)\u001b[0m\u001b[1;33m\u001b[0m\u001b[1;33m\u001b[0m\u001b[0m\n\u001b[0m\u001b[0;32m    693\u001b[0m \u001b[1;33m\u001b[0m\u001b[0m\n\u001b[0;32m    694\u001b[0m     \u001b[1;32mdef\u001b[0m \u001b[0m_validate_key\u001b[0m\u001b[1;33m(\u001b[0m\u001b[0mself\u001b[0m\u001b[1;33m,\u001b[0m \u001b[0mkey\u001b[0m\u001b[1;33m,\u001b[0m \u001b[0maxis\u001b[0m\u001b[1;33m:\u001b[0m \u001b[0mint\u001b[0m\u001b[1;33m)\u001b[0m\u001b[1;33m:\u001b[0m\u001b[1;33m\u001b[0m\u001b[1;33m\u001b[0m\u001b[0m\n",
      "\u001b[1;32m~\\anaconda3\\lib\\site-packages\\pandas\\core\\indexing.py\u001b[0m in \u001b[0;36m_setitem_with_indexer\u001b[1;34m(self, indexer, value, name)\u001b[0m\n\u001b[0;32m   1633\u001b[0m         \u001b[1;32mif\u001b[0m \u001b[0mtake_split_path\u001b[0m\u001b[1;33m:\u001b[0m\u001b[1;33m\u001b[0m\u001b[1;33m\u001b[0m\u001b[0m\n\u001b[0;32m   1634\u001b[0m             \u001b[1;31m# We have to operate column-wise\u001b[0m\u001b[1;33m\u001b[0m\u001b[1;33m\u001b[0m\u001b[1;33m\u001b[0m\u001b[0m\n\u001b[1;32m-> 1635\u001b[1;33m             \u001b[0mself\u001b[0m\u001b[1;33m.\u001b[0m\u001b[0m_setitem_with_indexer_split_path\u001b[0m\u001b[1;33m(\u001b[0m\u001b[0mindexer\u001b[0m\u001b[1;33m,\u001b[0m \u001b[0mvalue\u001b[0m\u001b[1;33m,\u001b[0m \u001b[0mname\u001b[0m\u001b[1;33m)\u001b[0m\u001b[1;33m\u001b[0m\u001b[1;33m\u001b[0m\u001b[0m\n\u001b[0m\u001b[0;32m   1636\u001b[0m         \u001b[1;32melse\u001b[0m\u001b[1;33m:\u001b[0m\u001b[1;33m\u001b[0m\u001b[1;33m\u001b[0m\u001b[0m\n\u001b[0;32m   1637\u001b[0m             \u001b[0mself\u001b[0m\u001b[1;33m.\u001b[0m\u001b[0m_setitem_single_block\u001b[0m\u001b[1;33m(\u001b[0m\u001b[0mindexer\u001b[0m\u001b[1;33m,\u001b[0m \u001b[0mvalue\u001b[0m\u001b[1;33m,\u001b[0m \u001b[0mname\u001b[0m\u001b[1;33m)\u001b[0m\u001b[1;33m\u001b[0m\u001b[1;33m\u001b[0m\u001b[0m\n",
      "\u001b[1;32m~\\anaconda3\\lib\\site-packages\\pandas\\core\\indexing.py\u001b[0m in \u001b[0;36m_setitem_with_indexer_split_path\u001b[1;34m(self, indexer, value, name)\u001b[0m\n\u001b[0;32m   1686\u001b[0m                     \u001b[1;32mreturn\u001b[0m \u001b[0mself\u001b[0m\u001b[1;33m.\u001b[0m\u001b[0m_setitem_with_indexer\u001b[0m\u001b[1;33m(\u001b[0m\u001b[1;33m(\u001b[0m\u001b[0mpi\u001b[0m\u001b[1;33m,\u001b[0m \u001b[0minfo_axis\u001b[0m\u001b[1;33m[\u001b[0m\u001b[1;36m0\u001b[0m\u001b[1;33m]\u001b[0m\u001b[1;33m)\u001b[0m\u001b[1;33m,\u001b[0m \u001b[0mvalue\u001b[0m\u001b[1;33m[\u001b[0m\u001b[1;36m0\u001b[0m\u001b[1;33m]\u001b[0m\u001b[1;33m)\u001b[0m\u001b[1;33m\u001b[0m\u001b[1;33m\u001b[0m\u001b[0m\n\u001b[0;32m   1687\u001b[0m \u001b[1;33m\u001b[0m\u001b[0m\n\u001b[1;32m-> 1688\u001b[1;33m                 raise ValueError(\n\u001b[0m\u001b[0;32m   1689\u001b[0m                     \u001b[1;34m\"Must have equal len keys and value \"\u001b[0m\u001b[1;33m\u001b[0m\u001b[1;33m\u001b[0m\u001b[0m\n\u001b[0;32m   1690\u001b[0m                     \u001b[1;34m\"when setting with an iterable\"\u001b[0m\u001b[1;33m\u001b[0m\u001b[1;33m\u001b[0m\u001b[0m\n",
      "\u001b[1;31mValueError\u001b[0m: Must have equal len keys and value when setting with an iterable"
     ]
    }
   ],
   "source": [
    "Task2 = ['LABEL_Sepsis']\n",
    "i=0\n",
    "for pid in idt_unique:\n",
    "    \n",
    "    result.loc[i,Task2]=y_test2[i,:]\n",
    "    i+=1"
   ]
  },
  {
   "cell_type": "code",
   "execution_count": null,
   "id": "2e838f43",
   "metadata": {},
   "outputs": [],
   "source": [
    "TESTS = ['LABEL_BaseExcess', 'LABEL_Fibrinogen', 'LABEL_AST', 'LABEL_Alkalinephos', 'LABEL_Bilirubin_total',\n",
    "         'LABEL_Lactate', 'LABEL_TroponinI', 'LABEL_SaO2',\n",
    "         'LABEL_Bilirubin_direct', 'LABEL_EtCO2','LABEL_Sepsis']\n",
    "i=0\n",
    "for pid in idt_unique:\n",
    "    result.loc[i,'pid']=pid\n",
    "    result.loc[i,TESTS]=y_est_test[i,:]\n",
    "    i+=1"
   ]
  },
  {
   "cell_type": "code",
   "execution_count": null,
   "id": "70a3c0ce",
   "metadata": {},
   "outputs": [],
   "source": [
    "df = pd.DataFrame({'pid': df_test_features.iloc[0::12, 0].values})\n",
    "for i, label in enumerate(task1_labels_ids):\n",
    "    pipeline = pipeline.fit(x_train, y_train[:, i].ravel())\n",
    "    print(\"Training score:\", metrics.roc_auc_score(y_train[:, i], pipeline.predict_proba(x_train)[:, 1]))\n",
    "    predictions = pipeline.predict_proba(x_test)[:, 1]\n",
    "    df[label] = predictions"
   ]
  },
  {
   "cell_type": "code",
   "execution_count": 203,
   "id": "8949c83b",
   "metadata": {},
   "outputs": [],
   "source": [
    "# Save the output (predicted labels for the test features)\n",
    "# output.to_csv('prediction2.csv', index=False, float_format='%.3f')\n",
    "compression_opts = dict(method='zip', archive_name='prediction.csv')\n",
    "result.to_csv('prediction.zip', index=False, float_format='%.3f', compression=compression_opts)"
   ]
  }
 ],
 "metadata": {
  "kernelspec": {
   "display_name": "Python 3",
   "language": "python",
   "name": "python3"
  },
  "language_info": {
   "codemirror_mode": {
    "name": "ipython",
    "version": 3
   },
   "file_extension": ".py",
   "mimetype": "text/x-python",
   "name": "python",
   "nbconvert_exporter": "python",
   "pygments_lexer": "ipython3",
   "version": "3.8.8"
  }
 },
 "nbformat": 4,
 "nbformat_minor": 5
}
