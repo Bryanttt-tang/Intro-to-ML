{
 "cells": [
  {
   "cell_type": "code",
   "execution_count": 1,
   "id": "28d97834",
   "metadata": {},
   "outputs": [],
   "source": [
    "import numpy as np\n",
    "import math\n",
    "import pandas as pd\n",
    "import tensorflow as tf\n",
    "# import kerastuner.tuners as kt\n",
    "import matplotlib.pyplot as plt\n",
    "from tensorflow.keras.models import Model\n",
    "from tensorflow.keras.layers import Input\n",
    "from tensorflow.keras.layers import Dense, Dropout\n",
    "from sklearn.preprocessing import StandardScaler\n",
    "from sklearn.model_selection import train_test_split\n",
    "from tensorflow.keras.losses import MeanSquaredLogarithmicError\n",
    "from sklearn.preprocessing import MinMaxScaler\n",
    "from matplotlib import pyplot\n",
    "from sklearn.metrics import mean_absolute_error\n",
    "from sklearn.svm import SVR\n",
    "from tensorflow.keras import Sequential\n",
    "from tensorflow.keras import layers"
   ]
  },
  {
   "cell_type": "code",
   "execution_count": 15,
   "id": "04a081e4",
   "metadata": {},
   "outputs": [],
   "source": [
    "from tensorflow.keras.layers import ReLU\n",
    "from tensorflow.keras.layers import BatchNormalization\n",
    "from tensorflow.keras.utils import plot_model\n",
    "from tensorflow.keras.models import load_model\n",
    "from sklearn.linear_model import SGDRegressor\n",
    "from tensorflow import keras"
   ]
  },
  {
   "cell_type": "code",
   "execution_count": 3,
   "id": "19aa0035",
   "metadata": {},
   "outputs": [],
   "source": [
    "train_fea = pd.read_csv('./train_features.csv')\n",
    "train_labels = pd.read_csv('./train_labels.csv')\n",
    "pretrain_fea=pd.read_csv('./pretrain_features.csv')\n",
    "pretrain_labels=pd.read_csv('./pretrain_labels.csv')"
   ]
  },
  {
   "cell_type": "code",
   "execution_count": 4,
   "id": "b2763fc5",
   "metadata": {},
   "outputs": [
    {
     "data": {
      "text/plain": [
       "0     2.052872\n",
       "1     1.325530\n",
       "2     1.837294\n",
       "3     1.388601\n",
       "4     0.991851\n",
       "        ...   \n",
       "95    1.791795\n",
       "96    1.115060\n",
       "97    2.087200\n",
       "98    1.622947\n",
       "99    1.739702\n",
       "Name: homo_lumo_gap, Length: 100, dtype: float64"
      ]
     },
     "execution_count": 4,
     "metadata": {},
     "output_type": "execute_result"
    }
   ],
   "source": [
    "train_labels.iloc[:,1]"
   ]
  },
  {
   "cell_type": "code",
   "execution_count": 5,
   "id": "f04b0f51",
   "metadata": {},
   "outputs": [
    {
     "data": {
      "text/html": [
       "<div>\n",
       "<style scoped>\n",
       "    .dataframe tbody tr th:only-of-type {\n",
       "        vertical-align: middle;\n",
       "    }\n",
       "\n",
       "    .dataframe tbody tr th {\n",
       "        vertical-align: top;\n",
       "    }\n",
       "\n",
       "    .dataframe thead th {\n",
       "        text-align: right;\n",
       "    }\n",
       "</style>\n",
       "<table border=\"1\" class=\"dataframe\">\n",
       "  <thead>\n",
       "    <tr style=\"text-align: right;\">\n",
       "      <th></th>\n",
       "      <th>feature_0000</th>\n",
       "      <th>feature_0001</th>\n",
       "      <th>feature_0002</th>\n",
       "      <th>feature_0003</th>\n",
       "      <th>feature_0004</th>\n",
       "      <th>feature_0005</th>\n",
       "      <th>feature_0006</th>\n",
       "      <th>feature_0007</th>\n",
       "      <th>feature_0008</th>\n",
       "      <th>feature_0009</th>\n",
       "      <th>...</th>\n",
       "      <th>feature_0990</th>\n",
       "      <th>feature_0991</th>\n",
       "      <th>feature_0992</th>\n",
       "      <th>feature_0993</th>\n",
       "      <th>feature_0994</th>\n",
       "      <th>feature_0995</th>\n",
       "      <th>feature_0996</th>\n",
       "      <th>feature_0997</th>\n",
       "      <th>feature_0998</th>\n",
       "      <th>feature_0999</th>\n",
       "    </tr>\n",
       "  </thead>\n",
       "  <tbody>\n",
       "    <tr>\n",
       "      <th>0</th>\n",
       "      <td>0.0</td>\n",
       "      <td>0.0</td>\n",
       "      <td>0.0</td>\n",
       "      <td>0.0</td>\n",
       "      <td>0.0</td>\n",
       "      <td>0.0</td>\n",
       "      <td>0.0</td>\n",
       "      <td>0.0</td>\n",
       "      <td>1.0</td>\n",
       "      <td>0.0</td>\n",
       "      <td>...</td>\n",
       "      <td>0.0</td>\n",
       "      <td>0.0</td>\n",
       "      <td>0.0</td>\n",
       "      <td>0.0</td>\n",
       "      <td>0.0</td>\n",
       "      <td>0.0</td>\n",
       "      <td>0.0</td>\n",
       "      <td>0.0</td>\n",
       "      <td>0.0</td>\n",
       "      <td>0.0</td>\n",
       "    </tr>\n",
       "    <tr>\n",
       "      <th>1</th>\n",
       "      <td>0.0</td>\n",
       "      <td>0.0</td>\n",
       "      <td>0.0</td>\n",
       "      <td>1.0</td>\n",
       "      <td>0.0</td>\n",
       "      <td>0.0</td>\n",
       "      <td>0.0</td>\n",
       "      <td>0.0</td>\n",
       "      <td>0.0</td>\n",
       "      <td>0.0</td>\n",
       "      <td>...</td>\n",
       "      <td>0.0</td>\n",
       "      <td>0.0</td>\n",
       "      <td>0.0</td>\n",
       "      <td>0.0</td>\n",
       "      <td>0.0</td>\n",
       "      <td>0.0</td>\n",
       "      <td>0.0</td>\n",
       "      <td>0.0</td>\n",
       "      <td>0.0</td>\n",
       "      <td>0.0</td>\n",
       "    </tr>\n",
       "    <tr>\n",
       "      <th>2</th>\n",
       "      <td>0.0</td>\n",
       "      <td>0.0</td>\n",
       "      <td>0.0</td>\n",
       "      <td>1.0</td>\n",
       "      <td>0.0</td>\n",
       "      <td>0.0</td>\n",
       "      <td>0.0</td>\n",
       "      <td>0.0</td>\n",
       "      <td>0.0</td>\n",
       "      <td>0.0</td>\n",
       "      <td>...</td>\n",
       "      <td>0.0</td>\n",
       "      <td>0.0</td>\n",
       "      <td>0.0</td>\n",
       "      <td>0.0</td>\n",
       "      <td>0.0</td>\n",
       "      <td>0.0</td>\n",
       "      <td>0.0</td>\n",
       "      <td>0.0</td>\n",
       "      <td>0.0</td>\n",
       "      <td>0.0</td>\n",
       "    </tr>\n",
       "    <tr>\n",
       "      <th>3</th>\n",
       "      <td>0.0</td>\n",
       "      <td>0.0</td>\n",
       "      <td>0.0</td>\n",
       "      <td>0.0</td>\n",
       "      <td>0.0</td>\n",
       "      <td>0.0</td>\n",
       "      <td>0.0</td>\n",
       "      <td>0.0</td>\n",
       "      <td>0.0</td>\n",
       "      <td>0.0</td>\n",
       "      <td>...</td>\n",
       "      <td>0.0</td>\n",
       "      <td>0.0</td>\n",
       "      <td>0.0</td>\n",
       "      <td>0.0</td>\n",
       "      <td>0.0</td>\n",
       "      <td>0.0</td>\n",
       "      <td>0.0</td>\n",
       "      <td>0.0</td>\n",
       "      <td>0.0</td>\n",
       "      <td>0.0</td>\n",
       "    </tr>\n",
       "    <tr>\n",
       "      <th>4</th>\n",
       "      <td>0.0</td>\n",
       "      <td>0.0</td>\n",
       "      <td>0.0</td>\n",
       "      <td>1.0</td>\n",
       "      <td>1.0</td>\n",
       "      <td>0.0</td>\n",
       "      <td>0.0</td>\n",
       "      <td>0.0</td>\n",
       "      <td>1.0</td>\n",
       "      <td>0.0</td>\n",
       "      <td>...</td>\n",
       "      <td>0.0</td>\n",
       "      <td>0.0</td>\n",
       "      <td>0.0</td>\n",
       "      <td>0.0</td>\n",
       "      <td>0.0</td>\n",
       "      <td>0.0</td>\n",
       "      <td>0.0</td>\n",
       "      <td>0.0</td>\n",
       "      <td>0.0</td>\n",
       "      <td>0.0</td>\n",
       "    </tr>\n",
       "    <tr>\n",
       "      <th>...</th>\n",
       "      <td>...</td>\n",
       "      <td>...</td>\n",
       "      <td>...</td>\n",
       "      <td>...</td>\n",
       "      <td>...</td>\n",
       "      <td>...</td>\n",
       "      <td>...</td>\n",
       "      <td>...</td>\n",
       "      <td>...</td>\n",
       "      <td>...</td>\n",
       "      <td>...</td>\n",
       "      <td>...</td>\n",
       "      <td>...</td>\n",
       "      <td>...</td>\n",
       "      <td>...</td>\n",
       "      <td>...</td>\n",
       "      <td>...</td>\n",
       "      <td>...</td>\n",
       "      <td>...</td>\n",
       "      <td>...</td>\n",
       "      <td>...</td>\n",
       "    </tr>\n",
       "    <tr>\n",
       "      <th>95</th>\n",
       "      <td>0.0</td>\n",
       "      <td>0.0</td>\n",
       "      <td>0.0</td>\n",
       "      <td>0.0</td>\n",
       "      <td>1.0</td>\n",
       "      <td>0.0</td>\n",
       "      <td>0.0</td>\n",
       "      <td>0.0</td>\n",
       "      <td>0.0</td>\n",
       "      <td>0.0</td>\n",
       "      <td>...</td>\n",
       "      <td>0.0</td>\n",
       "      <td>0.0</td>\n",
       "      <td>0.0</td>\n",
       "      <td>0.0</td>\n",
       "      <td>0.0</td>\n",
       "      <td>0.0</td>\n",
       "      <td>0.0</td>\n",
       "      <td>0.0</td>\n",
       "      <td>0.0</td>\n",
       "      <td>0.0</td>\n",
       "    </tr>\n",
       "    <tr>\n",
       "      <th>96</th>\n",
       "      <td>0.0</td>\n",
       "      <td>0.0</td>\n",
       "      <td>0.0</td>\n",
       "      <td>0.0</td>\n",
       "      <td>1.0</td>\n",
       "      <td>0.0</td>\n",
       "      <td>0.0</td>\n",
       "      <td>1.0</td>\n",
       "      <td>0.0</td>\n",
       "      <td>0.0</td>\n",
       "      <td>...</td>\n",
       "      <td>0.0</td>\n",
       "      <td>0.0</td>\n",
       "      <td>1.0</td>\n",
       "      <td>0.0</td>\n",
       "      <td>0.0</td>\n",
       "      <td>0.0</td>\n",
       "      <td>0.0</td>\n",
       "      <td>0.0</td>\n",
       "      <td>0.0</td>\n",
       "      <td>0.0</td>\n",
       "    </tr>\n",
       "    <tr>\n",
       "      <th>97</th>\n",
       "      <td>0.0</td>\n",
       "      <td>0.0</td>\n",
       "      <td>0.0</td>\n",
       "      <td>0.0</td>\n",
       "      <td>0.0</td>\n",
       "      <td>0.0</td>\n",
       "      <td>0.0</td>\n",
       "      <td>0.0</td>\n",
       "      <td>0.0</td>\n",
       "      <td>0.0</td>\n",
       "      <td>...</td>\n",
       "      <td>0.0</td>\n",
       "      <td>0.0</td>\n",
       "      <td>0.0</td>\n",
       "      <td>0.0</td>\n",
       "      <td>0.0</td>\n",
       "      <td>0.0</td>\n",
       "      <td>0.0</td>\n",
       "      <td>0.0</td>\n",
       "      <td>0.0</td>\n",
       "      <td>0.0</td>\n",
       "    </tr>\n",
       "    <tr>\n",
       "      <th>98</th>\n",
       "      <td>0.0</td>\n",
       "      <td>0.0</td>\n",
       "      <td>0.0</td>\n",
       "      <td>0.0</td>\n",
       "      <td>1.0</td>\n",
       "      <td>0.0</td>\n",
       "      <td>0.0</td>\n",
       "      <td>0.0</td>\n",
       "      <td>0.0</td>\n",
       "      <td>0.0</td>\n",
       "      <td>...</td>\n",
       "      <td>0.0</td>\n",
       "      <td>0.0</td>\n",
       "      <td>0.0</td>\n",
       "      <td>0.0</td>\n",
       "      <td>0.0</td>\n",
       "      <td>0.0</td>\n",
       "      <td>0.0</td>\n",
       "      <td>0.0</td>\n",
       "      <td>0.0</td>\n",
       "      <td>0.0</td>\n",
       "    </tr>\n",
       "    <tr>\n",
       "      <th>99</th>\n",
       "      <td>0.0</td>\n",
       "      <td>0.0</td>\n",
       "      <td>0.0</td>\n",
       "      <td>0.0</td>\n",
       "      <td>0.0</td>\n",
       "      <td>0.0</td>\n",
       "      <td>0.0</td>\n",
       "      <td>0.0</td>\n",
       "      <td>0.0</td>\n",
       "      <td>0.0</td>\n",
       "      <td>...</td>\n",
       "      <td>0.0</td>\n",
       "      <td>0.0</td>\n",
       "      <td>0.0</td>\n",
       "      <td>0.0</td>\n",
       "      <td>0.0</td>\n",
       "      <td>0.0</td>\n",
       "      <td>0.0</td>\n",
       "      <td>0.0</td>\n",
       "      <td>0.0</td>\n",
       "      <td>0.0</td>\n",
       "    </tr>\n",
       "  </tbody>\n",
       "</table>\n",
       "<p>100 rows × 1000 columns</p>\n",
       "</div>"
      ],
      "text/plain": [
       "    feature_0000  feature_0001  feature_0002  feature_0003  feature_0004  \\\n",
       "0            0.0           0.0           0.0           0.0           0.0   \n",
       "1            0.0           0.0           0.0           1.0           0.0   \n",
       "2            0.0           0.0           0.0           1.0           0.0   \n",
       "3            0.0           0.0           0.0           0.0           0.0   \n",
       "4            0.0           0.0           0.0           1.0           1.0   \n",
       "..           ...           ...           ...           ...           ...   \n",
       "95           0.0           0.0           0.0           0.0           1.0   \n",
       "96           0.0           0.0           0.0           0.0           1.0   \n",
       "97           0.0           0.0           0.0           0.0           0.0   \n",
       "98           0.0           0.0           0.0           0.0           1.0   \n",
       "99           0.0           0.0           0.0           0.0           0.0   \n",
       "\n",
       "    feature_0005  feature_0006  feature_0007  feature_0008  feature_0009  ...  \\\n",
       "0            0.0           0.0           0.0           1.0           0.0  ...   \n",
       "1            0.0           0.0           0.0           0.0           0.0  ...   \n",
       "2            0.0           0.0           0.0           0.0           0.0  ...   \n",
       "3            0.0           0.0           0.0           0.0           0.0  ...   \n",
       "4            0.0           0.0           0.0           1.0           0.0  ...   \n",
       "..           ...           ...           ...           ...           ...  ...   \n",
       "95           0.0           0.0           0.0           0.0           0.0  ...   \n",
       "96           0.0           0.0           1.0           0.0           0.0  ...   \n",
       "97           0.0           0.0           0.0           0.0           0.0  ...   \n",
       "98           0.0           0.0           0.0           0.0           0.0  ...   \n",
       "99           0.0           0.0           0.0           0.0           0.0  ...   \n",
       "\n",
       "    feature_0990  feature_0991  feature_0992  feature_0993  feature_0994  \\\n",
       "0            0.0           0.0           0.0           0.0           0.0   \n",
       "1            0.0           0.0           0.0           0.0           0.0   \n",
       "2            0.0           0.0           0.0           0.0           0.0   \n",
       "3            0.0           0.0           0.0           0.0           0.0   \n",
       "4            0.0           0.0           0.0           0.0           0.0   \n",
       "..           ...           ...           ...           ...           ...   \n",
       "95           0.0           0.0           0.0           0.0           0.0   \n",
       "96           0.0           0.0           1.0           0.0           0.0   \n",
       "97           0.0           0.0           0.0           0.0           0.0   \n",
       "98           0.0           0.0           0.0           0.0           0.0   \n",
       "99           0.0           0.0           0.0           0.0           0.0   \n",
       "\n",
       "    feature_0995  feature_0996  feature_0997  feature_0998  feature_0999  \n",
       "0            0.0           0.0           0.0           0.0           0.0  \n",
       "1            0.0           0.0           0.0           0.0           0.0  \n",
       "2            0.0           0.0           0.0           0.0           0.0  \n",
       "3            0.0           0.0           0.0           0.0           0.0  \n",
       "4            0.0           0.0           0.0           0.0           0.0  \n",
       "..           ...           ...           ...           ...           ...  \n",
       "95           0.0           0.0           0.0           0.0           0.0  \n",
       "96           0.0           0.0           0.0           0.0           0.0  \n",
       "97           0.0           0.0           0.0           0.0           0.0  \n",
       "98           0.0           0.0           0.0           0.0           0.0  \n",
       "99           0.0           0.0           0.0           0.0           0.0  \n",
       "\n",
       "[100 rows x 1000 columns]"
      ]
     },
     "execution_count": 5,
     "metadata": {},
     "output_type": "execute_result"
    }
   ],
   "source": [
    "train_fea1=train_fea.iloc[:,2:]\n",
    "train_fea1"
   ]
  },
  {
   "cell_type": "code",
   "execution_count": 6,
   "id": "94bdfcf5",
   "metadata": {},
   "outputs": [
    {
     "data": {
      "text/plain": [
       "0       -3.111521\n",
       "1       -3.219118\n",
       "2       -3.114145\n",
       "3       -3.161867\n",
       "4       -3.687744\n",
       "           ...   \n",
       "49995   -3.531096\n",
       "49996   -3.726209\n",
       "49997   -2.701048\n",
       "49998   -3.516759\n",
       "49999   -3.410109\n",
       "Name: lumo_energy, Length: 50000, dtype: float64"
      ]
     },
     "execution_count": 6,
     "metadata": {},
     "output_type": "execute_result"
    }
   ],
   "source": [
    "n_inputs = pretrain_fea.shape[1]-2\n",
    "pretrain_labels.iloc[:,1]"
   ]
  },
  {
   "cell_type": "code",
   "execution_count": 8,
   "id": "4d94cd0e",
   "metadata": {},
   "outputs": [],
   "source": [
    "# split into train test sets\n",
    "X_train, X_test, y_train, y_test = train_test_split(pretrain_fea.iloc[:,2:], pretrain_labels.iloc[:,1], test_size=0.2, random_state=1)\n",
    "# scale data\n",
    "# t = MinMaxScaler()\n",
    "# t.fit(X_train)\n",
    "# X_train = t.transform(X_train)\n",
    "# X_test = t.transform(X_test)"
   ]
  },
  {
   "cell_type": "code",
   "execution_count": 9,
   "id": "de50bd84",
   "metadata": {},
   "outputs": [
    {
     "data": {
      "text/plain": [
       "(40000, 1000)"
      ]
     },
     "execution_count": 9,
     "metadata": {},
     "output_type": "execute_result"
    }
   ],
   "source": [
    "X_train.shape"
   ]
  },
  {
   "cell_type": "code",
   "execution_count": null,
   "id": "7ec3cae0",
   "metadata": {},
   "outputs": [],
   "source": [
    "# class AutoEncoders(Model):\n",
    "\n",
    "#   def __init__(self, output_units):\n",
    "\n",
    "#     super().__init__()\n",
    "#     self.encoder = Sequential(\n",
    "#         [\n",
    "#           Dense(512, activation=\"relu\"),\n",
    "#           Dense(216, activation=\"relu\")\n",
    "          \n",
    "#         ]\n",
    "#     )\n",
    "# self.decoder = Sequential(\n",
    "#         [\n",
    "#           Dense(512, activation=\"relu\"),\n",
    "#           Dense(32, activation=\"relu\"),\n",
    "#           Dense(output_units, activation=\"sigmoid\")\n",
    "#         ]\n",
    "#     )\n",
    "\n",
    "# def call(self, inputs):\n",
    "\n",
    "#   encoded = self.encoder(inputs)\n",
    "#   decoded = self.decoder(encoded)\n",
    "#   return decoded\n",
    "\n",
    "# auto_encoder = AutoEncoders(len(x_train_scaled.columns))\n",
    "\n",
    "# auto_encoder.compile(\n",
    "#     loss='mae',\n",
    "#     metrics=['mae'],\n",
    "#     optimizer='adam'\n",
    "# )\n",
    "\n",
    "# history = auto_encoder.fit(\n",
    "#     x_train_scaled, \n",
    "#     x_train_scaled, \n",
    "#     epochs=15, \n",
    "#     batch_size=32, \n",
    "#     validation_data=(x_test_scaled, x_test_scaled)\n",
    "# )"
   ]
  },
  {
   "cell_type": "code",
   "execution_count": 31,
   "id": "235063f9",
   "metadata": {},
   "outputs": [],
   "source": [
    "# define encoder 1\n",
    "visible = Input(shape=(n_inputs,))\n",
    "e = Dense(n_inputs)(visible)\n",
    "e = ReLU()(e)\n",
    "e = BatchNormalization()(e)\n",
    "# define layer1\n",
    "layer1 = Dense(1024)(e)\n",
    "layer1 = ReLU()(layer1)\n",
    "layer1 = BatchNormalization()(layer1)"
   ]
  },
  {
   "cell_type": "code",
   "execution_count": 32,
   "id": "830905c3",
   "metadata": {},
   "outputs": [],
   "source": [
    "\n",
    "layer2 = Dense(512)(layer1)\n",
    "layer2 = ReLU()(layer2)\n",
    "layer2 = BatchNormalization()(layer2)\n",
    "\n",
    "\n",
    "layer3=Dense(256)(layer2)\n",
    "layer3=BatchNormalization()(layer3)\n",
    "layer3 = ReLU()(layer3)\n",
    "\n",
    "output = Dense(1, activation='linear')(layer3)\n",
    "# define mlp model\n",
    "model = Model(inputs=visible, outputs=output)\n",
    "# compile MLP model\n",
    "#model.compile(optimizer='adam', loss='mse')"
   ]
  },
  {
   "cell_type": "code",
   "execution_count": 36,
   "id": "5955a56b",
   "metadata": {},
   "outputs": [],
   "source": [
    "opt = keras.optimizers.Adam(learning_rate=0.0005)\n",
    "model.compile(loss='mse', optimizer=opt)"
   ]
  },
  {
   "cell_type": "code",
   "execution_count": 135,
   "id": "a1b4b4cb",
   "metadata": {},
   "outputs": [
    {
     "name": "stdout",
     "output_type": "stream",
     "text": [
      "Epoch 1/3\n",
      "1250/1250 [==============================] - 23s 18ms/step - loss: 0.0011 - val_loss: 0.0023\n",
      "Epoch 2/3\n",
      "1250/1250 [==============================] - 27s 22ms/step - loss: 0.0011 - val_loss: 0.0022\n",
      "Epoch 3/3\n",
      "1250/1250 [==============================] - 25s 20ms/step - loss: 0.0010 - val_loss: 0.0023\n"
     ]
    }
   ],
   "source": [
    "# fit the autoencoder model to reconstruct input\n",
    "history = model.fit(X_train, y_train, epochs=3, batch_size=32, verbose=1, validation_data=(X_test,y_test))"
   ]
  },
  {
   "cell_type": "code",
   "execution_count": 136,
   "id": "bba0a05e",
   "metadata": {},
   "outputs": [
    {
     "data": {
      "image/png": "[encoded data removed]",
      "text/plain": [
       "<Figure size 432x288 with 1 Axes>"
      ]
     },
     "metadata": {
      "needs_background": "light"
     },
     "output_type": "display_data"
    }
   ],
   "source": [
    "# plot loss\n",
    "pyplot.plot(history.history['loss'], label='train')\n",
    "pyplot.plot(history.history['val_loss'], label='test')\n",
    "pyplot.legend()\n",
    "pyplot.show()"
   ]
  },
  {
   "cell_type": "code",
   "execution_count": 137,
   "id": "cdcadf80",
   "metadata": {},
   "outputs": [],
   "source": [
    "# define an encoder model (without the decoder)\n",
    "encoder = Model(inputs=visible, outputs=layer3)\n",
    "#plot_model(encoder, 'encoder.png', show_shapes=True)\n",
    "# save the encoder to file\n",
    "encoder.save('encoder.h5')"
   ]
  },
  {
   "cell_type": "code",
   "execution_count": 138,
   "id": "c17087f2",
   "metadata": {},
   "outputs": [
    {
     "name": "stdout",
     "output_type": "stream",
     "text": [
      "WARNING:tensorflow:No training configuration found in the save file, so the model was *not* compiled. Compile it manually.\n"
     ]
    }
   ],
   "source": [
    "encoder = load_model('encoder.h5')"
   ]
  },
  {
   "cell_type": "code",
   "execution_count": 139,
   "id": "59f699a5",
   "metadata": {},
   "outputs": [],
   "source": [
    "X_train1, X_test1, y_train1, y_test1 = train_test_split(train_fea1, train_labels.iloc[:,1], test_size=0.1, random_state=1)"
   ]
  },
  {
   "cell_type": "code",
   "execution_count": 142,
   "id": "7d63f210",
   "metadata": {},
   "outputs": [],
   "source": [
    "# encode the train data\n",
    "train_encode = encoder.predict(X_train1)\n",
    "# encode the test data\n",
    "test_encode = encoder.predict(X_test1)"
   ]
  },
  {
   "cell_type": "code",
   "execution_count": 143,
   "id": "fd84a7a8",
   "metadata": {},
   "outputs": [
    {
     "data": {
      "text/plain": [
       "(90, 256)"
      ]
     },
     "execution_count": 143,
     "metadata": {},
     "output_type": "execute_result"
    }
   ],
   "source": [
    "train_encode.shape"
   ]
  },
  {
   "cell_type": "code",
   "execution_count": 126,
   "id": "1cd6c2a4",
   "metadata": {},
   "outputs": [
    {
     "data": {
      "text/plain": [
       "SVR()"
      ]
     },
     "execution_count": 126,
     "metadata": {},
     "output_type": "execute_result"
    }
   ],
   "source": [
    "model_1 = SVR()\n",
    "model_1.fit(train_encode, y_train1)"
   ]
  },
  {
   "cell_type": "code",
   "execution_count": 76,
   "id": "f78109ba",
   "metadata": {},
   "outputs": [
    {
     "data": {
      "text/plain": [
       "SGDRegressor()"
      ]
     },
     "execution_count": 76,
     "metadata": {},
     "output_type": "execute_result"
    }
   ],
   "source": [
    "#model_2=SGDRegressor()\n",
    "#model_2.fit(train_encode, y_train1)"
   ]
  },
  {
   "cell_type": "code",
   "execution_count": 109,
   "id": "721c7d02",
   "metadata": {},
   "outputs": [],
   "source": [
    "yhat = model_1.predict(test_encode)"
   ]
  },
  {
   "cell_type": "code",
   "execution_count": 112,
   "id": "e564afbb",
   "metadata": {},
   "outputs": [
    {
     "data": {
      "text/plain": [
       "(10,)"
      ]
     },
     "execution_count": 112,
     "metadata": {},
     "output_type": "execute_result"
    }
   ],
   "source": [
    "yhat.shape"
   ]
  },
  {
   "cell_type": "code",
   "execution_count": 110,
   "id": "c1da50d9",
   "metadata": {},
   "outputs": [
    {
     "name": "stdout",
     "output_type": "stream",
     "text": [
      "0.0971621734911637\n"
     ]
    }
   ],
   "source": [
    "score = mean_absolute_error(y_test1, yhat)\n",
    "print(score)"
   ]
  },
  {
   "cell_type": "code",
   "execution_count": 112,
   "id": "f55d5622",
   "metadata": {},
   "outputs": [],
   "source": [
    "test_fea = pd.read_csv('./test_features.csv')"
   ]
  },
  {
   "cell_type": "code",
   "execution_count": 113,
   "id": "15c3e7c8",
   "metadata": {},
   "outputs": [],
   "source": [
    "test_fea1=test_fea.iloc[:,2:]"
   ]
  },
  {
   "cell_type": "code",
   "execution_count": 128,
   "id": "e5d62c1d",
   "metadata": {},
   "outputs": [],
   "source": [
    "test_final = encoder.predict(test_fea1)"
   ]
  },
  {
   "cell_type": "code",
   "execution_count": 115,
   "id": "bbe17e39",
   "metadata": {},
   "outputs": [
    {
     "data": {
      "text/plain": [
       "(10000, 256)"
      ]
     },
     "execution_count": 115,
     "metadata": {},
     "output_type": "execute_result"
    }
   ],
   "source": [
    "test_final.shape"
   ]
  },
  {
   "cell_type": "code",
   "execution_count": 129,
   "id": "8cd92a4d",
   "metadata": {},
   "outputs": [],
   "source": [
    "result = model_1.predict(test_final)"
   ]
  },
  {
   "cell_type": "code",
   "execution_count": 125,
   "id": "adfeed76",
   "metadata": {},
   "outputs": [
    {
     "data": {
      "text/plain": [
       "(10000,)"
      ]
     },
     "execution_count": 125,
     "metadata": {},
     "output_type": "execute_result"
    }
   ],
   "source": [
    "result.shape"
   ]
  },
  {
   "cell_type": "code",
   "execution_count": 117,
   "id": "509348c1",
   "metadata": {},
   "outputs": [],
   "source": [
    "sample = pd.read_csv('./sample.csv')"
   ]
  },
  {
   "cell_type": "code",
   "execution_count": 118,
   "id": "94c7922e",
   "metadata": {},
   "outputs": [
    {
     "data": {
      "text/html": [
       "<div>\n",
       "<style scoped>\n",
       "    .dataframe tbody tr th:only-of-type {\n",
       "        vertical-align: middle;\n",
       "    }\n",
       "\n",
       "    .dataframe tbody tr th {\n",
       "        vertical-align: top;\n",
       "    }\n",
       "\n",
       "    .dataframe thead th {\n",
       "        text-align: right;\n",
       "    }\n",
       "</style>\n",
       "<table border=\"1\" class=\"dataframe\">\n",
       "  <thead>\n",
       "    <tr style=\"text-align: right;\">\n",
       "      <th></th>\n",
       "      <th>Id</th>\n",
       "      <th>y</th>\n",
       "    </tr>\n",
       "  </thead>\n",
       "  <tbody>\n",
       "    <tr>\n",
       "      <th>0</th>\n",
       "      <td>50100</td>\n",
       "      <td>0.0</td>\n",
       "    </tr>\n",
       "    <tr>\n",
       "      <th>1</th>\n",
       "      <td>50101</td>\n",
       "      <td>0.0</td>\n",
       "    </tr>\n",
       "    <tr>\n",
       "      <th>2</th>\n",
       "      <td>50102</td>\n",
       "      <td>0.0</td>\n",
       "    </tr>\n",
       "    <tr>\n",
       "      <th>3</th>\n",
       "      <td>50103</td>\n",
       "      <td>0.0</td>\n",
       "    </tr>\n",
       "    <tr>\n",
       "      <th>4</th>\n",
       "      <td>50104</td>\n",
       "      <td>0.0</td>\n",
       "    </tr>\n",
       "    <tr>\n",
       "      <th>...</th>\n",
       "      <td>...</td>\n",
       "      <td>...</td>\n",
       "    </tr>\n",
       "    <tr>\n",
       "      <th>9995</th>\n",
       "      <td>60095</td>\n",
       "      <td>0.0</td>\n",
       "    </tr>\n",
       "    <tr>\n",
       "      <th>9996</th>\n",
       "      <td>60096</td>\n",
       "      <td>0.0</td>\n",
       "    </tr>\n",
       "    <tr>\n",
       "      <th>9997</th>\n",
       "      <td>60097</td>\n",
       "      <td>0.0</td>\n",
       "    </tr>\n",
       "    <tr>\n",
       "      <th>9998</th>\n",
       "      <td>60098</td>\n",
       "      <td>0.0</td>\n",
       "    </tr>\n",
       "    <tr>\n",
       "      <th>9999</th>\n",
       "      <td>60099</td>\n",
       "      <td>0.0</td>\n",
       "    </tr>\n",
       "  </tbody>\n",
       "</table>\n",
       "<p>10000 rows × 2 columns</p>\n",
       "</div>"
      ],
      "text/plain": [
       "         Id    y\n",
       "0     50100  0.0\n",
       "1     50101  0.0\n",
       "2     50102  0.0\n",
       "3     50103  0.0\n",
       "4     50104  0.0\n",
       "...     ...  ...\n",
       "9995  60095  0.0\n",
       "9996  60096  0.0\n",
       "9997  60097  0.0\n",
       "9998  60098  0.0\n",
       "9999  60099  0.0\n",
       "\n",
       "[10000 rows x 2 columns]"
      ]
     },
     "execution_count": 118,
     "metadata": {},
     "output_type": "execute_result"
    }
   ],
   "source": [
    "sample"
   ]
  },
  {
   "cell_type": "code",
   "execution_count": 119,
   "id": "0889714b",
   "metadata": {},
   "outputs": [],
   "source": [
    "sample=sample.to_numpy()"
   ]
  },
  {
   "cell_type": "code",
   "execution_count": 130,
   "id": "6857a4c3",
   "metadata": {},
   "outputs": [],
   "source": [
    "sample[:,1]=result"
   ]
  },
  {
   "cell_type": "code",
   "execution_count": 131,
   "id": "14576417",
   "metadata": {},
   "outputs": [
    {
     "data": {
      "text/plain": [
       "array([1.87497673, 2.11022559, 1.69212795, ..., 1.37683586, 2.08526286,\n",
       "       1.36871765])"
      ]
     },
     "execution_count": 131,
     "metadata": {},
     "output_type": "execute_result"
    }
   ],
   "source": [
    "sample[:,1]"
   ]
  },
  {
   "cell_type": "code",
   "execution_count": 132,
   "id": "64f3cf56",
   "metadata": {},
   "outputs": [],
   "source": [
    "df = pd.DataFrame(sample,columns = ['Id','y'])"
   ]
  },
  {
   "cell_type": "code",
   "execution_count": 133,
   "id": "5da2f5cc",
   "metadata": {},
   "outputs": [
    {
     "data": {
      "text/html": [
       "<div>\n",
       "<style scoped>\n",
       "    .dataframe tbody tr th:only-of-type {\n",
       "        vertical-align: middle;\n",
       "    }\n",
       "\n",
       "    .dataframe tbody tr th {\n",
       "        vertical-align: top;\n",
       "    }\n",
       "\n",
       "    .dataframe thead th {\n",
       "        text-align: right;\n",
       "    }\n",
       "</style>\n",
       "<table border=\"1\" class=\"dataframe\">\n",
       "  <thead>\n",
       "    <tr style=\"text-align: right;\">\n",
       "      <th></th>\n",
       "      <th>Id</th>\n",
       "      <th>y</th>\n",
       "    </tr>\n",
       "  </thead>\n",
       "  <tbody>\n",
       "    <tr>\n",
       "      <th>0</th>\n",
       "      <td>50100.0</td>\n",
       "      <td>1.874977</td>\n",
       "    </tr>\n",
       "    <tr>\n",
       "      <th>1</th>\n",
       "      <td>50101.0</td>\n",
       "      <td>2.110226</td>\n",
       "    </tr>\n",
       "    <tr>\n",
       "      <th>2</th>\n",
       "      <td>50102.0</td>\n",
       "      <td>1.692128</td>\n",
       "    </tr>\n",
       "    <tr>\n",
       "      <th>3</th>\n",
       "      <td>50103.0</td>\n",
       "      <td>2.295890</td>\n",
       "    </tr>\n",
       "    <tr>\n",
       "      <th>4</th>\n",
       "      <td>50104.0</td>\n",
       "      <td>1.763925</td>\n",
       "    </tr>\n",
       "    <tr>\n",
       "      <th>...</th>\n",
       "      <td>...</td>\n",
       "      <td>...</td>\n",
       "    </tr>\n",
       "    <tr>\n",
       "      <th>9995</th>\n",
       "      <td>60095.0</td>\n",
       "      <td>2.281085</td>\n",
       "    </tr>\n",
       "    <tr>\n",
       "      <th>9996</th>\n",
       "      <td>60096.0</td>\n",
       "      <td>1.624010</td>\n",
       "    </tr>\n",
       "    <tr>\n",
       "      <th>9997</th>\n",
       "      <td>60097.0</td>\n",
       "      <td>1.376836</td>\n",
       "    </tr>\n",
       "    <tr>\n",
       "      <th>9998</th>\n",
       "      <td>60098.0</td>\n",
       "      <td>2.085263</td>\n",
       "    </tr>\n",
       "    <tr>\n",
       "      <th>9999</th>\n",
       "      <td>60099.0</td>\n",
       "      <td>1.368718</td>\n",
       "    </tr>\n",
       "  </tbody>\n",
       "</table>\n",
       "<p>10000 rows × 2 columns</p>\n",
       "</div>"
      ],
      "text/plain": [
       "           Id         y\n",
       "0     50100.0  1.874977\n",
       "1     50101.0  2.110226\n",
       "2     50102.0  1.692128\n",
       "3     50103.0  2.295890\n",
       "4     50104.0  1.763925\n",
       "...       ...       ...\n",
       "9995  60095.0  2.281085\n",
       "9996  60096.0  1.624010\n",
       "9997  60097.0  1.376836\n",
       "9998  60098.0  2.085263\n",
       "9999  60099.0  1.368718\n",
       "\n",
       "[10000 rows x 2 columns]"
      ]
     },
     "execution_count": 133,
     "metadata": {},
     "output_type": "execute_result"
    }
   ],
   "source": [
    "df"
   ]
  },
  {
   "cell_type": "code",
   "execution_count": 134,
   "id": "de4d0080",
   "metadata": {},
   "outputs": [],
   "source": [
    "df.to_csv('rnm3.csv', index=False)"
   ]
  },
  {
   "cell_type": "code",
   "execution_count": null,
   "id": "f23465b3",
   "metadata": {},
   "outputs": [],
   "source": []
  }
 ],
 "metadata": {
  "kernelspec": {
   "display_name": "Python 3",
   "language": "python",
   "name": "python3"
  },
  "language_info": {
   "codemirror_mode": {
    "name": "ipython",
    "version": 3
   },
   "file_extension": ".py",
   "mimetype": "text/x-python",
   "name": "python",
   "nbconvert_exporter": "python",
   "pygments_lexer": "ipython3",
   "version": "3.8.8"
  }
 },
 "nbformat": 4,
 "nbformat_minor": 5
}
