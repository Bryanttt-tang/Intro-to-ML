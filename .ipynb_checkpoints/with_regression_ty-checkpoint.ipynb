{
 "cells": [
  {
   "cell_type": "code",
   "execution_count": 82,
   "metadata": {
    "executionInfo": {
     "elapsed": 197,
     "status": "ok",
     "timestamp": 1653564116653,
     "user": {
      "displayName": "Yusi Qin",
      "userId": "01454558042048653549"
     },
     "user_tz": -120
    },
    "id": "yteFRAzRRqNM"
   },
   "outputs": [],
   "source": [
    "import torch\n",
    "import torch.nn as nn\n",
    "from torch.utils.data import TensorDataset, DataLoader\n",
    "\n",
    "import numpy as np\n",
    "import pandas as pd\n",
    "from sklearn.model_selection import train_test_split\n",
    "from sklearn.linear_model import SGDRegressor\n",
    "from sklearn.linear_model import Ridge\n",
    "from sklearn.svm import SVR\n",
    "from sklearn.preprocessing import StandardScaler\n",
    "\n",
    "import copy\n",
    "from tqdm.notebook import tqdm\n",
    "from matplotlib import pyplot"
   ]
  },
  {
   "cell_type": "code",
   "execution_count": 84,
   "metadata": {
    "colab": {
     "base_uri": "https://localhost:8080/"
    },
    "executionInfo": {
     "elapsed": 1483,
     "status": "ok",
     "timestamp": 1653564118657,
     "user": {
      "displayName": "Yusi Qin",
      "userId": "01454558042048653549"
     },
     "user_tz": -120
    },
    "id": "X52Z_DxVV-k1",
    "outputId": "8884a050-2bcf-483f-a134-ec3cc8985c36"
   },
   "outputs": [
    {
     "name": "stdout",
     "output_type": "stream",
     "text": [
      "Drive already mounted at /content/drive; to attempt to forcibly remount, call drive.mount(\"/content/drive\", force_remount=True).\n"
     ]
    }
   ],
   "source": [
    "# from google.colab import drive\n",
    "# from google.colab import files\n",
    "\n",
    "# drive.mount('/content/drive')\n",
    "\n",
    "# device = torch.device(\"cuda:0\" if torch.cuda.is_available() else \"cpu\")"
   ]
  },
  {
   "cell_type": "code",
   "execution_count": 65,
   "metadata": {
    "executionInfo": {
     "elapsed": 5312,
     "status": "ok",
     "timestamp": 1653564123966,
     "user": {
      "displayName": "Yusi Qin",
      "userId": "01454558042048653549"
     },
     "user_tz": -120
    },
    "id": "PIdhU3PEV_Gu"
   },
   "outputs": [],
   "source": [
    "### read data ###\n",
    "\n",
    "pretrain_features = pd.read_csv('./Task 4/pretrain_features.csv')\n",
    "pretrain_labels = pd.read_csv('./Task 4/pretrain_labels.csv')\n",
    "\n",
    "train_features = pd.read_csv('./Task 4/train_features.csv')\n",
    "train_labels = pd.read_csv('./Task 4/train_labels.csv')\n",
    "\n",
    "test_features = pd.read_csv('./Task 4/test_features.csv')"
   ]
  },
  {
   "cell_type": "code",
   "execution_count": 86,
   "metadata": {
    "executionInfo": {
     "elapsed": 16,
     "status": "ok",
     "timestamp": 1653564123967,
     "user": {
      "displayName": "Yusi Qin",
      "userId": "01454558042048653549"
     },
     "user_tz": -120
    },
    "id": "fjxYdcV_qkIH"
   },
   "outputs": [],
   "source": [
    "# print(type(np.array(test_features)))"
   ]
  },
  {
   "cell_type": "code",
   "execution_count": 67,
   "metadata": {
    "executionInfo": {
     "elapsed": 304,
     "status": "ok",
     "timestamp": 1653564124257,
     "user": {
      "displayName": "Yusi Qin",
      "userId": "01454558042048653549"
     },
     "user_tz": -120
    },
    "id": "oTyCW5NuWG3b"
   },
   "outputs": [],
   "source": [
    "### drop and concat ###\n",
    "\n",
    "pretrain_feature = pretrain_features.drop(columns='smiles').drop(columns='Id')\n",
    "pretrain_label = pretrain_labels.drop(columns='Id')\n",
    "pretrain = pd.concat([pretrain_feature, pretrain_label], axis=1)\n",
    "\n",
    "train_feature = train_features.drop(columns='smiles').drop(columns='Id')\n",
    "train_label = train_labels.drop(columns='Id')\n",
    "train = pd.concat([train_feature, train_label], axis=1)\n",
    "\n",
    "test = test_features.drop(columns='smiles').drop(columns='Id')\n"
   ]
  },
  {
   "cell_type": "code",
   "execution_count": 88,
   "metadata": {
    "executionInfo": {
     "elapsed": 3,
     "status": "ok",
     "timestamp": 1653564124258,
     "user": {
      "displayName": "Yusi Qin",
      "userId": "01454558042048653549"
     },
     "user_tz": -120
    },
    "id": "jiWca8AGalpe"
   },
   "outputs": [],
   "source": [
    "# print(train)\n",
    "# print(np.array(test_features)[:,0])"
   ]
  },
  {
   "cell_type": "code",
   "execution_count": 68,
   "metadata": {
    "executionInfo": {
     "elapsed": 750,
     "status": "ok",
     "timestamp": 1653564125006,
     "user": {
      "displayName": "Yusi Qin",
      "userId": "01454558042048653549"
     },
     "user_tz": -120
    },
    "id": "UZj7_DSMWQex"
   },
   "outputs": [],
   "source": [
    "### split train and valid ###\n",
    "pre_train, pre_valid = train_test_split(pretrain, test_size=0.2, random_state=1)\n",
    "\n",
    "now_train, now_valid = train_test_split(train, test_size=0.2, random_state=1)\n",
    "\n",
    "x1_train = torch.tensor(np.array(pre_train.iloc[:,:-1])).float()\n",
    "y1_train = torch.tensor(np.array(pre_train.iloc[:,-1])).float()\n",
    "x1_valid = torch.tensor(np.array(pre_valid.iloc[:,:-1])).float()\n",
    "y1_valid = torch.tensor(np.array(pre_valid.iloc[:,-1])).float()\n",
    "\n",
    "x2_train = torch.tensor(np.array(now_train.iloc[:,:-1])).float()\n",
    "y2_train = torch.tensor(np.array(now_train.iloc[:,-1])).float()\n",
    "x2_valid = torch.tensor(np.array(now_valid.iloc[:,:-1])).float()\n",
    "y2_valid = torch.tensor(np.array(now_valid.iloc[:,-1])).float()\n",
    "\n",
    "test = torch.tensor(np.array(test)).float()\n",
    "\n",
    "pre_data_train = TensorDataset(x1_train, y1_train)\n",
    "pre_data_valid = TensorDataset(x1_valid, y1_valid)\n",
    "test_data = TensorDataset(test)\n",
    "\n",
    "data_train = TensorDataset(x2_train, y2_train)\n",
    "data_valid = TensorDataset(x2_valid, y2_valid)\n"
   ]
  },
  {
   "cell_type": "code",
   "execution_count": 90,
   "metadata": {
    "executionInfo": {
     "elapsed": 11,
     "status": "ok",
     "timestamp": 1653564125007,
     "user": {
      "displayName": "Yusi Qin",
      "userId": "01454558042048653549"
     },
     "user_tz": -120
    },
    "id": "EksPX0_NaXnl"
   },
   "outputs": [],
   "source": [
    "# print(data_train)\n",
    "# print(len(test[0,:]))"
   ]
  },
  {
   "cell_type": "code",
   "execution_count": 69,
   "metadata": {
    "executionInfo": {
     "elapsed": 10,
     "status": "ok",
     "timestamp": 1653564125007,
     "user": {
      "displayName": "Yusi Qin",
      "userId": "01454558042048653549"
     },
     "user_tz": -120
    },
    "id": "vRksQlgcjjuX"
   },
   "outputs": [],
   "source": [
    "### load data ###\n",
    "batch_size1 = 64\n",
    "batch_size2 = 5\n",
    "\n",
    "pre_data_train_load = DataLoader(pre_data_train, batch_size1, shuffle=True)\n",
    "pre_data_valid_load = DataLoader(pre_data_valid, batch_size1, shuffle=True)\n",
    "\n",
    "data_train_load = DataLoader(data_train, batch_size2, shuffle=True)\n",
    "data_valid_load = DataLoader(data_valid, batch_size2, shuffle=True)\n",
    "\n",
    "# pre_data = {'train':pre_data_train, 'valid':pre_data_valid}\n",
    "# pre_datasize = {'train':len(y1_train), 'valid':len(y1_valid)}"
   ]
  },
  {
   "cell_type": "code",
   "execution_count": 92,
   "metadata": {
    "executionInfo": {
     "elapsed": 9,
     "status": "ok",
     "timestamp": 1653564125007,
     "user": {
      "displayName": "Yusi Qin",
      "userId": "01454558042048653549"
     },
     "user_tz": -120
    },
    "id": "CsOQDTfg78Xv"
   },
   "outputs": [],
   "source": [
    "# for batch_x, batch_y in pre_data_valid_load:\n",
    "#   print(batch_y)\n",
    "#   break"
   ]
  },
  {
   "cell_type": "code",
   "execution_count": 93,
   "metadata": {
    "executionInfo": {
     "elapsed": 9,
     "status": "ok",
     "timestamp": 1653564125007,
     "user": {
      "displayName": "Yusi Qin",
      "userId": "01454558042048653549"
     },
     "user_tz": -120
    },
    "id": "-5mGfcGs70KI"
   },
   "outputs": [],
   "source": [
    "# for batch_x, batch_y in data_valid_load:\n",
    "#   print(batch_y)\n",
    "#   break"
   ]
  },
  {
   "cell_type": "code",
   "execution_count": 27,
   "metadata": {
    "executionInfo": {
     "elapsed": 9,
     "status": "ok",
     "timestamp": 1653564125008,
     "user": {
      "displayName": "Yusi Qin",
      "userId": "01454558042048653549"
     },
     "user_tz": -120
    },
    "id": "tbuAJIqoOKyU"
   },
   "outputs": [],
   "source": [
    "class Net(nn.Module):\n",
    "  def __init__(self):\n",
    "    super(Net, self).__init__()\n",
    "\n",
    "    self.layer1 = nn.Sequential(nn.Linear(1000,1024), nn.LeakyReLU(), nn.BatchNorm1d(1024), nn.Dropout(p=0.5))\n",
    "\n",
    "    self.layer2 = nn.Sequential(nn.Linear(1024,512), nn.LeakyReLU(), nn.BatchNorm1d(512), nn.Dropout(p=0.5))\n",
    "\n",
    "    self.layer3 = nn.Sequential(nn.Linear(512,256), nn.LeakyReLU(), nn.BatchNorm1d(256), nn.Dropout(p=0.5))\n",
    "\n",
    "    self.layer4 = nn.Sequential(nn.Linear(256,1))\n",
    "    \n",
    "    # self.layer5 = nn.Sequential(nn.Linear(64,1))\n",
    "\n",
    "  def forward(self, x):\n",
    "    x = self.layer1(x)\n",
    "    x = self.layer2(x)\n",
    "    x = self.layer3(x)\n",
    "    x = self.layer4(x)\n",
    "    # x = self.layer5(x)\n",
    "    # x = self.layer6(x)\n",
    "    return x\n"
   ]
  },
  {
   "cell_type": "code",
   "execution_count": 118,
   "metadata": {
    "executionInfo": {
     "elapsed": 9,
     "status": "ok",
     "timestamp": 1653564125008,
     "user": {
      "displayName": "Yusi Qin",
      "userId": "01454558042048653549"
     },
     "user_tz": -120
    },
    "id": "eyhCtEaFVzg0"
   },
   "outputs": [],
   "source": [
    "model_ini = Net()\n",
    "train_loss_history = []\n",
    "val_loss_history = []"
   ]
  },
  {
   "cell_type": "code",
   "execution_count": 119,
   "metadata": {
    "executionInfo": {
     "elapsed": 9,
     "status": "ok",
     "timestamp": 1653564125008,
     "user": {
      "displayName": "Yusi Qin",
      "userId": "01454558042048653549"
     },
     "user_tz": -120
    },
    "id": "dhI4v8j3X7wo"
   },
   "outputs": [],
   "source": [
    "def pretrain_model(model, loss_fn, optimizer, epochs):\n",
    "  best_model_wts = copy.deepcopy(model.state_dict())\n",
    "  best_loss = 1000000\n",
    "\n",
    "  for epoch in tqdm(range(epochs)):\n",
    "\n",
    "    for phase in ['train','valid']:\n",
    "      if phase == 'train':\n",
    "        #scheduler.step()\n",
    "        model.train()\n",
    "      else:\n",
    "        model.eval()\n",
    "\n",
    "      if phase == 'train':\n",
    "        total_loss = 0\n",
    "        cnt = 0\n",
    "        for batch_x, batch_y in pre_data_train_load:\n",
    "\n",
    "          #batch_x = batch_x.to(device)\n",
    "          #batch_y = batch_y.to(device)\n",
    "\n",
    "          pred_train = model(batch_x)\n",
    "          loss = loss_fn(pred_train, batch_y)\n",
    "          total_loss += loss\n",
    "          cnt += 1\n",
    "          \n",
    "          optimizer.zero_grad()\n",
    "          loss.backward()\n",
    "          optimizer.step()\n",
    "        train_loss_history.append(total_loss/cnt)\n",
    "      else:\n",
    "        total_loss = 0\n",
    "        cnt = 0\n",
    "        for batch_x, batch_y in pre_data_valid_load:\n",
    "\n",
    "          #batch_x = batch_x.to(device)\n",
    "          #batch_y = batch_y.to(device)\n",
    "          \n",
    "          pred_valid = model(batch_x)\n",
    "          loss = loss_fn(pred_valid, batch_y)\n",
    "          total_loss += loss\n",
    "          cnt += 1\n",
    "        val_loss_history.append(total_loss/cnt)\n",
    "      epoch_loss = loss.item()/len(batch_y)\n",
    "      print(\"Epoch: {}, Loss: {}\".format(epoch, epoch_loss))\n",
    "\n",
    "      if phase == 'valid' and epoch_loss < best_loss:\n",
    "        best_loss = epoch_loss\n",
    "        best_model_wts = copy.deepcopy(model.state_dict())\n",
    "        print(\"New Best Model: Epoch {}\".format(epoch))\n",
    "        # state = {\n",
    "        #       \"state_dict\": model.state_dict(),\n",
    "        #       \"optimizer\": optimizer.state_dict(),\n",
    "        #       }\n",
    "        # torch.save(state, filename)\n",
    "      \n",
    "  # copy.deepcopy(model.state_dict())\n",
    "  model.load_state_dict(best_model_wts)\n",
    "  return model"
   ]
  },
  {
   "cell_type": "code",
   "execution_count": 120,
   "metadata": {
    "executionInfo": {
     "elapsed": 10,
     "status": "ok",
     "timestamp": 1653564125009,
     "user": {
      "displayName": "Yusi Qin",
      "userId": "01454558042048653549"
     },
     "user_tz": -120
    },
    "id": "PCLGi5NHYVF9"
   },
   "outputs": [],
   "source": [
    "### setting 1 ###\n",
    "\n",
    "learning_rate1 = 0.0005\n",
    "epochs1 = 10\n",
    "loss_fn1 = nn.MSELoss()\n",
    "\n",
    "optimizer1 = torch.optim.Adam(model_ini.parameters(), lr=learning_rate1)\n",
    "# optimizer = torch.optim.SGD(model.parameters(), lr=learning_rate)\n",
    "\n",
    "#scheduler1 = torch.optim.lr_scheduler.StepLR(optimizer1, step_size=15, gamma=0.1)\n",
    "\n",
    "# filename1 = \"model.pth\""
   ]
  },
  {
   "cell_type": "code",
   "execution_count": 121,
   "metadata": {
    "colab": {
     "base_uri": "https://localhost:8080/",
     "height": 1000,
     "referenced_widgets": [
      "45265cc17fb041dd8f07024be6902c43",
      "2ee7f84430c14dd48e83fa08cd459d84",
      "ae3667b6a7ff478b9bd5bf2496d34bd4",
      "85d9f75ddf6c4550ac834bab7f82c3f7",
      "a2b944109abd481db18c196550e045a5",
      "97288d7ed8884834aeaf2d4d98d71417",
      "eead20df5ff8408d890b28492e0e1749",
      "c38a4271d5d74af69598c526f5acfa06",
      "dea05e2ab628410cb2312fab38cd5396",
      "3cac78e97d5e4754adf59fad195cf7d7",
      "65f4e262218846159bdf408ee1bab932"
     ]
    },
    "executionInfo": {
     "elapsed": 193358,
     "status": "ok",
     "timestamp": 1653564318358,
     "user": {
      "displayName": "Yusi Qin",
      "userId": "01454558042048653549"
     },
     "user_tz": -120
    },
    "id": "ylR8IfRPHuYB",
    "outputId": "4fa23a42-0917-4a5f-814c-2ae98a34461e"
   },
   "outputs": [
    {
     "data": {
      "application/vnd.jupyter.widget-view+json": {
       "model_id": "bdba1e8366334223a18195e824c10055",
       "version_major": 2,
       "version_minor": 0
      },
      "text/plain": [
       "  0%|          | 0/10 [00:00<?, ?it/s]"
      ]
     },
     "metadata": {},
     "output_type": "display_data"
    },
    {
     "name": "stdout",
     "output_type": "stream",
     "text": [
      "Epoch: 0, Loss: 0.02002507634460926\n",
      "Epoch: 0, Loss: 0.018604140728712082\n",
      "New Best Model: Epoch 0\n",
      "Epoch: 1, Loss: 0.008668903261423111\n",
      "Epoch: 1, Loss: 0.01884949766099453\n",
      "Epoch: 2, Loss: 0.007248689420521259\n",
      "Epoch: 2, Loss: 0.009655130095779896\n",
      "New Best Model: Epoch 2\n",
      "Epoch: 3, Loss: 0.005178178194910288\n",
      "Epoch: 3, Loss: 0.008055192418396473\n",
      "New Best Model: Epoch 3\n",
      "Epoch: 4, Loss: 0.004981637001037598\n",
      "Epoch: 4, Loss: 0.012233816087245941\n",
      "Epoch: 5, Loss: 0.0052617257460951805\n",
      "Epoch: 5, Loss: 0.013060357421636581\n",
      "Epoch: 6, Loss: 0.004372688475996256\n",
      "Epoch: 6, Loss: 0.010134225711226463\n",
      "Epoch: 7, Loss: 0.003785099135711789\n",
      "Epoch: 7, Loss: 0.006433579605072737\n",
      "New Best Model: Epoch 7\n",
      "Epoch: 8, Loss: 0.004413066431879997\n",
      "Epoch: 8, Loss: 0.012738382443785667\n",
      "Epoch: 9, Loss: 0.003514599520713091\n",
      "Epoch: 9, Loss: 0.008575916290283203\n"
     ]
    }
   ],
   "source": [
    "### train on pretrain_feature get model_now from model_ini ###\n",
    "#model_ini.cuda()\n",
    "model_now = pretrain_model(model_ini, loss_fn1, optimizer1, epochs1)\n"
   ]
  },
  {
   "cell_type": "code",
   "execution_count": 123,
   "metadata": {},
   "outputs": [],
   "source": [
    "train_loss_history = [loss.detach().numpy() for loss in train_loss_history]"
   ]
  },
  {
   "cell_type": "code",
   "execution_count": 124,
   "metadata": {},
   "outputs": [],
   "source": [
    "val_loss_history = [loss.detach().numpy() for loss in val_loss_history]"
   ]
  },
  {
   "cell_type": "code",
   "execution_count": 125,
   "metadata": {
    "colab": {
     "base_uri": "https://localhost:8080/"
    },
    "executionInfo": {
     "elapsed": 18,
     "status": "ok",
     "timestamp": 1653564318358,
     "user": {
      "displayName": "Yusi Qin",
      "userId": "01454558042048653549"
     },
     "user_tz": -120
    },
    "id": "hIZwlA1CLXXE",
    "outputId": "986282cd-a419-421e-b94d-a6be0dc82cc6"
   },
   "outputs": [
    {
     "data": {
      "image/png": "[encoded data removed]",
      "text/plain": [
       "<Figure size 432x288 with 1 Axes>"
      ]
     },
     "metadata": {
      "needs_background": "light"
     },
     "output_type": "display_data"
    }
   ],
   "source": [
    "# pyplot.plot(train_loss_history, label='train')\n",
    "pyplot.plot(val_loss_history, label='test')\n",
    "pyplot.legend()\n",
    "pyplot.show()"
   ]
  },
  {
   "cell_type": "code",
   "execution_count": 38,
   "metadata": {
    "executionInfo": {
     "elapsed": 16,
     "status": "ok",
     "timestamp": 1653564318359,
     "user": {
      "displayName": "Yusi Qin",
      "userId": "01454558042048653549"
     },
     "user_tz": -120
    },
    "id": "ZeYioc8PCutI"
   },
   "outputs": [],
   "source": [
    "class Frozen(nn.Module):\n",
    "  def __init__(self, model):\n",
    "    super(Frozen, self).__init__()\n",
    "    self.frozen = nn.Sequential(*list(model.children())[:-1])\n",
    "\n",
    "   # self.last2 = nn.Sequential(nn.Linear(256,1))\n",
    "\n",
    "  def forward(self, x):\n",
    "    x = self.frozen(x)\n",
    "    #x = self.last1(x)\n",
    "    #x = self.last2(x)\n",
    "\n",
    "    return x\n"
   ]
  },
  {
   "cell_type": "code",
   "execution_count": 39,
   "metadata": {
    "executionInfo": {
     "elapsed": 15,
     "status": "ok",
     "timestamp": 1653564318359,
     "user": {
      "displayName": "Yusi Qin",
      "userId": "01454558042048653549"
     },
     "user_tz": -120
    },
    "id": "3A90hsG_EBDX"
   },
   "outputs": [],
   "source": [
    "### freeze the model_now(on pretrain data) ###\n",
    "#model_now.cuda()\n",
    "model_frozen = Frozen(model_now)"
   ]
  },
  {
   "cell_type": "code",
   "execution_count": 45,
   "metadata": {},
   "outputs": [
    {
     "ename": "TypeError",
     "evalue": "linear(): argument 'input' (position 1) must be Tensor, not DataFrame",
     "output_type": "error",
     "traceback": [
      "\u001b[1;31m---------------------------------------------------------------------------\u001b[0m",
      "\u001b[1;31mTypeError\u001b[0m                                 Traceback (most recent call last)",
      "\u001b[1;32m<ipython-input-45-89d0de5ff47e>\u001b[0m in \u001b[0;36m<module>\u001b[1;34m\u001b[0m\n\u001b[1;32m----> 1\u001b[1;33m \u001b[0mmodel_frozen\u001b[0m\u001b[1;33m(\u001b[0m\u001b[0mtrain_features\u001b[0m\u001b[1;33m)\u001b[0m\u001b[1;33m\u001b[0m\u001b[1;33m\u001b[0m\u001b[0m\n\u001b[0m",
      "\u001b[1;32m~\\anaconda3\\lib\\site-packages\\torch\\nn\\modules\\module.py\u001b[0m in \u001b[0;36m_call_impl\u001b[1;34m(self, *input, **kwargs)\u001b[0m\n\u001b[0;32m   1108\u001b[0m         if not (self._backward_hooks or self._forward_hooks or self._forward_pre_hooks or _global_backward_hooks\n\u001b[0;32m   1109\u001b[0m                 or _global_forward_hooks or _global_forward_pre_hooks):\n\u001b[1;32m-> 1110\u001b[1;33m             \u001b[1;32mreturn\u001b[0m \u001b[0mforward_call\u001b[0m\u001b[1;33m(\u001b[0m\u001b[1;33m*\u001b[0m\u001b[0minput\u001b[0m\u001b[1;33m,\u001b[0m \u001b[1;33m**\u001b[0m\u001b[0mkwargs\u001b[0m\u001b[1;33m)\u001b[0m\u001b[1;33m\u001b[0m\u001b[1;33m\u001b[0m\u001b[0m\n\u001b[0m\u001b[0;32m   1111\u001b[0m         \u001b[1;31m# Do not call functions when jit is used\u001b[0m\u001b[1;33m\u001b[0m\u001b[1;33m\u001b[0m\u001b[1;33m\u001b[0m\u001b[0m\n\u001b[0;32m   1112\u001b[0m         \u001b[0mfull_backward_hooks\u001b[0m\u001b[1;33m,\u001b[0m \u001b[0mnon_full_backward_hooks\u001b[0m \u001b[1;33m=\u001b[0m \u001b[1;33m[\u001b[0m\u001b[1;33m]\u001b[0m\u001b[1;33m,\u001b[0m \u001b[1;33m[\u001b[0m\u001b[1;33m]\u001b[0m\u001b[1;33m\u001b[0m\u001b[1;33m\u001b[0m\u001b[0m\n",
      "\u001b[1;32m<ipython-input-38-883907e0aa04>\u001b[0m in \u001b[0;36mforward\u001b[1;34m(self, x)\u001b[0m\n\u001b[0;32m      7\u001b[0m \u001b[1;33m\u001b[0m\u001b[0m\n\u001b[0;32m      8\u001b[0m   \u001b[1;32mdef\u001b[0m \u001b[0mforward\u001b[0m\u001b[1;33m(\u001b[0m\u001b[0mself\u001b[0m\u001b[1;33m,\u001b[0m \u001b[0mx\u001b[0m\u001b[1;33m)\u001b[0m\u001b[1;33m:\u001b[0m\u001b[1;33m\u001b[0m\u001b[1;33m\u001b[0m\u001b[0m\n\u001b[1;32m----> 9\u001b[1;33m     \u001b[0mx\u001b[0m \u001b[1;33m=\u001b[0m \u001b[0mself\u001b[0m\u001b[1;33m.\u001b[0m\u001b[0mfrozen\u001b[0m\u001b[1;33m(\u001b[0m\u001b[0mx\u001b[0m\u001b[1;33m)\u001b[0m\u001b[1;33m\u001b[0m\u001b[1;33m\u001b[0m\u001b[0m\n\u001b[0m\u001b[0;32m     10\u001b[0m     \u001b[1;31m#x = self.last1(x)\u001b[0m\u001b[1;33m\u001b[0m\u001b[1;33m\u001b[0m\u001b[1;33m\u001b[0m\u001b[0m\n\u001b[0;32m     11\u001b[0m     \u001b[1;31m#x = self.last2(x)\u001b[0m\u001b[1;33m\u001b[0m\u001b[1;33m\u001b[0m\u001b[1;33m\u001b[0m\u001b[0m\n",
      "\u001b[1;32m~\\anaconda3\\lib\\site-packages\\torch\\nn\\modules\\module.py\u001b[0m in \u001b[0;36m_call_impl\u001b[1;34m(self, *input, **kwargs)\u001b[0m\n\u001b[0;32m   1108\u001b[0m         if not (self._backward_hooks or self._forward_hooks or self._forward_pre_hooks or _global_backward_hooks\n\u001b[0;32m   1109\u001b[0m                 or _global_forward_hooks or _global_forward_pre_hooks):\n\u001b[1;32m-> 1110\u001b[1;33m             \u001b[1;32mreturn\u001b[0m \u001b[0mforward_call\u001b[0m\u001b[1;33m(\u001b[0m\u001b[1;33m*\u001b[0m\u001b[0minput\u001b[0m\u001b[1;33m,\u001b[0m \u001b[1;33m**\u001b[0m\u001b[0mkwargs\u001b[0m\u001b[1;33m)\u001b[0m\u001b[1;33m\u001b[0m\u001b[1;33m\u001b[0m\u001b[0m\n\u001b[0m\u001b[0;32m   1111\u001b[0m         \u001b[1;31m# Do not call functions when jit is used\u001b[0m\u001b[1;33m\u001b[0m\u001b[1;33m\u001b[0m\u001b[1;33m\u001b[0m\u001b[0m\n\u001b[0;32m   1112\u001b[0m         \u001b[0mfull_backward_hooks\u001b[0m\u001b[1;33m,\u001b[0m \u001b[0mnon_full_backward_hooks\u001b[0m \u001b[1;33m=\u001b[0m \u001b[1;33m[\u001b[0m\u001b[1;33m]\u001b[0m\u001b[1;33m,\u001b[0m \u001b[1;33m[\u001b[0m\u001b[1;33m]\u001b[0m\u001b[1;33m\u001b[0m\u001b[1;33m\u001b[0m\u001b[0m\n",
      "\u001b[1;32m~\\anaconda3\\lib\\site-packages\\torch\\nn\\modules\\container.py\u001b[0m in \u001b[0;36mforward\u001b[1;34m(self, input)\u001b[0m\n\u001b[0;32m    139\u001b[0m     \u001b[1;32mdef\u001b[0m \u001b[0mforward\u001b[0m\u001b[1;33m(\u001b[0m\u001b[0mself\u001b[0m\u001b[1;33m,\u001b[0m \u001b[0minput\u001b[0m\u001b[1;33m)\u001b[0m\u001b[1;33m:\u001b[0m\u001b[1;33m\u001b[0m\u001b[1;33m\u001b[0m\u001b[0m\n\u001b[0;32m    140\u001b[0m         \u001b[1;32mfor\u001b[0m \u001b[0mmodule\u001b[0m \u001b[1;32min\u001b[0m \u001b[0mself\u001b[0m\u001b[1;33m:\u001b[0m\u001b[1;33m\u001b[0m\u001b[1;33m\u001b[0m\u001b[0m\n\u001b[1;32m--> 141\u001b[1;33m             \u001b[0minput\u001b[0m \u001b[1;33m=\u001b[0m \u001b[0mmodule\u001b[0m\u001b[1;33m(\u001b[0m\u001b[0minput\u001b[0m\u001b[1;33m)\u001b[0m\u001b[1;33m\u001b[0m\u001b[1;33m\u001b[0m\u001b[0m\n\u001b[0m\u001b[0;32m    142\u001b[0m         \u001b[1;32mreturn\u001b[0m \u001b[0minput\u001b[0m\u001b[1;33m\u001b[0m\u001b[1;33m\u001b[0m\u001b[0m\n\u001b[0;32m    143\u001b[0m \u001b[1;33m\u001b[0m\u001b[0m\n",
      "\u001b[1;32m~\\anaconda3\\lib\\site-packages\\torch\\nn\\modules\\module.py\u001b[0m in \u001b[0;36m_call_impl\u001b[1;34m(self, *input, **kwargs)\u001b[0m\n\u001b[0;32m   1108\u001b[0m         if not (self._backward_hooks or self._forward_hooks or self._forward_pre_hooks or _global_backward_hooks\n\u001b[0;32m   1109\u001b[0m                 or _global_forward_hooks or _global_forward_pre_hooks):\n\u001b[1;32m-> 1110\u001b[1;33m             \u001b[1;32mreturn\u001b[0m \u001b[0mforward_call\u001b[0m\u001b[1;33m(\u001b[0m\u001b[1;33m*\u001b[0m\u001b[0minput\u001b[0m\u001b[1;33m,\u001b[0m \u001b[1;33m**\u001b[0m\u001b[0mkwargs\u001b[0m\u001b[1;33m)\u001b[0m\u001b[1;33m\u001b[0m\u001b[1;33m\u001b[0m\u001b[0m\n\u001b[0m\u001b[0;32m   1111\u001b[0m         \u001b[1;31m# Do not call functions when jit is used\u001b[0m\u001b[1;33m\u001b[0m\u001b[1;33m\u001b[0m\u001b[1;33m\u001b[0m\u001b[0m\n\u001b[0;32m   1112\u001b[0m         \u001b[0mfull_backward_hooks\u001b[0m\u001b[1;33m,\u001b[0m \u001b[0mnon_full_backward_hooks\u001b[0m \u001b[1;33m=\u001b[0m \u001b[1;33m[\u001b[0m\u001b[1;33m]\u001b[0m\u001b[1;33m,\u001b[0m \u001b[1;33m[\u001b[0m\u001b[1;33m]\u001b[0m\u001b[1;33m\u001b[0m\u001b[1;33m\u001b[0m\u001b[0m\n",
      "\u001b[1;32m~\\anaconda3\\lib\\site-packages\\torch\\nn\\modules\\container.py\u001b[0m in \u001b[0;36mforward\u001b[1;34m(self, input)\u001b[0m\n\u001b[0;32m    139\u001b[0m     \u001b[1;32mdef\u001b[0m \u001b[0mforward\u001b[0m\u001b[1;33m(\u001b[0m\u001b[0mself\u001b[0m\u001b[1;33m,\u001b[0m \u001b[0minput\u001b[0m\u001b[1;33m)\u001b[0m\u001b[1;33m:\u001b[0m\u001b[1;33m\u001b[0m\u001b[1;33m\u001b[0m\u001b[0m\n\u001b[0;32m    140\u001b[0m         \u001b[1;32mfor\u001b[0m \u001b[0mmodule\u001b[0m \u001b[1;32min\u001b[0m \u001b[0mself\u001b[0m\u001b[1;33m:\u001b[0m\u001b[1;33m\u001b[0m\u001b[1;33m\u001b[0m\u001b[0m\n\u001b[1;32m--> 141\u001b[1;33m             \u001b[0minput\u001b[0m \u001b[1;33m=\u001b[0m \u001b[0mmodule\u001b[0m\u001b[1;33m(\u001b[0m\u001b[0minput\u001b[0m\u001b[1;33m)\u001b[0m\u001b[1;33m\u001b[0m\u001b[1;33m\u001b[0m\u001b[0m\n\u001b[0m\u001b[0;32m    142\u001b[0m         \u001b[1;32mreturn\u001b[0m \u001b[0minput\u001b[0m\u001b[1;33m\u001b[0m\u001b[1;33m\u001b[0m\u001b[0m\n\u001b[0;32m    143\u001b[0m \u001b[1;33m\u001b[0m\u001b[0m\n",
      "\u001b[1;32m~\\anaconda3\\lib\\site-packages\\torch\\nn\\modules\\module.py\u001b[0m in \u001b[0;36m_call_impl\u001b[1;34m(self, *input, **kwargs)\u001b[0m\n\u001b[0;32m   1108\u001b[0m         if not (self._backward_hooks or self._forward_hooks or self._forward_pre_hooks or _global_backward_hooks\n\u001b[0;32m   1109\u001b[0m                 or _global_forward_hooks or _global_forward_pre_hooks):\n\u001b[1;32m-> 1110\u001b[1;33m             \u001b[1;32mreturn\u001b[0m \u001b[0mforward_call\u001b[0m\u001b[1;33m(\u001b[0m\u001b[1;33m*\u001b[0m\u001b[0minput\u001b[0m\u001b[1;33m,\u001b[0m \u001b[1;33m**\u001b[0m\u001b[0mkwargs\u001b[0m\u001b[1;33m)\u001b[0m\u001b[1;33m\u001b[0m\u001b[1;33m\u001b[0m\u001b[0m\n\u001b[0m\u001b[0;32m   1111\u001b[0m         \u001b[1;31m# Do not call functions when jit is used\u001b[0m\u001b[1;33m\u001b[0m\u001b[1;33m\u001b[0m\u001b[1;33m\u001b[0m\u001b[0m\n\u001b[0;32m   1112\u001b[0m         \u001b[0mfull_backward_hooks\u001b[0m\u001b[1;33m,\u001b[0m \u001b[0mnon_full_backward_hooks\u001b[0m \u001b[1;33m=\u001b[0m \u001b[1;33m[\u001b[0m\u001b[1;33m]\u001b[0m\u001b[1;33m,\u001b[0m \u001b[1;33m[\u001b[0m\u001b[1;33m]\u001b[0m\u001b[1;33m\u001b[0m\u001b[1;33m\u001b[0m\u001b[0m\n",
      "\u001b[1;32m~\\anaconda3\\lib\\site-packages\\torch\\nn\\modules\\linear.py\u001b[0m in \u001b[0;36mforward\u001b[1;34m(self, input)\u001b[0m\n\u001b[0;32m    101\u001b[0m \u001b[1;33m\u001b[0m\u001b[0m\n\u001b[0;32m    102\u001b[0m     \u001b[1;32mdef\u001b[0m \u001b[0mforward\u001b[0m\u001b[1;33m(\u001b[0m\u001b[0mself\u001b[0m\u001b[1;33m,\u001b[0m \u001b[0minput\u001b[0m\u001b[1;33m:\u001b[0m \u001b[0mTensor\u001b[0m\u001b[1;33m)\u001b[0m \u001b[1;33m->\u001b[0m \u001b[0mTensor\u001b[0m\u001b[1;33m:\u001b[0m\u001b[1;33m\u001b[0m\u001b[1;33m\u001b[0m\u001b[0m\n\u001b[1;32m--> 103\u001b[1;33m         \u001b[1;32mreturn\u001b[0m \u001b[0mF\u001b[0m\u001b[1;33m.\u001b[0m\u001b[0mlinear\u001b[0m\u001b[1;33m(\u001b[0m\u001b[0minput\u001b[0m\u001b[1;33m,\u001b[0m \u001b[0mself\u001b[0m\u001b[1;33m.\u001b[0m\u001b[0mweight\u001b[0m\u001b[1;33m,\u001b[0m \u001b[0mself\u001b[0m\u001b[1;33m.\u001b[0m\u001b[0mbias\u001b[0m\u001b[1;33m)\u001b[0m\u001b[1;33m\u001b[0m\u001b[1;33m\u001b[0m\u001b[0m\n\u001b[0m\u001b[0;32m    104\u001b[0m \u001b[1;33m\u001b[0m\u001b[0m\n\u001b[0;32m    105\u001b[0m     \u001b[1;32mdef\u001b[0m \u001b[0mextra_repr\u001b[0m\u001b[1;33m(\u001b[0m\u001b[0mself\u001b[0m\u001b[1;33m)\u001b[0m \u001b[1;33m->\u001b[0m \u001b[0mstr\u001b[0m\u001b[1;33m:\u001b[0m\u001b[1;33m\u001b[0m\u001b[1;33m\u001b[0m\u001b[0m\n",
      "\u001b[1;31mTypeError\u001b[0m: linear(): argument 'input' (position 1) must be Tensor, not DataFrame"
     ]
    }
   ],
   "source": [
    "model_frozen(train_features)"
   ]
  },
  {
   "cell_type": "code",
   "execution_count": 44,
   "metadata": {},
   "outputs": [
    {
     "name": "stdout",
     "output_type": "stream",
     "text": [
      "torch.Size([5, 1000])\n",
      "torch.Size([5, 256])\n",
      "torch.Size([5])\n",
      "torch.Size([5, 1000])\n",
      "torch.Size([5, 256])\n",
      "torch.Size([5])\n",
      "torch.Size([5, 1000])\n",
      "torch.Size([5, 256])\n",
      "torch.Size([5])\n",
      "torch.Size([5, 1000])\n",
      "torch.Size([5, 256])\n",
      "torch.Size([5])\n",
      "torch.Size([5, 1000])\n",
      "torch.Size([5, 256])\n",
      "torch.Size([5])\n",
      "torch.Size([5, 1000])\n",
      "torch.Size([5, 256])\n",
      "torch.Size([5])\n",
      "torch.Size([5, 1000])\n",
      "torch.Size([5, 256])\n",
      "torch.Size([5])\n",
      "torch.Size([5, 1000])\n",
      "torch.Size([5, 256])\n",
      "torch.Size([5])\n",
      "torch.Size([5, 1000])\n",
      "torch.Size([5, 256])\n",
      "torch.Size([5])\n",
      "torch.Size([5, 1000])\n",
      "torch.Size([5, 256])\n",
      "torch.Size([5])\n",
      "torch.Size([5, 1000])\n",
      "torch.Size([5, 256])\n",
      "torch.Size([5])\n",
      "torch.Size([5, 1000])\n",
      "torch.Size([5, 256])\n",
      "torch.Size([5])\n",
      "torch.Size([5, 1000])\n",
      "torch.Size([5, 256])\n",
      "torch.Size([5])\n",
      "torch.Size([5, 1000])\n",
      "torch.Size([5, 256])\n",
      "torch.Size([5])\n",
      "torch.Size([5, 1000])\n",
      "torch.Size([5, 256])\n",
      "torch.Size([5])\n",
      "torch.Size([5, 1000])\n",
      "torch.Size([5, 256])\n",
      "torch.Size([5])\n"
     ]
    }
   ],
   "source": [
    "for batch_x, batch_y in data_train_load:\n",
    "    batch_x = batch_x\n",
    "    batch_y = batch_y\n",
    "    batch_x_feature = model_frozen(batch_x)\n",
    "    print(batch_x.shape)\n",
    "    print(batch_x_feature.shape)\n",
    "    print(batch_y.shape)"
   ]
  },
  {
   "cell_type": "code",
   "execution_count": null,
   "metadata": {},
   "outputs": [],
   "source": []
  },
  {
   "cell_type": "code",
   "execution_count": 102,
   "metadata": {
    "executionInfo": {
     "elapsed": 16,
     "status": "ok",
     "timestamp": 1653564318360,
     "user": {
      "displayName": "Yusi Qin",
      "userId": "01454558042048653549"
     },
     "user_tz": -120
    },
    "id": "Nif3EzcivKsD"
   },
   "outputs": [],
   "source": [
    "# def train_model(model, loss_fn, optimizer, epochs):\n",
    "\n",
    "#   best_model_wts = copy.deepcopy(model.state_dict())\n",
    "#   best_loss = 1000000\n",
    "\n",
    "#   for para in model.frozen.parameters():\n",
    "#     para.requires_grad = False\n",
    "#   # for para in model.last1.parameters():\n",
    "#   #   para.requires_grad = True\n",
    "#   for para in model.last2.parameters():\n",
    "#     para.requires_grad = True\n",
    "\n",
    "#   for epoch in tqdm(range(epochs)):\n",
    "\n",
    "#     for phase in ['train','valid']:\n",
    "#       if phase == 'train':\n",
    "#        # scheduler.step()\n",
    "#         model.train()\n",
    "#       else:\n",
    "#         model.eval()\n",
    "\n",
    "#       # size = 0\n",
    "#       # loss = 0\n",
    "#       if phase == 'train':\n",
    "        \n",
    "#         for batch_x, batch_y in data_train_load:\n",
    "          \n",
    "#          # batch_x = batch_x.to(device)\n",
    "#           #batch_y = batch_y.to(device)\n",
    "\n",
    "#           pred_train = model(batch_x)\n",
    "#           loss = loss_fn(pred_train, batch_y)\n",
    "        \n",
    "#           optimizer.zero_grad()\n",
    "#           loss.backward()\n",
    "#           optimizer.step()\n",
    "\n",
    "#       else:\n",
    "#         for batch_x, batch_y in data_valid_load:\n",
    "\n",
    "#           #batch_x = batch_x.to(device)\n",
    "#           #batch_y = batch_y.to(device)\n",
    "\n",
    "#           pred_valid = model(batch_x)\n",
    "#           loss = loss_fn(pred_valid, batch_y)\n",
    "\n",
    "#       epoch_loss = loss.item()/len(batch_y)\n",
    "#       print(\"Epoch: {}, Loss: {}\".format(epoch, epoch_loss))\n",
    "\n",
    "#       if phase == 'valid' and epoch_loss < best_loss:\n",
    "#         best_loss = epoch_loss\n",
    "#         best_model_wts = copy.deepcopy(model.state_dict())\n",
    "#         print(\"New Best Model: Epoch {}\".format(epoch))\n",
    "      \n",
    "#   copy.deepcopy(model.state_dict())\n",
    "#   # model.load_state_dict(best_model_wts)\n",
    "\n",
    "#   return model"
   ]
  },
  {
   "cell_type": "code",
   "execution_count": 103,
   "metadata": {
    "executionInfo": {
     "elapsed": 15,
     "status": "ok",
     "timestamp": 1653564318360,
     "user": {
      "displayName": "Yusi Qin",
      "userId": "01454558042048653549"
     },
     "user_tz": -120
    },
    "id": "8Jh0RrQLVjfZ"
   },
   "outputs": [],
   "source": [
    "### setting 2 ###\n",
    "\n",
    "# learning_rate2 = 1e-3\n",
    "epochs2 = 150\n",
    "loss_fn2 = nn.MSELoss()\n",
    "\n",
    "optimizer2 = torch.optim.Adam(model_frozen.parameters())#, lr=learning_rate2)\n",
    "# optimizer = torch.optim.SGD(model.parameters(), lr=learning_rate2)\n",
    "\n",
    "#scheduler2 = torch.optim.lr_scheduler.StepLR(optimizer2, step_size=10, gamma=0.1)\n"
   ]
  },
  {
   "cell_type": "code",
   "execution_count": 104,
   "metadata": {
    "colab": {
     "base_uri": "https://localhost:8080/",
     "height": 1000,
     "referenced_widgets": [
      "2fce19aeca0648c8ba018d4251cdeabf",
      "06795bfab21346b88c871d975d7e43cb",
      "dae4ee7a100f4daeb0475d9aab0e9f9f",
      "d3f0e105268446ee9337dad17ffd78d3",
      "f9f35b79147c40b7b04edb3cbb033422",
      "dc324863d80646f783603c2ed12e83c9",
      "02cff9da3ac24cf19cd7b3c062a35fbe",
      "d26bd93a216b46ba92cb71bdcacb2b5f",
      "5d7875f1ade94d759eecb587847203be",
      "f2d5224e95e04541a3d1302f8e06d660",
      "717f554cb3474a908aae4f9deef9bc9b"
     ]
    },
    "executionInfo": {
     "elapsed": 3026,
     "status": "ok",
     "timestamp": 1653564321371,
     "user": {
      "displayName": "Yusi Qin",
      "userId": "01454558042048653549"
     },
     "user_tz": -120
    },
    "id": "JQS63OHKfn83",
    "outputId": "0a5d9bd0-a310-401e-af90-670b07316a59"
   },
   "outputs": [
    {
     "data": {
      "application/vnd.jupyter.widget-view+json": {
       "model_id": "2fce19aeca0648c8ba018d4251cdeabf",
       "version_major": 2,
       "version_minor": 0
      },
      "text/plain": [
       "  0%|          | 0/150 [00:00<?, ?it/s]"
      ]
     },
     "metadata": {},
     "output_type": "display_data"
    },
    {
     "name": "stdout",
     "output_type": "stream",
     "text": [
      "Epoch: 0, Loss: 0.08082984387874603\n",
      "Epoch: 0, Loss: 0.03420465439558029\n",
      "New Best Model: Epoch 0\n",
      "Epoch: 1, Loss: 0.0737655758857727\n",
      "Epoch: 1, Loss: 0.1542738974094391\n",
      "Epoch: 2, Loss: 0.013950075954198837\n",
      "Epoch: 2, Loss: 0.026159435510635376\n",
      "New Best Model: Epoch 2\n",
      "Epoch: 3, Loss: 0.03272996097803116\n",
      "Epoch: 3, Loss: 0.015852872282266617\n"
     ]
    },
    {
     "name": "stderr",
     "output_type": "stream",
     "text": [
      "/usr/local/lib/python3.7/dist-packages/torch/optim/lr_scheduler.py:136: UserWarning: Detected call of `lr_scheduler.step()` before `optimizer.step()`. In PyTorch 1.1.0 and later, you should call them in the opposite order: `optimizer.step()` before `lr_scheduler.step()`.  Failure to do this will result in PyTorch skipping the first value of the learning rate schedule. See more details at https://pytorch.org/docs/stable/optim.html#how-to-adjust-learning-rate\n",
      "  \"https://pytorch.org/docs/stable/optim.html#how-to-adjust-learning-rate\", UserWarning)\n",
      "/usr/local/lib/python3.7/dist-packages/torch/nn/modules/loss.py:529: UserWarning: Using a target size (torch.Size([8])) that is different to the input size (torch.Size([8, 1])). This will likely lead to incorrect results due to broadcasting. Please ensure they have the same size.\n",
      "  return F.mse_loss(input, target, reduction=self.reduction)\n",
      "/usr/local/lib/python3.7/dist-packages/torch/nn/modules/loss.py:529: UserWarning: Using a target size (torch.Size([4])) that is different to the input size (torch.Size([4, 1])). This will likely lead to incorrect results due to broadcasting. Please ensure they have the same size.\n",
      "  return F.mse_loss(input, target, reduction=self.reduction)\n"
     ]
    },
    {
     "name": "stdout",
     "output_type": "stream",
     "text": [
      "New Best Model: Epoch 3\n",
      "Epoch: 4, Loss: 0.018127605319023132\n",
      "Epoch: 4, Loss: 0.018603704869747162\n",
      "Epoch: 5, Loss: 0.008676663041114807\n",
      "Epoch: 5, Loss: 0.038507040590047836\n",
      "Epoch: 6, Loss: 0.007860690355300903\n",
      "Epoch: 6, Loss: 0.03133673965930939\n",
      "Epoch: 7, Loss: 0.027812253683805466\n",
      "Epoch: 7, Loss: 0.008037188090384007\n",
      "New Best Model: Epoch 7\n",
      "Epoch: 8, Loss: 0.01015254482626915\n",
      "Epoch: 8, Loss: 0.035327911376953125\n",
      "Epoch: 9, Loss: 0.007970656268298626\n",
      "Epoch: 9, Loss: 0.08183083683252335\n",
      "Epoch: 10, Loss: 0.017639998346567154\n",
      "Epoch: 10, Loss: 0.05272064357995987\n",
      "Epoch: 11, Loss: 0.023034505546092987\n",
      "Epoch: 11, Loss: 0.025742005556821823\n",
      "Epoch: 12, Loss: 0.018832549452781677\n",
      "Epoch: 12, Loss: 0.007319396361708641\n",
      "New Best Model: Epoch 12\n",
      "Epoch: 13, Loss: 0.02495858259499073\n",
      "Epoch: 13, Loss: 0.04310629889369011\n",
      "Epoch: 14, Loss: 0.013951700180768967\n",
      "Epoch: 14, Loss: 0.03650982305407524\n",
      "Epoch: 15, Loss: 0.01986825279891491\n",
      "Epoch: 15, Loss: 0.03057575784623623\n",
      "Epoch: 16, Loss: 0.019740477204322815\n",
      "Epoch: 16, Loss: 0.07560339570045471\n",
      "Epoch: 17, Loss: 0.030376406386494637\n",
      "Epoch: 17, Loss: 0.04516874626278877\n",
      "Epoch: 18, Loss: 0.008831351064145565\n",
      "Epoch: 18, Loss: 0.018448814749717712\n",
      "Epoch: 19, Loss: 0.022499579936265945\n",
      "Epoch: 19, Loss: 0.04564525932073593\n",
      "Epoch: 20, Loss: 0.00928780809044838\n",
      "Epoch: 20, Loss: 0.05691458284854889\n",
      "Epoch: 21, Loss: 0.007271305657923222\n",
      "Epoch: 21, Loss: 0.0479012131690979\n",
      "Epoch: 22, Loss: 0.012941848486661911\n",
      "Epoch: 22, Loss: 0.05643628537654877\n",
      "Epoch: 23, Loss: 0.01051334198564291\n",
      "Epoch: 23, Loss: 0.04684365540742874\n",
      "Epoch: 24, Loss: 0.01060559507459402\n",
      "Epoch: 24, Loss: 0.020071256905794144\n",
      "Epoch: 25, Loss: 0.013131385669112206\n",
      "Epoch: 25, Loss: 0.06252168118953705\n",
      "Epoch: 26, Loss: 0.02394828014075756\n",
      "Epoch: 26, Loss: 0.01939445361495018\n",
      "Epoch: 27, Loss: 0.028585165739059448\n",
      "Epoch: 27, Loss: 0.05779638513922691\n",
      "Epoch: 28, Loss: 0.014202278107404709\n",
      "Epoch: 28, Loss: 0.036321818828582764\n",
      "Epoch: 29, Loss: 0.008164536207914352\n",
      "Epoch: 29, Loss: 0.027712233364582062\n",
      "Epoch: 30, Loss: 0.008867866359651089\n",
      "Epoch: 30, Loss: 0.00932777114212513\n",
      "Epoch: 31, Loss: 0.014737293124198914\n",
      "Epoch: 31, Loss: 0.04806223139166832\n",
      "Epoch: 32, Loss: 0.029163189232349396\n",
      "Epoch: 32, Loss: 0.015833750367164612\n",
      "Epoch: 33, Loss: 0.02029627189040184\n",
      "Epoch: 33, Loss: 0.008319968357682228\n",
      "Epoch: 34, Loss: 0.00811777450144291\n",
      "Epoch: 34, Loss: 0.014646576717495918\n",
      "Epoch: 35, Loss: 0.01842670887708664\n",
      "Epoch: 35, Loss: 0.047229889780282974\n",
      "Epoch: 36, Loss: 0.011003607884049416\n",
      "Epoch: 36, Loss: 0.01667620614171028\n",
      "Epoch: 37, Loss: 0.01226252131164074\n",
      "Epoch: 37, Loss: 0.025562144815921783\n",
      "Epoch: 38, Loss: 0.004154894035309553\n",
      "Epoch: 38, Loss: 0.01770569384098053\n",
      "Epoch: 39, Loss: 0.00819429662078619\n",
      "Epoch: 39, Loss: 0.02249622344970703\n",
      "Epoch: 40, Loss: 0.018448062241077423\n",
      "Epoch: 40, Loss: 0.03475446254014969\n",
      "Epoch: 41, Loss: 0.02219088189303875\n",
      "Epoch: 41, Loss: 0.07445023953914642\n",
      "Epoch: 42, Loss: 0.011615660041570663\n",
      "Epoch: 42, Loss: 0.02733692154288292\n",
      "Epoch: 43, Loss: 0.018496587872505188\n",
      "Epoch: 43, Loss: 0.03331068158149719\n",
      "Epoch: 44, Loss: 0.030631422996520996\n",
      "Epoch: 44, Loss: 0.005347931757569313\n",
      "New Best Model: Epoch 44\n",
      "Epoch: 45, Loss: 0.0202956460416317\n",
      "Epoch: 45, Loss: 0.022564992308616638\n",
      "Epoch: 46, Loss: 0.017473682761192322\n",
      "Epoch: 46, Loss: 0.036014579236507416\n",
      "Epoch: 47, Loss: 0.019208233803510666\n",
      "Epoch: 47, Loss: 0.0618666373193264\n",
      "Epoch: 48, Loss: 0.018330488353967667\n",
      "Epoch: 48, Loss: 0.01765476167201996\n",
      "Epoch: 49, Loss: 0.01617015153169632\n",
      "Epoch: 49, Loss: 0.056607142090797424\n",
      "Epoch: 50, Loss: 0.019314110279083252\n",
      "Epoch: 50, Loss: 0.046895965933799744\n",
      "Epoch: 51, Loss: 0.00291146757081151\n",
      "Epoch: 51, Loss: 0.02628973126411438\n",
      "Epoch: 52, Loss: 0.045305266976356506\n",
      "Epoch: 52, Loss: 0.04270236939191818\n",
      "Epoch: 53, Loss: 0.013981537893414497\n",
      "Epoch: 53, Loss: 0.020404066890478134\n",
      "Epoch: 54, Loss: 0.03219038248062134\n",
      "Epoch: 54, Loss: 0.05365125834941864\n",
      "Epoch: 55, Loss: 0.01840217038989067\n",
      "Epoch: 55, Loss: 0.011264095082879066\n",
      "Epoch: 56, Loss: 0.024381376802921295\n",
      "Epoch: 56, Loss: 0.015437636524438858\n",
      "Epoch: 57, Loss: 0.014579417183995247\n",
      "Epoch: 57, Loss: 0.06733087450265884\n",
      "Epoch: 58, Loss: 0.01828574389219284\n",
      "Epoch: 58, Loss: 0.050728946924209595\n",
      "Epoch: 59, Loss: 0.012518258765339851\n",
      "Epoch: 59, Loss: 0.012125913053750992\n",
      "Epoch: 60, Loss: 0.023692747578024864\n",
      "Epoch: 60, Loss: 0.07336609065532684\n",
      "Epoch: 61, Loss: 0.02304636314511299\n",
      "Epoch: 61, Loss: 0.012386361137032509\n",
      "Epoch: 62, Loss: 0.006931126117706299\n",
      "Epoch: 62, Loss: 0.04747939854860306\n",
      "Epoch: 63, Loss: 0.013700691051781178\n",
      "Epoch: 63, Loss: 0.028615158051252365\n",
      "Epoch: 64, Loss: 0.01659306138753891\n",
      "Epoch: 64, Loss: 0.026266103610396385\n",
      "Epoch: 65, Loss: 0.01457090862095356\n",
      "Epoch: 65, Loss: 0.035518575459718704\n",
      "Epoch: 66, Loss: 0.018668409436941147\n",
      "Epoch: 66, Loss: 0.0370473712682724\n",
      "Epoch: 67, Loss: 0.017894435673952103\n",
      "Epoch: 67, Loss: 0.05563883110880852\n",
      "Epoch: 68, Loss: 0.01184500940144062\n",
      "Epoch: 68, Loss: 0.030424969270825386\n",
      "Epoch: 69, Loss: 0.037940897047519684\n",
      "Epoch: 69, Loss: 0.026937246322631836\n",
      "Epoch: 70, Loss: 0.02004791982471943\n",
      "Epoch: 70, Loss: 0.046895831823349\n",
      "Epoch: 71, Loss: 0.018108775839209557\n",
      "Epoch: 71, Loss: 0.05098986625671387\n",
      "Epoch: 72, Loss: 0.009703734889626503\n",
      "Epoch: 72, Loss: 0.046047843992710114\n",
      "Epoch: 73, Loss: 0.01876213774085045\n",
      "Epoch: 73, Loss: 0.05333681404590607\n",
      "Epoch: 74, Loss: 0.01997067779302597\n",
      "Epoch: 74, Loss: 0.02213003858923912\n",
      "Epoch: 75, Loss: 0.015467830933630466\n",
      "Epoch: 75, Loss: 0.026257533580064774\n",
      "Epoch: 76, Loss: 0.009999891743063927\n",
      "Epoch: 76, Loss: 0.030187439173460007\n",
      "Epoch: 77, Loss: 0.04033379629254341\n",
      "Epoch: 77, Loss: 0.03602910041809082\n",
      "Epoch: 78, Loss: 0.020426785573363304\n",
      "Epoch: 78, Loss: 0.05453232675790787\n",
      "Epoch: 79, Loss: 0.013906141743063927\n",
      "Epoch: 79, Loss: 0.03433873504400253\n",
      "Epoch: 80, Loss: 0.01396643090993166\n",
      "Epoch: 80, Loss: 0.060113124549388885\n",
      "Epoch: 81, Loss: 0.0020949605386704206\n",
      "Epoch: 81, Loss: 0.05371129512786865\n",
      "Epoch: 82, Loss: 0.03307901322841644\n",
      "Epoch: 82, Loss: 0.02438635379076004\n",
      "Epoch: 83, Loss: 0.024963291361927986\n",
      "Epoch: 83, Loss: 0.04116043448448181\n",
      "Epoch: 84, Loss: 0.022862082347273827\n",
      "Epoch: 84, Loss: 0.01394253596663475\n",
      "Epoch: 85, Loss: 0.004878280684351921\n",
      "Epoch: 85, Loss: 0.03271924704313278\n",
      "Epoch: 86, Loss: 0.01723482273519039\n",
      "Epoch: 86, Loss: 0.05136986821889877\n",
      "Epoch: 87, Loss: 0.017851287499070168\n",
      "Epoch: 87, Loss: 0.05980175733566284\n",
      "Epoch: 88, Loss: 0.02161015197634697\n",
      "Epoch: 88, Loss: 0.04200167953968048\n",
      "Epoch: 89, Loss: 0.01849336177110672\n",
      "Epoch: 89, Loss: 0.01766783557832241\n",
      "Epoch: 90, Loss: 0.010942619293928146\n",
      "Epoch: 90, Loss: 0.025364208966493607\n",
      "Epoch: 91, Loss: 0.012358603999018669\n",
      "Epoch: 91, Loss: 0.01683262549340725\n",
      "Epoch: 92, Loss: 0.018901078030467033\n",
      "Epoch: 92, Loss: 0.018982982262969017\n",
      "Epoch: 93, Loss: 0.00918842013925314\n",
      "Epoch: 93, Loss: 0.046156905591487885\n",
      "Epoch: 94, Loss: 0.018028706312179565\n",
      "Epoch: 94, Loss: 0.0640680342912674\n",
      "Epoch: 95, Loss: 0.018395092338323593\n",
      "Epoch: 95, Loss: 0.01809520646929741\n",
      "Epoch: 96, Loss: 0.014714260585606098\n",
      "Epoch: 96, Loss: 0.04279209300875664\n",
      "Epoch: 97, Loss: 0.01578502357006073\n",
      "Epoch: 97, Loss: 0.04571527615189552\n",
      "Epoch: 98, Loss: 0.02459651231765747\n",
      "Epoch: 98, Loss: 0.021336641162633896\n",
      "Epoch: 99, Loss: 0.02566349133849144\n",
      "Epoch: 99, Loss: 0.03649964556097984\n",
      "Epoch: 100, Loss: 0.009344298392534256\n",
      "Epoch: 100, Loss: 0.07272861897945404\n",
      "Epoch: 101, Loss: 0.013668239116668701\n",
      "Epoch: 101, Loss: 0.04782655090093613\n",
      "Epoch: 102, Loss: 0.01778663694858551\n",
      "Epoch: 102, Loss: 0.019921405240893364\n",
      "Epoch: 103, Loss: 0.012333966791629791\n",
      "Epoch: 103, Loss: 0.02470766194164753\n",
      "Epoch: 104, Loss: 0.016828637570142746\n",
      "Epoch: 104, Loss: 0.04197943955659866\n",
      "Epoch: 105, Loss: 0.018618954345583916\n",
      "Epoch: 105, Loss: 0.0223805233836174\n",
      "Epoch: 106, Loss: 0.006104639731347561\n",
      "Epoch: 106, Loss: 0.049283914268016815\n",
      "Epoch: 107, Loss: 0.01647038757801056\n",
      "Epoch: 107, Loss: 0.06534908711910248\n",
      "Epoch: 108, Loss: 0.01499704085290432\n",
      "Epoch: 108, Loss: 0.048658326268196106\n",
      "Epoch: 109, Loss: 0.015730375424027443\n",
      "Epoch: 109, Loss: 0.015064207836985588\n",
      "Epoch: 110, Loss: 0.008873023092746735\n",
      "Epoch: 110, Loss: 0.027012284845113754\n",
      "Epoch: 111, Loss: 0.0169253908097744\n",
      "Epoch: 111, Loss: 0.0640680342912674\n",
      "Epoch: 112, Loss: 0.013411374762654305\n",
      "Epoch: 112, Loss: 0.057327866554260254\n",
      "Epoch: 113, Loss: 0.014991791918873787\n",
      "Epoch: 113, Loss: 0.0357835479080677\n",
      "Epoch: 114, Loss: 0.0069318595342338085\n",
      "Epoch: 114, Loss: 0.06603054702281952\n",
      "Epoch: 115, Loss: 0.007399032358080149\n",
      "Epoch: 115, Loss: 0.046770356595516205\n",
      "Epoch: 116, Loss: 0.009068788960576057\n",
      "Epoch: 116, Loss: 0.022136030718684196\n",
      "Epoch: 117, Loss: 0.02243894338607788\n",
      "Epoch: 117, Loss: 0.040797632187604904\n",
      "Epoch: 118, Loss: 0.01867237128317356\n",
      "Epoch: 118, Loss: 0.03693164885044098\n",
      "Epoch: 119, Loss: 0.01267693005502224\n",
      "Epoch: 119, Loss: 0.008586942218244076\n",
      "Epoch: 120, Loss: 0.008484214544296265\n",
      "Epoch: 120, Loss: 0.02468024753034115\n",
      "Epoch: 121, Loss: 0.024146752431988716\n",
      "Epoch: 121, Loss: 0.014343582093715668\n",
      "Epoch: 122, Loss: 0.020632464438676834\n",
      "Epoch: 122, Loss: 0.04264700785279274\n",
      "Epoch: 123, Loss: 0.03168896213173866\n",
      "Epoch: 123, Loss: 0.05095338821411133\n",
      "Epoch: 124, Loss: 0.004810795187950134\n",
      "Epoch: 124, Loss: 0.04767129570245743\n",
      "Epoch: 125, Loss: 0.01477322168648243\n",
      "Epoch: 125, Loss: 0.04952039569616318\n",
      "Epoch: 126, Loss: 0.01132940873503685\n",
      "Epoch: 126, Loss: 0.02124696597456932\n",
      "Epoch: 127, Loss: 0.04026525467634201\n",
      "Epoch: 127, Loss: 0.017839599400758743\n",
      "Epoch: 128, Loss: 0.017531592398881912\n",
      "Epoch: 128, Loss: 0.035320959985256195\n",
      "Epoch: 129, Loss: 0.00868554413318634\n",
      "Epoch: 129, Loss: 0.06917435675859451\n",
      "Epoch: 130, Loss: 0.028797835111618042\n",
      "Epoch: 130, Loss: 0.04182079806923866\n",
      "Epoch: 131, Loss: 0.014539756812155247\n",
      "Epoch: 131, Loss: 0.03413013368844986\n",
      "Epoch: 132, Loss: 0.010758204385638237\n",
      "Epoch: 132, Loss: 0.04464106261730194\n",
      "Epoch: 133, Loss: 0.028002947568893433\n",
      "Epoch: 133, Loss: 0.017796659842133522\n",
      "Epoch: 134, Loss: 0.031183402985334396\n",
      "Epoch: 134, Loss: 0.017720524221658707\n",
      "Epoch: 135, Loss: 0.02528475783765316\n",
      "Epoch: 135, Loss: 0.022822681814432144\n",
      "Epoch: 136, Loss: 0.012629889883100986\n",
      "Epoch: 136, Loss: 0.018737873062491417\n",
      "Epoch: 137, Loss: 0.010441849008202553\n",
      "Epoch: 137, Loss: 0.007397097069770098\n",
      "Epoch: 138, Loss: 0.0050396607257425785\n",
      "Epoch: 138, Loss: 0.02060088887810707\n",
      "Epoch: 139, Loss: 0.016582220792770386\n",
      "Epoch: 139, Loss: 0.024364445358514786\n",
      "Epoch: 140, Loss: 0.012229818850755692\n",
      "Epoch: 140, Loss: 0.03909754008054733\n",
      "Epoch: 141, Loss: 0.015087021514773369\n",
      "Epoch: 141, Loss: 0.02135651931166649\n",
      "Epoch: 142, Loss: 0.006898433435708284\n",
      "Epoch: 142, Loss: 0.06724049150943756\n",
      "Epoch: 143, Loss: 0.011795769445598125\n",
      "Epoch: 143, Loss: 0.04716910421848297\n",
      "Epoch: 144, Loss: 0.023786868900060654\n",
      "Epoch: 144, Loss: 0.02898077666759491\n",
      "Epoch: 145, Loss: 0.014623597264289856\n",
      "Epoch: 145, Loss: 0.015186564065515995\n",
      "Epoch: 146, Loss: 0.027240276336669922\n",
      "Epoch: 146, Loss: 0.050698280334472656\n",
      "Epoch: 147, Loss: 0.040917448699474335\n",
      "Epoch: 147, Loss: 0.04188170284032822\n",
      "Epoch: 148, Loss: 0.013007081113755703\n",
      "Epoch: 148, Loss: 0.027561623603105545\n",
      "Epoch: 149, Loss: 0.006035023834556341\n",
      "Epoch: 149, Loss: 0.02639276348054409\n"
     ]
    }
   ],
   "source": [
    "#model_frozen.cuda()\n",
    "model_final = train_model(model_frozen, loss_fn2, optimizer2, epochs2)"
   ]
  },
  {
   "cell_type": "code",
   "execution_count": 105,
   "metadata": {
    "colab": {
     "base_uri": "https://localhost:8080/"
    },
    "executionInfo": {
     "elapsed": 7,
     "status": "ok",
     "timestamp": 1653564321372,
     "user": {
      "displayName": "Yusi Qin",
      "userId": "01454558042048653549"
     },
     "user_tz": -120
    },
    "id": "yiJo7YvONle7",
    "outputId": "f00426a2-875a-4a9a-d66f-584f2e5289a4"
   },
   "outputs": [
    {
     "data": {
      "text/plain": [
       "tensor([[1.9117],\n",
       "        [1.9040],\n",
       "        [1.8937],\n",
       "        ...,\n",
       "        [1.8413],\n",
       "        [1.8736],\n",
       "        [1.9032]], device='cuda:0', grad_fn=<AddmmBackward0>)"
      ]
     },
     "execution_count": 105,
     "metadata": {},
     "output_type": "execute_result"
    }
   ],
   "source": [
    "### test model_final on test ###\n",
    "#model_final.cuda()\n",
    "#model_final(test.to(device))"
   ]
  },
  {
   "cell_type": "code",
   "execution_count": 106,
   "metadata": {
    "executionInfo": {
     "elapsed": 313,
     "status": "ok",
     "timestamp": 1653564321681,
     "user": {
      "displayName": "Yusi Qin",
      "userId": "01454558042048653549"
     },
     "user_tz": -120
    },
    "id": "pF08wDjjMoR_"
   },
   "outputs": [],
   "source": [
    "### use frozen layers(except last one) to extract fewer features for regressor function) ###\n",
    "class Final(nn.Module):\n",
    "  def __init__(self, model):\n",
    "    super(Final, self).__init__()\n",
    "    self.frozen = nn.Sequential(*list(model.children())[:-1])\n",
    "\n",
    "  def forward(self, x):\n",
    "    x = self.frozen(x)\n",
    "\n",
    "    return x\n"
   ]
  },
  {
   "cell_type": "code",
   "execution_count": 107,
   "metadata": {
    "colab": {
     "base_uri": "https://localhost:8080/"
    },
    "executionInfo": {
     "elapsed": 11,
     "status": "ok",
     "timestamp": 1653564321681,
     "user": {
      "displayName": "Yusi Qin",
      "userId": "01454558042048653549"
     },
     "user_tz": -120
    },
    "id": "90xIDUX1Mytn",
    "outputId": "672e85c9-1f89-4b67-c301-8e54aec63474"
   },
   "outputs": [
    {
     "data": {
      "text/plain": [
       "tensor([[-0.0020,  0.4201, -0.0022,  ..., -0.0036, -0.0024, -0.0046],\n",
       "        [-0.0021,  0.4063, -0.0023,  ..., -0.0035, -0.0024, -0.0047],\n",
       "        [-0.0021,  0.4109, -0.0023,  ..., -0.0035, -0.0023, -0.0046],\n",
       "        ...,\n",
       "        [-0.0020,  0.4152, -0.0020,  ..., -0.0034, -0.0022, -0.0045],\n",
       "        [-0.0020,  0.4114, -0.0022,  ..., -0.0035, -0.0022, -0.0045],\n",
       "        [-0.0021,  0.4168, -0.0022,  ..., -0.0036, -0.0023, -0.0048]],\n",
       "       device='cuda:0', grad_fn=<LeakyReluBackward0>)"
      ]
     },
     "execution_count": 107,
     "metadata": {},
     "output_type": "execute_result"
    }
   ],
   "source": [
    "### model used for test data ###\n",
    "#model_now.cuda()\n",
    "model = Final(model_now)\n",
    "model(test.to(device))"
   ]
  },
  {
   "cell_type": "code",
   "execution_count": 74,
   "metadata": {},
   "outputs": [
    {
     "data": {
      "text/plain": [
       "torch.Size([100, 256])"
      ]
     },
     "execution_count": 74,
     "metadata": {},
     "output_type": "execute_result"
    }
   ],
   "source": [
    "train_feature = torch.tensor(np.array(train_feature)).float()\n",
    "A=model_frozen(train_feature)\n",
    "A.shape"
   ]
  },
  {
   "cell_type": "code",
   "execution_count": 75,
   "metadata": {
    "executionInfo": {
     "elapsed": 11,
     "status": "ok",
     "timestamp": 1653564321682,
     "user": {
      "displayName": "Yusi Qin",
      "userId": "01454558042048653549"
     },
     "user_tz": -120
    },
    "id": "sPyablN-NXZn"
   },
   "outputs": [],
   "source": [
    "#model.cuda()\n",
    "\n",
    "train_feature = torch.tensor(np.array(train_feature)).float()\n",
    "#train_feature = train_feature.to(device)\n",
    "\n",
    "### extract lower-dimension features from train: input ###\n",
    "input = model_frozen(train_feature).detach().numpy()\n",
    "\n",
    "input = np.array(input)\n",
    "train_label = np.array(train_label)\n",
    "\n",
    "# print(np.shape(train_label))"
   ]
  },
  {
   "cell_type": "code",
   "execution_count": 76,
   "metadata": {},
   "outputs": [
    {
     "data": {
      "text/plain": [
       "(100, 256)"
      ]
     },
     "execution_count": 76,
     "metadata": {},
     "output_type": "execute_result"
    }
   ],
   "source": [
    "input.shape"
   ]
  },
  {
   "cell_type": "code",
   "execution_count": 80,
   "metadata": {},
   "outputs": [],
   "source": [
    "test_1 = model_frozen(test).detach().numpy()"
   ]
  },
  {
   "cell_type": "code",
   "execution_count": null,
   "metadata": {},
   "outputs": [],
   "source": [
    "# torch.tensor(np.array(train_feature)).float()"
   ]
  },
  {
   "cell_type": "code",
   "execution_count": 81,
   "metadata": {
    "colab": {
     "base_uri": "https://localhost:8080/"
    },
    "executionInfo": {
     "elapsed": 11,
     "status": "ok",
     "timestamp": 1653564321683,
     "user": {
      "displayName": "Yusi Qin",
      "userId": "01454558042048653549"
     },
     "user_tz": -120
    },
    "id": "MoiyFmejNyqV",
    "outputId": "d0527a0f-a5b1-4356-fa97-4d06dd0c306d"
   },
   "outputs": [
    {
     "name": "stdout",
     "output_type": "stream",
     "text": [
      "[1.79546383 1.80112204 1.79986944 ... 1.80126682 1.80307831 1.79662134]\n"
     ]
    },
    {
     "name": "stderr",
     "output_type": "stream",
     "text": [
      "C:\\Users\\tyu06\\anaconda3\\lib\\site-packages\\sklearn\\utils\\validation.py:63: DataConversionWarning: A column-vector y was passed when a 1d array was expected. Please change the shape of y to (n_samples, ), for example using ravel().\n",
      "  return f(*args, **kwargs)\n"
     ]
    }
   ],
   "source": [
    "reg = SGDRegressor()\n",
    "\n",
    "# reg = Ridge(fit_intercept=False)\n",
    "\n",
    "#reg = SVR()\n",
    "\n",
    "reg.fit(input, train_label)\n",
    "\n",
    "\n",
    "#test_1 = model_frozen(test).detach().numpy()\n",
    "\n",
    "result = reg.predict(test_1)\n",
    "\n",
    "print(result)\n"
   ]
  },
  {
   "cell_type": "code",
   "execution_count": null,
   "metadata": {},
   "outputs": [],
   "source": []
  },
  {
   "cell_type": "code",
   "execution_count": 110,
   "metadata": {
    "colab": {
     "base_uri": "https://localhost:8080/"
    },
    "executionInfo": {
     "elapsed": 9,
     "status": "ok",
     "timestamp": 1653564321683,
     "user": {
      "displayName": "Yusi Qin",
      "userId": "01454558042048653549"
     },
     "user_tz": -120
    },
    "id": "wSau6lHMwfY-",
    "outputId": "68be1b78-7965-4a2a-c104-47421b44178c"
   },
   "outputs": [
    {
     "name": "stdout",
     "output_type": "stream",
     "text": [
      "         Id         y\n",
      "0     50100  1.882178\n",
      "1     50101  1.875218\n",
      "2     50102  1.865874\n",
      "3     50103  1.857523\n",
      "4     50104  1.884495\n",
      "...     ...       ...\n",
      "9995  60095  1.851087\n",
      "9996  60096  1.870443\n",
      "9997  60097  1.817608\n",
      "9998  60098  1.848355\n",
      "9999  60099  1.874553\n",
      "\n",
      "[10000 rows x 2 columns]\n"
     ]
    }
   ],
   "source": [
    "result = pd.DataFrame(np.asarray(result))\n",
    "result.columns = ['y']\n",
    "result = pd.concat([test_features.Id, result],axis=1)\n",
    "# result.set_index(['Id'], inplace=True)\n",
    "\n",
    "\n",
    "# result = pd.DataFrame(result)\n",
    "# print(result)\n",
    "\n",
    "result.to_csv('result.csv', index=False, header=True)\n",
    "print(result)"
   ]
  },
  {
   "cell_type": "code",
   "execution_count": 111,
   "metadata": {
    "colab": {
     "base_uri": "https://localhost:8080/",
     "height": 17
    },
    "executionInfo": {
     "elapsed": 8,
     "status": "ok",
     "timestamp": 1653564321684,
     "user": {
      "displayName": "Yusi Qin",
      "userId": "01454558042048653549"
     },
     "user_tz": -120
    },
    "id": "2JXEFWf_bZY_",
    "outputId": "7f5e9377-5d52-4f63-c3af-6ead63af870c"
   },
   "outputs": [
    {
     "data": {
      "application/javascript": [
       "\n",
       "    async function download(id, filename, size) {\n",
       "      if (!google.colab.kernel.accessAllowed) {\n",
       "        return;\n",
       "      }\n",
       "      const div = document.createElement('div');\n",
       "      const label = document.createElement('label');\n",
       "      label.textContent = `Downloading \"${filename}\": `;\n",
       "      div.appendChild(label);\n",
       "      const progress = document.createElement('progress');\n",
       "      progress.max = size;\n",
       "      div.appendChild(progress);\n",
       "      document.body.appendChild(div);\n",
       "\n",
       "      const buffers = [];\n",
       "      let downloaded = 0;\n",
       "\n",
       "      const channel = await google.colab.kernel.comms.open(id);\n",
       "      // Send a message to notify the kernel that we're ready.\n",
       "      channel.send({})\n",
       "\n",
       "      for await (const message of channel.messages) {\n",
       "        // Send a message to notify the kernel that we're ready.\n",
       "        channel.send({})\n",
       "        if (message.buffers) {\n",
       "          for (const buffer of message.buffers) {\n",
       "            buffers.push(buffer);\n",
       "            downloaded += buffer.byteLength;\n",
       "            progress.value = downloaded;\n",
       "          }\n",
       "        }\n",
       "      }\n",
       "      const blob = new Blob(buffers, {type: 'application/binary'});\n",
       "      const a = document.createElement('a');\n",
       "      a.href = window.URL.createObjectURL(blob);\n",
       "      a.download = filename;\n",
       "      div.appendChild(a);\n",
       "      a.click();\n",
       "      div.remove();\n",
       "    }\n",
       "  "
      ],
      "text/plain": [
       "<IPython.core.display.Javascript object>"
      ]
     },
     "metadata": {},
     "output_type": "display_data"
    },
    {
     "data": {
      "application/javascript": [
       "download(\"download_7a782663-717c-4772-b00a-0e9d91edfba5\", \"result.csv\", 247516)"
      ],
      "text/plain": [
       "<IPython.core.display.Javascript object>"
      ]
     },
     "metadata": {},
     "output_type": "display_data"
    }
   ],
   "source": [
    "files.download('result.csv') "
   ]
  }
 ],
 "metadata": {
  "accelerator": "GPU",
  "colab": {
   "authorship_tag": "ABX9TyNQRawokzIwBngGDL48K5NA",
   "collapsed_sections": [],
   "machine_shape": "hm",
   "name": "with_regression.ipynb",
   "provenance": []
  },
  "kernelspec": {
   "display_name": "Python 3",
   "language": "python",
   "name": "python3"
  },
  "language_info": {
   "codemirror_mode": {
    "name": "ipython",
    "version": 3
   },
   "file_extension": ".py",
   "mimetype": "text/x-python",
   "name": "python",
   "nbconvert_exporter": "python",
   "pygments_lexer": "ipython3",
   "version": "3.8.8"
  },
  "widgets": {
   "application/vnd.jupyter.widget-state+json": {
    "02cff9da3ac24cf19cd7b3c062a35fbe": {
     "model_module": "@jupyter-widgets/controls",
     "model_module_version": "1.5.0",
     "model_name": "DescriptionStyleModel",
     "state": {
      "_model_module": "@jupyter-widgets/controls",
      "_model_module_version": "1.5.0",
      "_model_name": "DescriptionStyleModel",
      "_view_count": null,
      "_view_module": "@jupyter-widgets/base",
      "_view_module_version": "1.2.0",
      "_view_name": "StyleView",
      "description_width": ""
     }
    },
    "06795bfab21346b88c871d975d7e43cb": {
     "model_module": "@jupyter-widgets/controls",
     "model_module_version": "1.5.0",
     "model_name": "HTMLModel",
     "state": {
      "_dom_classes": [],
      "_model_module": "@jupyter-widgets/controls",
      "_model_module_version": "1.5.0",
      "_model_name": "HTMLModel",
      "_view_count": null,
      "_view_module": "@jupyter-widgets/controls",
      "_view_module_version": "1.5.0",
      "_view_name": "HTMLView",
      "description": "",
      "description_tooltip": null,
      "layout": "IPY_MODEL_dc324863d80646f783603c2ed12e83c9",
      "placeholder": "​",
      "style": "IPY_MODEL_02cff9da3ac24cf19cd7b3c062a35fbe",
      "value": "100%"
     }
    },
    "2ee7f84430c14dd48e83fa08cd459d84": {
     "model_module": "@jupyter-widgets/controls",
     "model_module_version": "1.5.0",
     "model_name": "HTMLModel",
     "state": {
      "_dom_classes": [],
      "_model_module": "@jupyter-widgets/controls",
      "_model_module_version": "1.5.0",
      "_model_name": "HTMLModel",
      "_view_count": null,
      "_view_module": "@jupyter-widgets/controls",
      "_view_module_version": "1.5.0",
      "_view_name": "HTMLView",
      "description": "",
      "description_tooltip": null,
      "layout": "IPY_MODEL_97288d7ed8884834aeaf2d4d98d71417",
      "placeholder": "​",
      "style": "IPY_MODEL_eead20df5ff8408d890b28492e0e1749",
      "value": "100%"
     }
    },
    "2fce19aeca0648c8ba018d4251cdeabf": {
     "model_module": "@jupyter-widgets/controls",
     "model_module_version": "1.5.0",
     "model_name": "HBoxModel",
     "state": {
      "_dom_classes": [],
      "_model_module": "@jupyter-widgets/controls",
      "_model_module_version": "1.5.0",
      "_model_name": "HBoxModel",
      "_view_count": null,
      "_view_module": "@jupyter-widgets/controls",
      "_view_module_version": "1.5.0",
      "_view_name": "HBoxView",
      "box_style": "",
      "children": [
       "IPY_MODEL_06795bfab21346b88c871d975d7e43cb",
       "IPY_MODEL_dae4ee7a100f4daeb0475d9aab0e9f9f",
       "IPY_MODEL_d3f0e105268446ee9337dad17ffd78d3"
      ],
      "layout": "IPY_MODEL_f9f35b79147c40b7b04edb3cbb033422"
     }
    },
    "3cac78e97d5e4754adf59fad195cf7d7": {
     "model_module": "@jupyter-widgets/base",
     "model_module_version": "1.2.0",
     "model_name": "LayoutModel",
     "state": {
      "_model_module": "@jupyter-widgets/base",
      "_model_module_version": "1.2.0",
      "_model_name": "LayoutModel",
      "_view_count": null,
      "_view_module": "@jupyter-widgets/base",
      "_view_module_version": "1.2.0",
      "_view_name": "LayoutView",
      "align_content": null,
      "align_items": null,
      "align_self": null,
      "border": null,
      "bottom": null,
      "display": null,
      "flex": null,
      "flex_flow": null,
      "grid_area": null,
      "grid_auto_columns": null,
      "grid_auto_flow": null,
      "grid_auto_rows": null,
      "grid_column": null,
      "grid_gap": null,
      "grid_row": null,
      "grid_template_areas": null,
      "grid_template_columns": null,
      "grid_template_rows": null,
      "height": null,
      "justify_content": null,
      "justify_items": null,
      "left": null,
      "margin": null,
      "max_height": null,
      "max_width": null,
      "min_height": null,
      "min_width": null,
      "object_fit": null,
      "object_position": null,
      "order": null,
      "overflow": null,
      "overflow_x": null,
      "overflow_y": null,
      "padding": null,
      "right": null,
      "top": null,
      "visibility": null,
      "width": null
     }
    },
    "45265cc17fb041dd8f07024be6902c43": {
     "model_module": "@jupyter-widgets/controls",
     "model_module_version": "1.5.0",
     "model_name": "HBoxModel",
     "state": {
      "_dom_classes": [],
      "_model_module": "@jupyter-widgets/controls",
      "_model_module_version": "1.5.0",
      "_model_name": "HBoxModel",
      "_view_count": null,
      "_view_module": "@jupyter-widgets/controls",
      "_view_module_version": "1.5.0",
      "_view_name": "HBoxView",
      "box_style": "",
      "children": [
       "IPY_MODEL_2ee7f84430c14dd48e83fa08cd459d84",
       "IPY_MODEL_ae3667b6a7ff478b9bd5bf2496d34bd4",
       "IPY_MODEL_85d9f75ddf6c4550ac834bab7f82c3f7"
      ],
      "layout": "IPY_MODEL_a2b944109abd481db18c196550e045a5"
     }
    },
    "5d7875f1ade94d759eecb587847203be": {
     "model_module": "@jupyter-widgets/controls",
     "model_module_version": "1.5.0",
     "model_name": "ProgressStyleModel",
     "state": {
      "_model_module": "@jupyter-widgets/controls",
      "_model_module_version": "1.5.0",
      "_model_name": "ProgressStyleModel",
      "_view_count": null,
      "_view_module": "@jupyter-widgets/base",
      "_view_module_version": "1.2.0",
      "_view_name": "StyleView",
      "bar_color": null,
      "description_width": ""
     }
    },
    "65f4e262218846159bdf408ee1bab932": {
     "model_module": "@jupyter-widgets/controls",
     "model_module_version": "1.5.0",
     "model_name": "DescriptionStyleModel",
     "state": {
      "_model_module": "@jupyter-widgets/controls",
      "_model_module_version": "1.5.0",
      "_model_name": "DescriptionStyleModel",
      "_view_count": null,
      "_view_module": "@jupyter-widgets/base",
      "_view_module_version": "1.2.0",
      "_view_name": "StyleView",
      "description_width": ""
     }
    },
    "717f554cb3474a908aae4f9deef9bc9b": {
     "model_module": "@jupyter-widgets/controls",
     "model_module_version": "1.5.0",
     "model_name": "DescriptionStyleModel",
     "state": {
      "_model_module": "@jupyter-widgets/controls",
      "_model_module_version": "1.5.0",
      "_model_name": "DescriptionStyleModel",
      "_view_count": null,
      "_view_module": "@jupyter-widgets/base",
      "_view_module_version": "1.2.0",
      "_view_name": "StyleView",
      "description_width": ""
     }
    },
    "85d9f75ddf6c4550ac834bab7f82c3f7": {
     "model_module": "@jupyter-widgets/controls",
     "model_module_version": "1.5.0",
     "model_name": "HTMLModel",
     "state": {
      "_dom_classes": [],
      "_model_module": "@jupyter-widgets/controls",
      "_model_module_version": "1.5.0",
      "_model_name": "HTMLModel",
      "_view_count": null,
      "_view_module": "@jupyter-widgets/controls",
      "_view_module_version": "1.5.0",
      "_view_name": "HTMLView",
      "description": "",
      "description_tooltip": null,
      "layout": "IPY_MODEL_3cac78e97d5e4754adf59fad195cf7d7",
      "placeholder": "​",
      "style": "IPY_MODEL_65f4e262218846159bdf408ee1bab932",
      "value": " 100/100 [03:13&lt;00:00,  1.95s/it]"
     }
    },
    "97288d7ed8884834aeaf2d4d98d71417": {
     "model_module": "@jupyter-widgets/base",
     "model_module_version": "1.2.0",
     "model_name": "LayoutModel",
     "state": {
      "_model_module": "@jupyter-widgets/base",
      "_model_module_version": "1.2.0",
      "_model_name": "LayoutModel",
      "_view_count": null,
      "_view_module": "@jupyter-widgets/base",
      "_view_module_version": "1.2.0",
      "_view_name": "LayoutView",
      "align_content": null,
      "align_items": null,
      "align_self": null,
      "border": null,
      "bottom": null,
      "display": null,
      "flex": null,
      "flex_flow": null,
      "grid_area": null,
      "grid_auto_columns": null,
      "grid_auto_flow": null,
      "grid_auto_rows": null,
      "grid_column": null,
      "grid_gap": null,
      "grid_row": null,
      "grid_template_areas": null,
      "grid_template_columns": null,
      "grid_template_rows": null,
      "height": null,
      "justify_content": null,
      "justify_items": null,
      "left": null,
      "margin": null,
      "max_height": null,
      "max_width": null,
      "min_height": null,
      "min_width": null,
      "object_fit": null,
      "object_position": null,
      "order": null,
      "overflow": null,
      "overflow_x": null,
      "overflow_y": null,
      "padding": null,
      "right": null,
      "top": null,
      "visibility": null,
      "width": null
     }
    },
    "a2b944109abd481db18c196550e045a5": {
     "model_module": "@jupyter-widgets/base",
     "model_module_version": "1.2.0",
     "model_name": "LayoutModel",
     "state": {
      "_model_module": "@jupyter-widgets/base",
      "_model_module_version": "1.2.0",
      "_model_name": "LayoutModel",
      "_view_count": null,
      "_view_module": "@jupyter-widgets/base",
      "_view_module_version": "1.2.0",
      "_view_name": "LayoutView",
      "align_content": null,
      "align_items": null,
      "align_self": null,
      "border": null,
      "bottom": null,
      "display": null,
      "flex": null,
      "flex_flow": null,
      "grid_area": null,
      "grid_auto_columns": null,
      "grid_auto_flow": null,
      "grid_auto_rows": null,
      "grid_column": null,
      "grid_gap": null,
      "grid_row": null,
      "grid_template_areas": null,
      "grid_template_columns": null,
      "grid_template_rows": null,
      "height": null,
      "justify_content": null,
      "justify_items": null,
      "left": null,
      "margin": null,
      "max_height": null,
      "max_width": null,
      "min_height": null,
      "min_width": null,
      "object_fit": null,
      "object_position": null,
      "order": null,
      "overflow": null,
      "overflow_x": null,
      "overflow_y": null,
      "padding": null,
      "right": null,
      "top": null,
      "visibility": null,
      "width": null
     }
    },
    "ae3667b6a7ff478b9bd5bf2496d34bd4": {
     "model_module": "@jupyter-widgets/controls",
     "model_module_version": "1.5.0",
     "model_name": "FloatProgressModel",
     "state": {
      "_dom_classes": [],
      "_model_module": "@jupyter-widgets/controls",
      "_model_module_version": "1.5.0",
      "_model_name": "FloatProgressModel",
      "_view_count": null,
      "_view_module": "@jupyter-widgets/controls",
      "_view_module_version": "1.5.0",
      "_view_name": "ProgressView",
      "bar_style": "success",
      "description": "",
      "description_tooltip": null,
      "layout": "IPY_MODEL_c38a4271d5d74af69598c526f5acfa06",
      "max": 100,
      "min": 0,
      "orientation": "horizontal",
      "style": "IPY_MODEL_dea05e2ab628410cb2312fab38cd5396",
      "value": 100
     }
    },
    "c38a4271d5d74af69598c526f5acfa06": {
     "model_module": "@jupyter-widgets/base",
     "model_module_version": "1.2.0",
     "model_name": "LayoutModel",
     "state": {
      "_model_module": "@jupyter-widgets/base",
      "_model_module_version": "1.2.0",
      "_model_name": "LayoutModel",
      "_view_count": null,
      "_view_module": "@jupyter-widgets/base",
      "_view_module_version": "1.2.0",
      "_view_name": "LayoutView",
      "align_content": null,
      "align_items": null,
      "align_self": null,
      "border": null,
      "bottom": null,
      "display": null,
      "flex": null,
      "flex_flow": null,
      "grid_area": null,
      "grid_auto_columns": null,
      "grid_auto_flow": null,
      "grid_auto_rows": null,
      "grid_column": null,
      "grid_gap": null,
      "grid_row": null,
      "grid_template_areas": null,
      "grid_template_columns": null,
      "grid_template_rows": null,
      "height": null,
      "justify_content": null,
      "justify_items": null,
      "left": null,
      "margin": null,
      "max_height": null,
      "max_width": null,
      "min_height": null,
      "min_width": null,
      "object_fit": null,
      "object_position": null,
      "order": null,
      "overflow": null,
      "overflow_x": null,
      "overflow_y": null,
      "padding": null,
      "right": null,
      "top": null,
      "visibility": null,
      "width": null
     }
    },
    "d26bd93a216b46ba92cb71bdcacb2b5f": {
     "model_module": "@jupyter-widgets/base",
     "model_module_version": "1.2.0",
     "model_name": "LayoutModel",
     "state": {
      "_model_module": "@jupyter-widgets/base",
      "_model_module_version": "1.2.0",
      "_model_name": "LayoutModel",
      "_view_count": null,
      "_view_module": "@jupyter-widgets/base",
      "_view_module_version": "1.2.0",
      "_view_name": "LayoutView",
      "align_content": null,
      "align_items": null,
      "align_self": null,
      "border": null,
      "bottom": null,
      "display": null,
      "flex": null,
      "flex_flow": null,
      "grid_area": null,
      "grid_auto_columns": null,
      "grid_auto_flow": null,
      "grid_auto_rows": null,
      "grid_column": null,
      "grid_gap": null,
      "grid_row": null,
      "grid_template_areas": null,
      "grid_template_columns": null,
      "grid_template_rows": null,
      "height": null,
      "justify_content": null,
      "justify_items": null,
      "left": null,
      "margin": null,
      "max_height": null,
      "max_width": null,
      "min_height": null,
      "min_width": null,
      "object_fit": null,
      "object_position": null,
      "order": null,
      "overflow": null,
      "overflow_x": null,
      "overflow_y": null,
      "padding": null,
      "right": null,
      "top": null,
      "visibility": null,
      "width": null
     }
    },
    "d3f0e105268446ee9337dad17ffd78d3": {
     "model_module": "@jupyter-widgets/controls",
     "model_module_version": "1.5.0",
     "model_name": "HTMLModel",
     "state": {
      "_dom_classes": [],
      "_model_module": "@jupyter-widgets/controls",
      "_model_module_version": "1.5.0",
      "_model_name": "HTMLModel",
      "_view_count": null,
      "_view_module": "@jupyter-widgets/controls",
      "_view_module_version": "1.5.0",
      "_view_name": "HTMLView",
      "description": "",
      "description_tooltip": null,
      "layout": "IPY_MODEL_f2d5224e95e04541a3d1302f8e06d660",
      "placeholder": "​",
      "style": "IPY_MODEL_717f554cb3474a908aae4f9deef9bc9b",
      "value": " 150/150 [00:03&lt;00:00, 49.49it/s]"
     }
    },
    "dae4ee7a100f4daeb0475d9aab0e9f9f": {
     "model_module": "@jupyter-widgets/controls",
     "model_module_version": "1.5.0",
     "model_name": "FloatProgressModel",
     "state": {
      "_dom_classes": [],
      "_model_module": "@jupyter-widgets/controls",
      "_model_module_version": "1.5.0",
      "_model_name": "FloatProgressModel",
      "_view_count": null,
      "_view_module": "@jupyter-widgets/controls",
      "_view_module_version": "1.5.0",
      "_view_name": "ProgressView",
      "bar_style": "success",
      "description": "",
      "description_tooltip": null,
      "layout": "IPY_MODEL_d26bd93a216b46ba92cb71bdcacb2b5f",
      "max": 150,
      "min": 0,
      "orientation": "horizontal",
      "style": "IPY_MODEL_5d7875f1ade94d759eecb587847203be",
      "value": 150
     }
    },
    "dc324863d80646f783603c2ed12e83c9": {
     "model_module": "@jupyter-widgets/base",
     "model_module_version": "1.2.0",
     "model_name": "LayoutModel",
     "state": {
      "_model_module": "@jupyter-widgets/base",
      "_model_module_version": "1.2.0",
      "_model_name": "LayoutModel",
      "_view_count": null,
      "_view_module": "@jupyter-widgets/base",
      "_view_module_version": "1.2.0",
      "_view_name": "LayoutView",
      "align_content": null,
      "align_items": null,
      "align_self": null,
      "border": null,
      "bottom": null,
      "display": null,
      "flex": null,
      "flex_flow": null,
      "grid_area": null,
      "grid_auto_columns": null,
      "grid_auto_flow": null,
      "grid_auto_rows": null,
      "grid_column": null,
      "grid_gap": null,
      "grid_row": null,
      "grid_template_areas": null,
      "grid_template_columns": null,
      "grid_template_rows": null,
      "height": null,
      "justify_content": null,
      "justify_items": null,
      "left": null,
      "margin": null,
      "max_height": null,
      "max_width": null,
      "min_height": null,
      "min_width": null,
      "object_fit": null,
      "object_position": null,
      "order": null,
      "overflow": null,
      "overflow_x": null,
      "overflow_y": null,
      "padding": null,
      "right": null,
      "top": null,
      "visibility": null,
      "width": null
     }
    },
    "dea05e2ab628410cb2312fab38cd5396": {
     "model_module": "@jupyter-widgets/controls",
     "model_module_version": "1.5.0",
     "model_name": "ProgressStyleModel",
     "state": {
      "_model_module": "@jupyter-widgets/controls",
      "_model_module_version": "1.5.0",
      "_model_name": "ProgressStyleModel",
      "_view_count": null,
      "_view_module": "@jupyter-widgets/base",
      "_view_module_version": "1.2.0",
      "_view_name": "StyleView",
      "bar_color": null,
      "description_width": ""
     }
    },
    "eead20df5ff8408d890b28492e0e1749": {
     "model_module": "@jupyter-widgets/controls",
     "model_module_version": "1.5.0",
     "model_name": "DescriptionStyleModel",
     "state": {
      "_model_module": "@jupyter-widgets/controls",
      "_model_module_version": "1.5.0",
      "_model_name": "DescriptionStyleModel",
      "_view_count": null,
      "_view_module": "@jupyter-widgets/base",
      "_view_module_version": "1.2.0",
      "_view_name": "StyleView",
      "description_width": ""
     }
    },
    "f2d5224e95e04541a3d1302f8e06d660": {
     "model_module": "@jupyter-widgets/base",
     "model_module_version": "1.2.0",
     "model_name": "LayoutModel",
     "state": {
      "_model_module": "@jupyter-widgets/base",
      "_model_module_version": "1.2.0",
      "_model_name": "LayoutModel",
      "_view_count": null,
      "_view_module": "@jupyter-widgets/base",
      "_view_module_version": "1.2.0",
      "_view_name": "LayoutView",
      "align_content": null,
      "align_items": null,
      "align_self": null,
      "border": null,
      "bottom": null,
      "display": null,
      "flex": null,
      "flex_flow": null,
      "grid_area": null,
      "grid_auto_columns": null,
      "grid_auto_flow": null,
      "grid_auto_rows": null,
      "grid_column": null,
      "grid_gap": null,
      "grid_row": null,
      "grid_template_areas": null,
      "grid_template_columns": null,
      "grid_template_rows": null,
      "height": null,
      "justify_content": null,
      "justify_items": null,
      "left": null,
      "margin": null,
      "max_height": null,
      "max_width": null,
      "min_height": null,
      "min_width": null,
      "object_fit": null,
      "object_position": null,
      "order": null,
      "overflow": null,
      "overflow_x": null,
      "overflow_y": null,
      "padding": null,
      "right": null,
      "top": null,
      "visibility": null,
      "width": null
     }
    },
    "f9f35b79147c40b7b04edb3cbb033422": {
     "model_module": "@jupyter-widgets/base",
     "model_module_version": "1.2.0",
     "model_name": "LayoutModel",
     "state": {
      "_model_module": "@jupyter-widgets/base",
      "_model_module_version": "1.2.0",
      "_model_name": "LayoutModel",
      "_view_count": null,
      "_view_module": "@jupyter-widgets/base",
      "_view_module_version": "1.2.0",
      "_view_name": "LayoutView",
      "align_content": null,
      "align_items": null,
      "align_self": null,
      "border": null,
      "bottom": null,
      "display": null,
      "flex": null,
      "flex_flow": null,
      "grid_area": null,
      "grid_auto_columns": null,
      "grid_auto_flow": null,
      "grid_auto_rows": null,
      "grid_column": null,
      "grid_gap": null,
      "grid_row": null,
      "grid_template_areas": null,
      "grid_template_columns": null,
      "grid_template_rows": null,
      "height": null,
      "justify_content": null,
      "justify_items": null,
      "left": null,
      "margin": null,
      "max_height": null,
      "max_width": null,
      "min_height": null,
      "min_width": null,
      "object_fit": null,
      "object_position": null,
      "order": null,
      "overflow": null,
      "overflow_x": null,
      "overflow_y": null,
      "padding": null,
      "right": null,
      "top": null,
      "visibility": null,
      "width": null
     }
    }
   }
  }
 },
 "nbformat": 4,
 "nbformat_minor": 1
}
